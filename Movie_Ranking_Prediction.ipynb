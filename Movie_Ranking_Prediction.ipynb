{
  "nbformat": 4,
  "nbformat_minor": 0,
  "metadata": {
    "colab": {
      "provenance": [],
      "collapsed_sections": [
        "yvM9ljMRYC0W"
      ],
      "include_colab_link": true
    },
    "kernelspec": {
      "name": "python3",
      "display_name": "Python 3"
    },
    "language_info": {
      "name": "python"
    },
    "widgets": {
      "application/vnd.jupyter.widget-state+json": {
        "f220981bbe7d4c7eb59d5f9e6cab521c": {
          "model_module": "@jupyter-widgets/controls",
          "model_name": "HBoxModel",
          "model_module_version": "1.5.0",
          "state": {
            "_dom_classes": [],
            "_model_module": "@jupyter-widgets/controls",
            "_model_module_version": "1.5.0",
            "_model_name": "HBoxModel",
            "_view_count": null,
            "_view_module": "@jupyter-widgets/controls",
            "_view_module_version": "1.5.0",
            "_view_name": "HBoxView",
            "box_style": "",
            "children": [
              "IPY_MODEL_eaaff6d849024aadb93ca44b9f9b0923",
              "IPY_MODEL_9f74cb5e499d4e5a8f1754159821bedb",
              "IPY_MODEL_991382a155bc4d2f81c71067be6235ed"
            ],
            "layout": "IPY_MODEL_166b0357695c4bdfbd6ca4647bc06241"
          }
        },
        "eaaff6d849024aadb93ca44b9f9b0923": {
          "model_module": "@jupyter-widgets/controls",
          "model_name": "HTMLModel",
          "model_module_version": "1.5.0",
          "state": {
            "_dom_classes": [],
            "_model_module": "@jupyter-widgets/controls",
            "_model_module_version": "1.5.0",
            "_model_name": "HTMLModel",
            "_view_count": null,
            "_view_module": "@jupyter-widgets/controls",
            "_view_module_version": "1.5.0",
            "_view_name": "HTMLView",
            "description": "",
            "description_tooltip": null,
            "layout": "IPY_MODEL_554a9a47b8a942b0b4588ac7559a161e",
            "placeholder": "​",
            "style": "IPY_MODEL_cb0c9580b59a4ce8a3d3062e343c777a",
            "value": "Dl Completed...: 100%"
          }
        },
        "9f74cb5e499d4e5a8f1754159821bedb": {
          "model_module": "@jupyter-widgets/controls",
          "model_name": "FloatProgressModel",
          "model_module_version": "1.5.0",
          "state": {
            "_dom_classes": [],
            "_model_module": "@jupyter-widgets/controls",
            "_model_module_version": "1.5.0",
            "_model_name": "FloatProgressModel",
            "_view_count": null,
            "_view_module": "@jupyter-widgets/controls",
            "_view_module_version": "1.5.0",
            "_view_name": "ProgressView",
            "bar_style": "success",
            "description": "",
            "description_tooltip": null,
            "layout": "IPY_MODEL_6a348b63711744e78c07107b98a05330",
            "max": 1,
            "min": 0,
            "orientation": "horizontal",
            "style": "IPY_MODEL_a459733de64f4bdd9b583d091d86e188",
            "value": 1
          }
        },
        "991382a155bc4d2f81c71067be6235ed": {
          "model_module": "@jupyter-widgets/controls",
          "model_name": "HTMLModel",
          "model_module_version": "1.5.0",
          "state": {
            "_dom_classes": [],
            "_model_module": "@jupyter-widgets/controls",
            "_model_module_version": "1.5.0",
            "_model_name": "HTMLModel",
            "_view_count": null,
            "_view_module": "@jupyter-widgets/controls",
            "_view_module_version": "1.5.0",
            "_view_name": "HTMLView",
            "description": "",
            "description_tooltip": null,
            "layout": "IPY_MODEL_35476b6a9784492b9259c40ebd6749b7",
            "placeholder": "​",
            "style": "IPY_MODEL_71903d66cd174b268a934a76fe834111",
            "value": " 1/1 [00:01&lt;00:00,  1.28 url/s]"
          }
        },
        "166b0357695c4bdfbd6ca4647bc06241": {
          "model_module": "@jupyter-widgets/base",
          "model_name": "LayoutModel",
          "model_module_version": "1.2.0",
          "state": {
            "_model_module": "@jupyter-widgets/base",
            "_model_module_version": "1.2.0",
            "_model_name": "LayoutModel",
            "_view_count": null,
            "_view_module": "@jupyter-widgets/base",
            "_view_module_version": "1.2.0",
            "_view_name": "LayoutView",
            "align_content": null,
            "align_items": null,
            "align_self": null,
            "border": null,
            "bottom": null,
            "display": null,
            "flex": null,
            "flex_flow": null,
            "grid_area": null,
            "grid_auto_columns": null,
            "grid_auto_flow": null,
            "grid_auto_rows": null,
            "grid_column": null,
            "grid_gap": null,
            "grid_row": null,
            "grid_template_areas": null,
            "grid_template_columns": null,
            "grid_template_rows": null,
            "height": null,
            "justify_content": null,
            "justify_items": null,
            "left": null,
            "margin": null,
            "max_height": null,
            "max_width": null,
            "min_height": null,
            "min_width": null,
            "object_fit": null,
            "object_position": null,
            "order": null,
            "overflow": null,
            "overflow_x": null,
            "overflow_y": null,
            "padding": null,
            "right": null,
            "top": null,
            "visibility": null,
            "width": null
          }
        },
        "554a9a47b8a942b0b4588ac7559a161e": {
          "model_module": "@jupyter-widgets/base",
          "model_name": "LayoutModel",
          "model_module_version": "1.2.0",
          "state": {
            "_model_module": "@jupyter-widgets/base",
            "_model_module_version": "1.2.0",
            "_model_name": "LayoutModel",
            "_view_count": null,
            "_view_module": "@jupyter-widgets/base",
            "_view_module_version": "1.2.0",
            "_view_name": "LayoutView",
            "align_content": null,
            "align_items": null,
            "align_self": null,
            "border": null,
            "bottom": null,
            "display": null,
            "flex": null,
            "flex_flow": null,
            "grid_area": null,
            "grid_auto_columns": null,
            "grid_auto_flow": null,
            "grid_auto_rows": null,
            "grid_column": null,
            "grid_gap": null,
            "grid_row": null,
            "grid_template_areas": null,
            "grid_template_columns": null,
            "grid_template_rows": null,
            "height": null,
            "justify_content": null,
            "justify_items": null,
            "left": null,
            "margin": null,
            "max_height": null,
            "max_width": null,
            "min_height": null,
            "min_width": null,
            "object_fit": null,
            "object_position": null,
            "order": null,
            "overflow": null,
            "overflow_x": null,
            "overflow_y": null,
            "padding": null,
            "right": null,
            "top": null,
            "visibility": null,
            "width": null
          }
        },
        "cb0c9580b59a4ce8a3d3062e343c777a": {
          "model_module": "@jupyter-widgets/controls",
          "model_name": "DescriptionStyleModel",
          "model_module_version": "1.5.0",
          "state": {
            "_model_module": "@jupyter-widgets/controls",
            "_model_module_version": "1.5.0",
            "_model_name": "DescriptionStyleModel",
            "_view_count": null,
            "_view_module": "@jupyter-widgets/base",
            "_view_module_version": "1.2.0",
            "_view_name": "StyleView",
            "description_width": ""
          }
        },
        "6a348b63711744e78c07107b98a05330": {
          "model_module": "@jupyter-widgets/base",
          "model_name": "LayoutModel",
          "model_module_version": "1.2.0",
          "state": {
            "_model_module": "@jupyter-widgets/base",
            "_model_module_version": "1.2.0",
            "_model_name": "LayoutModel",
            "_view_count": null,
            "_view_module": "@jupyter-widgets/base",
            "_view_module_version": "1.2.0",
            "_view_name": "LayoutView",
            "align_content": null,
            "align_items": null,
            "align_self": null,
            "border": null,
            "bottom": null,
            "display": null,
            "flex": null,
            "flex_flow": null,
            "grid_area": null,
            "grid_auto_columns": null,
            "grid_auto_flow": null,
            "grid_auto_rows": null,
            "grid_column": null,
            "grid_gap": null,
            "grid_row": null,
            "grid_template_areas": null,
            "grid_template_columns": null,
            "grid_template_rows": null,
            "height": null,
            "justify_content": null,
            "justify_items": null,
            "left": null,
            "margin": null,
            "max_height": null,
            "max_width": null,
            "min_height": null,
            "min_width": null,
            "object_fit": null,
            "object_position": null,
            "order": null,
            "overflow": null,
            "overflow_x": null,
            "overflow_y": null,
            "padding": null,
            "right": null,
            "top": null,
            "visibility": null,
            "width": "20px"
          }
        },
        "a459733de64f4bdd9b583d091d86e188": {
          "model_module": "@jupyter-widgets/controls",
          "model_name": "ProgressStyleModel",
          "model_module_version": "1.5.0",
          "state": {
            "_model_module": "@jupyter-widgets/controls",
            "_model_module_version": "1.5.0",
            "_model_name": "ProgressStyleModel",
            "_view_count": null,
            "_view_module": "@jupyter-widgets/base",
            "_view_module_version": "1.2.0",
            "_view_name": "StyleView",
            "bar_color": null,
            "description_width": ""
          }
        },
        "35476b6a9784492b9259c40ebd6749b7": {
          "model_module": "@jupyter-widgets/base",
          "model_name": "LayoutModel",
          "model_module_version": "1.2.0",
          "state": {
            "_model_module": "@jupyter-widgets/base",
            "_model_module_version": "1.2.0",
            "_model_name": "LayoutModel",
            "_view_count": null,
            "_view_module": "@jupyter-widgets/base",
            "_view_module_version": "1.2.0",
            "_view_name": "LayoutView",
            "align_content": null,
            "align_items": null,
            "align_self": null,
            "border": null,
            "bottom": null,
            "display": null,
            "flex": null,
            "flex_flow": null,
            "grid_area": null,
            "grid_auto_columns": null,
            "grid_auto_flow": null,
            "grid_auto_rows": null,
            "grid_column": null,
            "grid_gap": null,
            "grid_row": null,
            "grid_template_areas": null,
            "grid_template_columns": null,
            "grid_template_rows": null,
            "height": null,
            "justify_content": null,
            "justify_items": null,
            "left": null,
            "margin": null,
            "max_height": null,
            "max_width": null,
            "min_height": null,
            "min_width": null,
            "object_fit": null,
            "object_position": null,
            "order": null,
            "overflow": null,
            "overflow_x": null,
            "overflow_y": null,
            "padding": null,
            "right": null,
            "top": null,
            "visibility": null,
            "width": null
          }
        },
        "71903d66cd174b268a934a76fe834111": {
          "model_module": "@jupyter-widgets/controls",
          "model_name": "DescriptionStyleModel",
          "model_module_version": "1.5.0",
          "state": {
            "_model_module": "@jupyter-widgets/controls",
            "_model_module_version": "1.5.0",
            "_model_name": "DescriptionStyleModel",
            "_view_count": null,
            "_view_module": "@jupyter-widgets/base",
            "_view_module_version": "1.2.0",
            "_view_name": "StyleView",
            "description_width": ""
          }
        },
        "5c5383d3136b4e95a6dd1b3948bc7ddc": {
          "model_module": "@jupyter-widgets/controls",
          "model_name": "HBoxModel",
          "model_module_version": "1.5.0",
          "state": {
            "_dom_classes": [],
            "_model_module": "@jupyter-widgets/controls",
            "_model_module_version": "1.5.0",
            "_model_name": "HBoxModel",
            "_view_count": null,
            "_view_module": "@jupyter-widgets/controls",
            "_view_module_version": "1.5.0",
            "_view_name": "HBoxView",
            "box_style": "",
            "children": [
              "IPY_MODEL_d36a75c2fc9b4a2bb21f56c450b0f9e3",
              "IPY_MODEL_6575c848b75f4f50939705b6a69d1ad4",
              "IPY_MODEL_716e8d52f3ae4b0da60ad9873627c3f6"
            ],
            "layout": "IPY_MODEL_caa7b80aac964211a6ae19f86f8a370c"
          }
        },
        "d36a75c2fc9b4a2bb21f56c450b0f9e3": {
          "model_module": "@jupyter-widgets/controls",
          "model_name": "HTMLModel",
          "model_module_version": "1.5.0",
          "state": {
            "_dom_classes": [],
            "_model_module": "@jupyter-widgets/controls",
            "_model_module_version": "1.5.0",
            "_model_name": "HTMLModel",
            "_view_count": null,
            "_view_module": "@jupyter-widgets/controls",
            "_view_module_version": "1.5.0",
            "_view_name": "HTMLView",
            "description": "",
            "description_tooltip": null,
            "layout": "IPY_MODEL_f7f20b4e0f7445ca8a078476a232d1a1",
            "placeholder": "​",
            "style": "IPY_MODEL_b263f8bc76784119b3fe086c4b074a84",
            "value": "Dl Size...: 100%"
          }
        },
        "6575c848b75f4f50939705b6a69d1ad4": {
          "model_module": "@jupyter-widgets/controls",
          "model_name": "FloatProgressModel",
          "model_module_version": "1.5.0",
          "state": {
            "_dom_classes": [],
            "_model_module": "@jupyter-widgets/controls",
            "_model_module_version": "1.5.0",
            "_model_name": "FloatProgressModel",
            "_view_count": null,
            "_view_module": "@jupyter-widgets/controls",
            "_view_module_version": "1.5.0",
            "_view_name": "ProgressView",
            "bar_style": "success",
            "description": "",
            "description_tooltip": null,
            "layout": "IPY_MODEL_2b8e69cd890f45dea01d1ddfae127229",
            "max": 1,
            "min": 0,
            "orientation": "horizontal",
            "style": "IPY_MODEL_123ca538c9d3453eaaa29bc146eeabd8",
            "value": 1
          }
        },
        "716e8d52f3ae4b0da60ad9873627c3f6": {
          "model_module": "@jupyter-widgets/controls",
          "model_name": "HTMLModel",
          "model_module_version": "1.5.0",
          "state": {
            "_dom_classes": [],
            "_model_module": "@jupyter-widgets/controls",
            "_model_module_version": "1.5.0",
            "_model_name": "HTMLModel",
            "_view_count": null,
            "_view_module": "@jupyter-widgets/controls",
            "_view_module_version": "1.5.0",
            "_view_name": "HTMLView",
            "description": "",
            "description_tooltip": null,
            "layout": "IPY_MODEL_c2262e5aa502473bb245bec0f725d141",
            "placeholder": "​",
            "style": "IPY_MODEL_e196844b94024aabbd157d4fda601000",
            "value": " 4/4 [00:01&lt;00:00,  5.06 MiB/s]"
          }
        },
        "caa7b80aac964211a6ae19f86f8a370c": {
          "model_module": "@jupyter-widgets/base",
          "model_name": "LayoutModel",
          "model_module_version": "1.2.0",
          "state": {
            "_model_module": "@jupyter-widgets/base",
            "_model_module_version": "1.2.0",
            "_model_name": "LayoutModel",
            "_view_count": null,
            "_view_module": "@jupyter-widgets/base",
            "_view_module_version": "1.2.0",
            "_view_name": "LayoutView",
            "align_content": null,
            "align_items": null,
            "align_self": null,
            "border": null,
            "bottom": null,
            "display": null,
            "flex": null,
            "flex_flow": null,
            "grid_area": null,
            "grid_auto_columns": null,
            "grid_auto_flow": null,
            "grid_auto_rows": null,
            "grid_column": null,
            "grid_gap": null,
            "grid_row": null,
            "grid_template_areas": null,
            "grid_template_columns": null,
            "grid_template_rows": null,
            "height": null,
            "justify_content": null,
            "justify_items": null,
            "left": null,
            "margin": null,
            "max_height": null,
            "max_width": null,
            "min_height": null,
            "min_width": null,
            "object_fit": null,
            "object_position": null,
            "order": null,
            "overflow": null,
            "overflow_x": null,
            "overflow_y": null,
            "padding": null,
            "right": null,
            "top": null,
            "visibility": null,
            "width": null
          }
        },
        "f7f20b4e0f7445ca8a078476a232d1a1": {
          "model_module": "@jupyter-widgets/base",
          "model_name": "LayoutModel",
          "model_module_version": "1.2.0",
          "state": {
            "_model_module": "@jupyter-widgets/base",
            "_model_module_version": "1.2.0",
            "_model_name": "LayoutModel",
            "_view_count": null,
            "_view_module": "@jupyter-widgets/base",
            "_view_module_version": "1.2.0",
            "_view_name": "LayoutView",
            "align_content": null,
            "align_items": null,
            "align_self": null,
            "border": null,
            "bottom": null,
            "display": null,
            "flex": null,
            "flex_flow": null,
            "grid_area": null,
            "grid_auto_columns": null,
            "grid_auto_flow": null,
            "grid_auto_rows": null,
            "grid_column": null,
            "grid_gap": null,
            "grid_row": null,
            "grid_template_areas": null,
            "grid_template_columns": null,
            "grid_template_rows": null,
            "height": null,
            "justify_content": null,
            "justify_items": null,
            "left": null,
            "margin": null,
            "max_height": null,
            "max_width": null,
            "min_height": null,
            "min_width": null,
            "object_fit": null,
            "object_position": null,
            "order": null,
            "overflow": null,
            "overflow_x": null,
            "overflow_y": null,
            "padding": null,
            "right": null,
            "top": null,
            "visibility": null,
            "width": null
          }
        },
        "b263f8bc76784119b3fe086c4b074a84": {
          "model_module": "@jupyter-widgets/controls",
          "model_name": "DescriptionStyleModel",
          "model_module_version": "1.5.0",
          "state": {
            "_model_module": "@jupyter-widgets/controls",
            "_model_module_version": "1.5.0",
            "_model_name": "DescriptionStyleModel",
            "_view_count": null,
            "_view_module": "@jupyter-widgets/base",
            "_view_module_version": "1.2.0",
            "_view_name": "StyleView",
            "description_width": ""
          }
        },
        "2b8e69cd890f45dea01d1ddfae127229": {
          "model_module": "@jupyter-widgets/base",
          "model_name": "LayoutModel",
          "model_module_version": "1.2.0",
          "state": {
            "_model_module": "@jupyter-widgets/base",
            "_model_module_version": "1.2.0",
            "_model_name": "LayoutModel",
            "_view_count": null,
            "_view_module": "@jupyter-widgets/base",
            "_view_module_version": "1.2.0",
            "_view_name": "LayoutView",
            "align_content": null,
            "align_items": null,
            "align_self": null,
            "border": null,
            "bottom": null,
            "display": null,
            "flex": null,
            "flex_flow": null,
            "grid_area": null,
            "grid_auto_columns": null,
            "grid_auto_flow": null,
            "grid_auto_rows": null,
            "grid_column": null,
            "grid_gap": null,
            "grid_row": null,
            "grid_template_areas": null,
            "grid_template_columns": null,
            "grid_template_rows": null,
            "height": null,
            "justify_content": null,
            "justify_items": null,
            "left": null,
            "margin": null,
            "max_height": null,
            "max_width": null,
            "min_height": null,
            "min_width": null,
            "object_fit": null,
            "object_position": null,
            "order": null,
            "overflow": null,
            "overflow_x": null,
            "overflow_y": null,
            "padding": null,
            "right": null,
            "top": null,
            "visibility": null,
            "width": "20px"
          }
        },
        "123ca538c9d3453eaaa29bc146eeabd8": {
          "model_module": "@jupyter-widgets/controls",
          "model_name": "ProgressStyleModel",
          "model_module_version": "1.5.0",
          "state": {
            "_model_module": "@jupyter-widgets/controls",
            "_model_module_version": "1.5.0",
            "_model_name": "ProgressStyleModel",
            "_view_count": null,
            "_view_module": "@jupyter-widgets/base",
            "_view_module_version": "1.2.0",
            "_view_name": "StyleView",
            "bar_color": null,
            "description_width": ""
          }
        },
        "c2262e5aa502473bb245bec0f725d141": {
          "model_module": "@jupyter-widgets/base",
          "model_name": "LayoutModel",
          "model_module_version": "1.2.0",
          "state": {
            "_model_module": "@jupyter-widgets/base",
            "_model_module_version": "1.2.0",
            "_model_name": "LayoutModel",
            "_view_count": null,
            "_view_module": "@jupyter-widgets/base",
            "_view_module_version": "1.2.0",
            "_view_name": "LayoutView",
            "align_content": null,
            "align_items": null,
            "align_self": null,
            "border": null,
            "bottom": null,
            "display": null,
            "flex": null,
            "flex_flow": null,
            "grid_area": null,
            "grid_auto_columns": null,
            "grid_auto_flow": null,
            "grid_auto_rows": null,
            "grid_column": null,
            "grid_gap": null,
            "grid_row": null,
            "grid_template_areas": null,
            "grid_template_columns": null,
            "grid_template_rows": null,
            "height": null,
            "justify_content": null,
            "justify_items": null,
            "left": null,
            "margin": null,
            "max_height": null,
            "max_width": null,
            "min_height": null,
            "min_width": null,
            "object_fit": null,
            "object_position": null,
            "order": null,
            "overflow": null,
            "overflow_x": null,
            "overflow_y": null,
            "padding": null,
            "right": null,
            "top": null,
            "visibility": null,
            "width": null
          }
        },
        "e196844b94024aabbd157d4fda601000": {
          "model_module": "@jupyter-widgets/controls",
          "model_name": "DescriptionStyleModel",
          "model_module_version": "1.5.0",
          "state": {
            "_model_module": "@jupyter-widgets/controls",
            "_model_module_version": "1.5.0",
            "_model_name": "DescriptionStyleModel",
            "_view_count": null,
            "_view_module": "@jupyter-widgets/base",
            "_view_module_version": "1.2.0",
            "_view_name": "StyleView",
            "description_width": ""
          }
        },
        "cea9f912ad1e4ee28e5856e0cb64630d": {
          "model_module": "@jupyter-widgets/controls",
          "model_name": "HBoxModel",
          "model_module_version": "1.5.0",
          "state": {
            "_dom_classes": [],
            "_model_module": "@jupyter-widgets/controls",
            "_model_module_version": "1.5.0",
            "_model_name": "HBoxModel",
            "_view_count": null,
            "_view_module": "@jupyter-widgets/controls",
            "_view_module_version": "1.5.0",
            "_view_name": "HBoxView",
            "box_style": "",
            "children": [
              "IPY_MODEL_f1036a2878fd4162b43644785a89032f",
              "IPY_MODEL_af157fe31b2d444197717de91f9dbfb1",
              "IPY_MODEL_fb0d8d77bcb74288b52096342e3c8c00"
            ],
            "layout": "IPY_MODEL_04c1e3ca1544449ab4c2953abfbbf6fc"
          }
        },
        "f1036a2878fd4162b43644785a89032f": {
          "model_module": "@jupyter-widgets/controls",
          "model_name": "HTMLModel",
          "model_module_version": "1.5.0",
          "state": {
            "_dom_classes": [],
            "_model_module": "@jupyter-widgets/controls",
            "_model_module_version": "1.5.0",
            "_model_name": "HTMLModel",
            "_view_count": null,
            "_view_module": "@jupyter-widgets/controls",
            "_view_module_version": "1.5.0",
            "_view_name": "HTMLView",
            "description": "",
            "description_tooltip": null,
            "layout": "IPY_MODEL_befa606259734623a95ecfa9a7b2d14a",
            "placeholder": "​",
            "style": "IPY_MODEL_0278c9f414504cab90837a498d9c6ac2",
            "value": "Extraction completed...: 100%"
          }
        },
        "af157fe31b2d444197717de91f9dbfb1": {
          "model_module": "@jupyter-widgets/controls",
          "model_name": "FloatProgressModel",
          "model_module_version": "1.5.0",
          "state": {
            "_dom_classes": [],
            "_model_module": "@jupyter-widgets/controls",
            "_model_module_version": "1.5.0",
            "_model_name": "FloatProgressModel",
            "_view_count": null,
            "_view_module": "@jupyter-widgets/controls",
            "_view_module_version": "1.5.0",
            "_view_name": "ProgressView",
            "bar_style": "success",
            "description": "",
            "description_tooltip": null,
            "layout": "IPY_MODEL_c328314addfb4a31932643305eb306b0",
            "max": 1,
            "min": 0,
            "orientation": "horizontal",
            "style": "IPY_MODEL_6bac9a58d7a4440a90ada4270de3315c",
            "value": 1
          }
        },
        "fb0d8d77bcb74288b52096342e3c8c00": {
          "model_module": "@jupyter-widgets/controls",
          "model_name": "HTMLModel",
          "model_module_version": "1.5.0",
          "state": {
            "_dom_classes": [],
            "_model_module": "@jupyter-widgets/controls",
            "_model_module_version": "1.5.0",
            "_model_name": "HTMLModel",
            "_view_count": null,
            "_view_module": "@jupyter-widgets/controls",
            "_view_module_version": "1.5.0",
            "_view_name": "HTMLView",
            "description": "",
            "description_tooltip": null,
            "layout": "IPY_MODEL_b531b01f5ce04492825cf1931545724b",
            "placeholder": "​",
            "style": "IPY_MODEL_074b2ab1fb8f4171adbf76e736f624d8",
            "value": " 23/23 [00:01&lt;00:00,  1.04 file/s]"
          }
        },
        "04c1e3ca1544449ab4c2953abfbbf6fc": {
          "model_module": "@jupyter-widgets/base",
          "model_name": "LayoutModel",
          "model_module_version": "1.2.0",
          "state": {
            "_model_module": "@jupyter-widgets/base",
            "_model_module_version": "1.2.0",
            "_model_name": "LayoutModel",
            "_view_count": null,
            "_view_module": "@jupyter-widgets/base",
            "_view_module_version": "1.2.0",
            "_view_name": "LayoutView",
            "align_content": null,
            "align_items": null,
            "align_self": null,
            "border": null,
            "bottom": null,
            "display": null,
            "flex": null,
            "flex_flow": null,
            "grid_area": null,
            "grid_auto_columns": null,
            "grid_auto_flow": null,
            "grid_auto_rows": null,
            "grid_column": null,
            "grid_gap": null,
            "grid_row": null,
            "grid_template_areas": null,
            "grid_template_columns": null,
            "grid_template_rows": null,
            "height": null,
            "justify_content": null,
            "justify_items": null,
            "left": null,
            "margin": null,
            "max_height": null,
            "max_width": null,
            "min_height": null,
            "min_width": null,
            "object_fit": null,
            "object_position": null,
            "order": null,
            "overflow": null,
            "overflow_x": null,
            "overflow_y": null,
            "padding": null,
            "right": null,
            "top": null,
            "visibility": null,
            "width": null
          }
        },
        "befa606259734623a95ecfa9a7b2d14a": {
          "model_module": "@jupyter-widgets/base",
          "model_name": "LayoutModel",
          "model_module_version": "1.2.0",
          "state": {
            "_model_module": "@jupyter-widgets/base",
            "_model_module_version": "1.2.0",
            "_model_name": "LayoutModel",
            "_view_count": null,
            "_view_module": "@jupyter-widgets/base",
            "_view_module_version": "1.2.0",
            "_view_name": "LayoutView",
            "align_content": null,
            "align_items": null,
            "align_self": null,
            "border": null,
            "bottom": null,
            "display": null,
            "flex": null,
            "flex_flow": null,
            "grid_area": null,
            "grid_auto_columns": null,
            "grid_auto_flow": null,
            "grid_auto_rows": null,
            "grid_column": null,
            "grid_gap": null,
            "grid_row": null,
            "grid_template_areas": null,
            "grid_template_columns": null,
            "grid_template_rows": null,
            "height": null,
            "justify_content": null,
            "justify_items": null,
            "left": null,
            "margin": null,
            "max_height": null,
            "max_width": null,
            "min_height": null,
            "min_width": null,
            "object_fit": null,
            "object_position": null,
            "order": null,
            "overflow": null,
            "overflow_x": null,
            "overflow_y": null,
            "padding": null,
            "right": null,
            "top": null,
            "visibility": null,
            "width": null
          }
        },
        "0278c9f414504cab90837a498d9c6ac2": {
          "model_module": "@jupyter-widgets/controls",
          "model_name": "DescriptionStyleModel",
          "model_module_version": "1.5.0",
          "state": {
            "_model_module": "@jupyter-widgets/controls",
            "_model_module_version": "1.5.0",
            "_model_name": "DescriptionStyleModel",
            "_view_count": null,
            "_view_module": "@jupyter-widgets/base",
            "_view_module_version": "1.2.0",
            "_view_name": "StyleView",
            "description_width": ""
          }
        },
        "c328314addfb4a31932643305eb306b0": {
          "model_module": "@jupyter-widgets/base",
          "model_name": "LayoutModel",
          "model_module_version": "1.2.0",
          "state": {
            "_model_module": "@jupyter-widgets/base",
            "_model_module_version": "1.2.0",
            "_model_name": "LayoutModel",
            "_view_count": null,
            "_view_module": "@jupyter-widgets/base",
            "_view_module_version": "1.2.0",
            "_view_name": "LayoutView",
            "align_content": null,
            "align_items": null,
            "align_self": null,
            "border": null,
            "bottom": null,
            "display": null,
            "flex": null,
            "flex_flow": null,
            "grid_area": null,
            "grid_auto_columns": null,
            "grid_auto_flow": null,
            "grid_auto_rows": null,
            "grid_column": null,
            "grid_gap": null,
            "grid_row": null,
            "grid_template_areas": null,
            "grid_template_columns": null,
            "grid_template_rows": null,
            "height": null,
            "justify_content": null,
            "justify_items": null,
            "left": null,
            "margin": null,
            "max_height": null,
            "max_width": null,
            "min_height": null,
            "min_width": null,
            "object_fit": null,
            "object_position": null,
            "order": null,
            "overflow": null,
            "overflow_x": null,
            "overflow_y": null,
            "padding": null,
            "right": null,
            "top": null,
            "visibility": null,
            "width": "20px"
          }
        },
        "6bac9a58d7a4440a90ada4270de3315c": {
          "model_module": "@jupyter-widgets/controls",
          "model_name": "ProgressStyleModel",
          "model_module_version": "1.5.0",
          "state": {
            "_model_module": "@jupyter-widgets/controls",
            "_model_module_version": "1.5.0",
            "_model_name": "ProgressStyleModel",
            "_view_count": null,
            "_view_module": "@jupyter-widgets/base",
            "_view_module_version": "1.2.0",
            "_view_name": "StyleView",
            "bar_color": null,
            "description_width": ""
          }
        },
        "b531b01f5ce04492825cf1931545724b": {
          "model_module": "@jupyter-widgets/base",
          "model_name": "LayoutModel",
          "model_module_version": "1.2.0",
          "state": {
            "_model_module": "@jupyter-widgets/base",
            "_model_module_version": "1.2.0",
            "_model_name": "LayoutModel",
            "_view_count": null,
            "_view_module": "@jupyter-widgets/base",
            "_view_module_version": "1.2.0",
            "_view_name": "LayoutView",
            "align_content": null,
            "align_items": null,
            "align_self": null,
            "border": null,
            "bottom": null,
            "display": null,
            "flex": null,
            "flex_flow": null,
            "grid_area": null,
            "grid_auto_columns": null,
            "grid_auto_flow": null,
            "grid_auto_rows": null,
            "grid_column": null,
            "grid_gap": null,
            "grid_row": null,
            "grid_template_areas": null,
            "grid_template_columns": null,
            "grid_template_rows": null,
            "height": null,
            "justify_content": null,
            "justify_items": null,
            "left": null,
            "margin": null,
            "max_height": null,
            "max_width": null,
            "min_height": null,
            "min_width": null,
            "object_fit": null,
            "object_position": null,
            "order": null,
            "overflow": null,
            "overflow_x": null,
            "overflow_y": null,
            "padding": null,
            "right": null,
            "top": null,
            "visibility": null,
            "width": null
          }
        },
        "074b2ab1fb8f4171adbf76e736f624d8": {
          "model_module": "@jupyter-widgets/controls",
          "model_name": "DescriptionStyleModel",
          "model_module_version": "1.5.0",
          "state": {
            "_model_module": "@jupyter-widgets/controls",
            "_model_module_version": "1.5.0",
            "_model_name": "DescriptionStyleModel",
            "_view_count": null,
            "_view_module": "@jupyter-widgets/base",
            "_view_module_version": "1.2.0",
            "_view_name": "StyleView",
            "description_width": ""
          }
        },
        "794126aff3ab4045b3ddfa13385b08e0": {
          "model_module": "@jupyter-widgets/controls",
          "model_name": "HBoxModel",
          "model_module_version": "1.5.0",
          "state": {
            "_dom_classes": [],
            "_model_module": "@jupyter-widgets/controls",
            "_model_module_version": "1.5.0",
            "_model_name": "HBoxModel",
            "_view_count": null,
            "_view_module": "@jupyter-widgets/controls",
            "_view_module_version": "1.5.0",
            "_view_name": "HBoxView",
            "box_style": "",
            "children": [
              "IPY_MODEL_98d1adfa38d84c51943f8a0cb6269a0d",
              "IPY_MODEL_cc0626bdfacb42e09680d3cc3fdc2c97",
              "IPY_MODEL_932cdcfe37ef46e78d5227a33561acb2"
            ],
            "layout": "IPY_MODEL_ab38c4746a7440faa4e6908b29849fe5"
          }
        },
        "98d1adfa38d84c51943f8a0cb6269a0d": {
          "model_module": "@jupyter-widgets/controls",
          "model_name": "HTMLModel",
          "model_module_version": "1.5.0",
          "state": {
            "_dom_classes": [],
            "_model_module": "@jupyter-widgets/controls",
            "_model_module_version": "1.5.0",
            "_model_name": "HTMLModel",
            "_view_count": null,
            "_view_module": "@jupyter-widgets/controls",
            "_view_module_version": "1.5.0",
            "_view_name": "HTMLView",
            "description": "",
            "description_tooltip": null,
            "layout": "IPY_MODEL_d0a50eaff72044cf983fbaf6c5513902",
            "placeholder": "​",
            "style": "IPY_MODEL_8b830d1f163646d1ae7c5a6c4f9ebd1f",
            "value": "Generating splits...: 100%"
          }
        },
        "cc0626bdfacb42e09680d3cc3fdc2c97": {
          "model_module": "@jupyter-widgets/controls",
          "model_name": "FloatProgressModel",
          "model_module_version": "1.5.0",
          "state": {
            "_dom_classes": [],
            "_model_module": "@jupyter-widgets/controls",
            "_model_module_version": "1.5.0",
            "_model_name": "FloatProgressModel",
            "_view_count": null,
            "_view_module": "@jupyter-widgets/controls",
            "_view_module_version": "1.5.0",
            "_view_name": "ProgressView",
            "bar_style": "",
            "description": "",
            "description_tooltip": null,
            "layout": "IPY_MODEL_ea1478672d2e4b68a03aa758f5ca2977",
            "max": 1,
            "min": 0,
            "orientation": "horizontal",
            "style": "IPY_MODEL_9b37a5ed2cc54c24b8ba3b729e479251",
            "value": 1
          }
        },
        "932cdcfe37ef46e78d5227a33561acb2": {
          "model_module": "@jupyter-widgets/controls",
          "model_name": "HTMLModel",
          "model_module_version": "1.5.0",
          "state": {
            "_dom_classes": [],
            "_model_module": "@jupyter-widgets/controls",
            "_model_module_version": "1.5.0",
            "_model_name": "HTMLModel",
            "_view_count": null,
            "_view_module": "@jupyter-widgets/controls",
            "_view_module_version": "1.5.0",
            "_view_name": "HTMLView",
            "description": "",
            "description_tooltip": null,
            "layout": "IPY_MODEL_149a4978653347fdb34280af39ea7fff",
            "placeholder": "​",
            "style": "IPY_MODEL_8b76d2c6d34b40d1ba796e2d05b1707c",
            "value": " 1/1 [01:12&lt;00:00, 72.67s/ splits]"
          }
        },
        "ab38c4746a7440faa4e6908b29849fe5": {
          "model_module": "@jupyter-widgets/base",
          "model_name": "LayoutModel",
          "model_module_version": "1.2.0",
          "state": {
            "_model_module": "@jupyter-widgets/base",
            "_model_module_version": "1.2.0",
            "_model_name": "LayoutModel",
            "_view_count": null,
            "_view_module": "@jupyter-widgets/base",
            "_view_module_version": "1.2.0",
            "_view_name": "LayoutView",
            "align_content": null,
            "align_items": null,
            "align_self": null,
            "border": null,
            "bottom": null,
            "display": null,
            "flex": null,
            "flex_flow": null,
            "grid_area": null,
            "grid_auto_columns": null,
            "grid_auto_flow": null,
            "grid_auto_rows": null,
            "grid_column": null,
            "grid_gap": null,
            "grid_row": null,
            "grid_template_areas": null,
            "grid_template_columns": null,
            "grid_template_rows": null,
            "height": null,
            "justify_content": null,
            "justify_items": null,
            "left": null,
            "margin": null,
            "max_height": null,
            "max_width": null,
            "min_height": null,
            "min_width": null,
            "object_fit": null,
            "object_position": null,
            "order": null,
            "overflow": null,
            "overflow_x": null,
            "overflow_y": null,
            "padding": null,
            "right": null,
            "top": null,
            "visibility": "hidden",
            "width": null
          }
        },
        "d0a50eaff72044cf983fbaf6c5513902": {
          "model_module": "@jupyter-widgets/base",
          "model_name": "LayoutModel",
          "model_module_version": "1.2.0",
          "state": {
            "_model_module": "@jupyter-widgets/base",
            "_model_module_version": "1.2.0",
            "_model_name": "LayoutModel",
            "_view_count": null,
            "_view_module": "@jupyter-widgets/base",
            "_view_module_version": "1.2.0",
            "_view_name": "LayoutView",
            "align_content": null,
            "align_items": null,
            "align_self": null,
            "border": null,
            "bottom": null,
            "display": null,
            "flex": null,
            "flex_flow": null,
            "grid_area": null,
            "grid_auto_columns": null,
            "grid_auto_flow": null,
            "grid_auto_rows": null,
            "grid_column": null,
            "grid_gap": null,
            "grid_row": null,
            "grid_template_areas": null,
            "grid_template_columns": null,
            "grid_template_rows": null,
            "height": null,
            "justify_content": null,
            "justify_items": null,
            "left": null,
            "margin": null,
            "max_height": null,
            "max_width": null,
            "min_height": null,
            "min_width": null,
            "object_fit": null,
            "object_position": null,
            "order": null,
            "overflow": null,
            "overflow_x": null,
            "overflow_y": null,
            "padding": null,
            "right": null,
            "top": null,
            "visibility": null,
            "width": null
          }
        },
        "8b830d1f163646d1ae7c5a6c4f9ebd1f": {
          "model_module": "@jupyter-widgets/controls",
          "model_name": "DescriptionStyleModel",
          "model_module_version": "1.5.0",
          "state": {
            "_model_module": "@jupyter-widgets/controls",
            "_model_module_version": "1.5.0",
            "_model_name": "DescriptionStyleModel",
            "_view_count": null,
            "_view_module": "@jupyter-widgets/base",
            "_view_module_version": "1.2.0",
            "_view_name": "StyleView",
            "description_width": ""
          }
        },
        "ea1478672d2e4b68a03aa758f5ca2977": {
          "model_module": "@jupyter-widgets/base",
          "model_name": "LayoutModel",
          "model_module_version": "1.2.0",
          "state": {
            "_model_module": "@jupyter-widgets/base",
            "_model_module_version": "1.2.0",
            "_model_name": "LayoutModel",
            "_view_count": null,
            "_view_module": "@jupyter-widgets/base",
            "_view_module_version": "1.2.0",
            "_view_name": "LayoutView",
            "align_content": null,
            "align_items": null,
            "align_self": null,
            "border": null,
            "bottom": null,
            "display": null,
            "flex": null,
            "flex_flow": null,
            "grid_area": null,
            "grid_auto_columns": null,
            "grid_auto_flow": null,
            "grid_auto_rows": null,
            "grid_column": null,
            "grid_gap": null,
            "grid_row": null,
            "grid_template_areas": null,
            "grid_template_columns": null,
            "grid_template_rows": null,
            "height": null,
            "justify_content": null,
            "justify_items": null,
            "left": null,
            "margin": null,
            "max_height": null,
            "max_width": null,
            "min_height": null,
            "min_width": null,
            "object_fit": null,
            "object_position": null,
            "order": null,
            "overflow": null,
            "overflow_x": null,
            "overflow_y": null,
            "padding": null,
            "right": null,
            "top": null,
            "visibility": null,
            "width": null
          }
        },
        "9b37a5ed2cc54c24b8ba3b729e479251": {
          "model_module": "@jupyter-widgets/controls",
          "model_name": "ProgressStyleModel",
          "model_module_version": "1.5.0",
          "state": {
            "_model_module": "@jupyter-widgets/controls",
            "_model_module_version": "1.5.0",
            "_model_name": "ProgressStyleModel",
            "_view_count": null,
            "_view_module": "@jupyter-widgets/base",
            "_view_module_version": "1.2.0",
            "_view_name": "StyleView",
            "bar_color": null,
            "description_width": ""
          }
        },
        "149a4978653347fdb34280af39ea7fff": {
          "model_module": "@jupyter-widgets/base",
          "model_name": "LayoutModel",
          "model_module_version": "1.2.0",
          "state": {
            "_model_module": "@jupyter-widgets/base",
            "_model_module_version": "1.2.0",
            "_model_name": "LayoutModel",
            "_view_count": null,
            "_view_module": "@jupyter-widgets/base",
            "_view_module_version": "1.2.0",
            "_view_name": "LayoutView",
            "align_content": null,
            "align_items": null,
            "align_self": null,
            "border": null,
            "bottom": null,
            "display": null,
            "flex": null,
            "flex_flow": null,
            "grid_area": null,
            "grid_auto_columns": null,
            "grid_auto_flow": null,
            "grid_auto_rows": null,
            "grid_column": null,
            "grid_gap": null,
            "grid_row": null,
            "grid_template_areas": null,
            "grid_template_columns": null,
            "grid_template_rows": null,
            "height": null,
            "justify_content": null,
            "justify_items": null,
            "left": null,
            "margin": null,
            "max_height": null,
            "max_width": null,
            "min_height": null,
            "min_width": null,
            "object_fit": null,
            "object_position": null,
            "order": null,
            "overflow": null,
            "overflow_x": null,
            "overflow_y": null,
            "padding": null,
            "right": null,
            "top": null,
            "visibility": null,
            "width": null
          }
        },
        "8b76d2c6d34b40d1ba796e2d05b1707c": {
          "model_module": "@jupyter-widgets/controls",
          "model_name": "DescriptionStyleModel",
          "model_module_version": "1.5.0",
          "state": {
            "_model_module": "@jupyter-widgets/controls",
            "_model_module_version": "1.5.0",
            "_model_name": "DescriptionStyleModel",
            "_view_count": null,
            "_view_module": "@jupyter-widgets/base",
            "_view_module_version": "1.2.0",
            "_view_name": "StyleView",
            "description_width": ""
          }
        },
        "9f6511546a384b3aa631166761a3cb46": {
          "model_module": "@jupyter-widgets/controls",
          "model_name": "HBoxModel",
          "model_module_version": "1.5.0",
          "state": {
            "_dom_classes": [],
            "_model_module": "@jupyter-widgets/controls",
            "_model_module_version": "1.5.0",
            "_model_name": "HBoxModel",
            "_view_count": null,
            "_view_module": "@jupyter-widgets/controls",
            "_view_module_version": "1.5.0",
            "_view_name": "HBoxView",
            "box_style": "",
            "children": [
              "IPY_MODEL_3d5939091cff43a1a7861b1084cc38d9",
              "IPY_MODEL_f0e726db84ef4b96b9ba5ec263f746e8",
              "IPY_MODEL_c6eb0ce612274ce5983bad93260e54e8"
            ],
            "layout": "IPY_MODEL_71f893372ecd43d1a08f97f7b6754120"
          }
        },
        "3d5939091cff43a1a7861b1084cc38d9": {
          "model_module": "@jupyter-widgets/controls",
          "model_name": "HTMLModel",
          "model_module_version": "1.5.0",
          "state": {
            "_dom_classes": [],
            "_model_module": "@jupyter-widgets/controls",
            "_model_module_version": "1.5.0",
            "_model_name": "HTMLModel",
            "_view_count": null,
            "_view_module": "@jupyter-widgets/controls",
            "_view_module_version": "1.5.0",
            "_view_name": "HTMLView",
            "description": "",
            "description_tooltip": null,
            "layout": "IPY_MODEL_01053b1dd2024a9d80bd75de7302e2db",
            "placeholder": "​",
            "style": "IPY_MODEL_a6a9cdd0fbaa490a80a1b7df61e3414f",
            "value": "Generating train examples...: 100%"
          }
        },
        "f0e726db84ef4b96b9ba5ec263f746e8": {
          "model_module": "@jupyter-widgets/controls",
          "model_name": "FloatProgressModel",
          "model_module_version": "1.5.0",
          "state": {
            "_dom_classes": [],
            "_model_module": "@jupyter-widgets/controls",
            "_model_module_version": "1.5.0",
            "_model_name": "FloatProgressModel",
            "_view_count": null,
            "_view_module": "@jupyter-widgets/controls",
            "_view_module_version": "1.5.0",
            "_view_name": "ProgressView",
            "bar_style": "",
            "description": "",
            "description_tooltip": null,
            "layout": "IPY_MODEL_794675c409454787aca3fae5b43bdba7",
            "max": 100000,
            "min": 0,
            "orientation": "horizontal",
            "style": "IPY_MODEL_dc0623a31d354906beae6ac46e228852",
            "value": 100000
          }
        },
        "c6eb0ce612274ce5983bad93260e54e8": {
          "model_module": "@jupyter-widgets/controls",
          "model_name": "HTMLModel",
          "model_module_version": "1.5.0",
          "state": {
            "_dom_classes": [],
            "_model_module": "@jupyter-widgets/controls",
            "_model_module_version": "1.5.0",
            "_model_name": "HTMLModel",
            "_view_count": null,
            "_view_module": "@jupyter-widgets/controls",
            "_view_module_version": "1.5.0",
            "_view_name": "HTMLView",
            "description": "",
            "description_tooltip": null,
            "layout": "IPY_MODEL_8d2f98118d84433489845c582cc2859b",
            "placeholder": "​",
            "style": "IPY_MODEL_9f4030f5c6584d4e9b0c6455a4f43a2e",
            "value": " 99846/100000 [01:12&lt;00:00, 1955.44 examples/s]"
          }
        },
        "71f893372ecd43d1a08f97f7b6754120": {
          "model_module": "@jupyter-widgets/base",
          "model_name": "LayoutModel",
          "model_module_version": "1.2.0",
          "state": {
            "_model_module": "@jupyter-widgets/base",
            "_model_module_version": "1.2.0",
            "_model_name": "LayoutModel",
            "_view_count": null,
            "_view_module": "@jupyter-widgets/base",
            "_view_module_version": "1.2.0",
            "_view_name": "LayoutView",
            "align_content": null,
            "align_items": null,
            "align_self": null,
            "border": null,
            "bottom": null,
            "display": null,
            "flex": null,
            "flex_flow": null,
            "grid_area": null,
            "grid_auto_columns": null,
            "grid_auto_flow": null,
            "grid_auto_rows": null,
            "grid_column": null,
            "grid_gap": null,
            "grid_row": null,
            "grid_template_areas": null,
            "grid_template_columns": null,
            "grid_template_rows": null,
            "height": null,
            "justify_content": null,
            "justify_items": null,
            "left": null,
            "margin": null,
            "max_height": null,
            "max_width": null,
            "min_height": null,
            "min_width": null,
            "object_fit": null,
            "object_position": null,
            "order": null,
            "overflow": null,
            "overflow_x": null,
            "overflow_y": null,
            "padding": null,
            "right": null,
            "top": null,
            "visibility": "hidden",
            "width": null
          }
        },
        "01053b1dd2024a9d80bd75de7302e2db": {
          "model_module": "@jupyter-widgets/base",
          "model_name": "LayoutModel",
          "model_module_version": "1.2.0",
          "state": {
            "_model_module": "@jupyter-widgets/base",
            "_model_module_version": "1.2.0",
            "_model_name": "LayoutModel",
            "_view_count": null,
            "_view_module": "@jupyter-widgets/base",
            "_view_module_version": "1.2.0",
            "_view_name": "LayoutView",
            "align_content": null,
            "align_items": null,
            "align_self": null,
            "border": null,
            "bottom": null,
            "display": null,
            "flex": null,
            "flex_flow": null,
            "grid_area": null,
            "grid_auto_columns": null,
            "grid_auto_flow": null,
            "grid_auto_rows": null,
            "grid_column": null,
            "grid_gap": null,
            "grid_row": null,
            "grid_template_areas": null,
            "grid_template_columns": null,
            "grid_template_rows": null,
            "height": null,
            "justify_content": null,
            "justify_items": null,
            "left": null,
            "margin": null,
            "max_height": null,
            "max_width": null,
            "min_height": null,
            "min_width": null,
            "object_fit": null,
            "object_position": null,
            "order": null,
            "overflow": null,
            "overflow_x": null,
            "overflow_y": null,
            "padding": null,
            "right": null,
            "top": null,
            "visibility": null,
            "width": null
          }
        },
        "a6a9cdd0fbaa490a80a1b7df61e3414f": {
          "model_module": "@jupyter-widgets/controls",
          "model_name": "DescriptionStyleModel",
          "model_module_version": "1.5.0",
          "state": {
            "_model_module": "@jupyter-widgets/controls",
            "_model_module_version": "1.5.0",
            "_model_name": "DescriptionStyleModel",
            "_view_count": null,
            "_view_module": "@jupyter-widgets/base",
            "_view_module_version": "1.2.0",
            "_view_name": "StyleView",
            "description_width": ""
          }
        },
        "794675c409454787aca3fae5b43bdba7": {
          "model_module": "@jupyter-widgets/base",
          "model_name": "LayoutModel",
          "model_module_version": "1.2.0",
          "state": {
            "_model_module": "@jupyter-widgets/base",
            "_model_module_version": "1.2.0",
            "_model_name": "LayoutModel",
            "_view_count": null,
            "_view_module": "@jupyter-widgets/base",
            "_view_module_version": "1.2.0",
            "_view_name": "LayoutView",
            "align_content": null,
            "align_items": null,
            "align_self": null,
            "border": null,
            "bottom": null,
            "display": null,
            "flex": null,
            "flex_flow": null,
            "grid_area": null,
            "grid_auto_columns": null,
            "grid_auto_flow": null,
            "grid_auto_rows": null,
            "grid_column": null,
            "grid_gap": null,
            "grid_row": null,
            "grid_template_areas": null,
            "grid_template_columns": null,
            "grid_template_rows": null,
            "height": null,
            "justify_content": null,
            "justify_items": null,
            "left": null,
            "margin": null,
            "max_height": null,
            "max_width": null,
            "min_height": null,
            "min_width": null,
            "object_fit": null,
            "object_position": null,
            "order": null,
            "overflow": null,
            "overflow_x": null,
            "overflow_y": null,
            "padding": null,
            "right": null,
            "top": null,
            "visibility": null,
            "width": null
          }
        },
        "dc0623a31d354906beae6ac46e228852": {
          "model_module": "@jupyter-widgets/controls",
          "model_name": "ProgressStyleModel",
          "model_module_version": "1.5.0",
          "state": {
            "_model_module": "@jupyter-widgets/controls",
            "_model_module_version": "1.5.0",
            "_model_name": "ProgressStyleModel",
            "_view_count": null,
            "_view_module": "@jupyter-widgets/base",
            "_view_module_version": "1.2.0",
            "_view_name": "StyleView",
            "bar_color": null,
            "description_width": ""
          }
        },
        "8d2f98118d84433489845c582cc2859b": {
          "model_module": "@jupyter-widgets/base",
          "model_name": "LayoutModel",
          "model_module_version": "1.2.0",
          "state": {
            "_model_module": "@jupyter-widgets/base",
            "_model_module_version": "1.2.0",
            "_model_name": "LayoutModel",
            "_view_count": null,
            "_view_module": "@jupyter-widgets/base",
            "_view_module_version": "1.2.0",
            "_view_name": "LayoutView",
            "align_content": null,
            "align_items": null,
            "align_self": null,
            "border": null,
            "bottom": null,
            "display": null,
            "flex": null,
            "flex_flow": null,
            "grid_area": null,
            "grid_auto_columns": null,
            "grid_auto_flow": null,
            "grid_auto_rows": null,
            "grid_column": null,
            "grid_gap": null,
            "grid_row": null,
            "grid_template_areas": null,
            "grid_template_columns": null,
            "grid_template_rows": null,
            "height": null,
            "justify_content": null,
            "justify_items": null,
            "left": null,
            "margin": null,
            "max_height": null,
            "max_width": null,
            "min_height": null,
            "min_width": null,
            "object_fit": null,
            "object_position": null,
            "order": null,
            "overflow": null,
            "overflow_x": null,
            "overflow_y": null,
            "padding": null,
            "right": null,
            "top": null,
            "visibility": null,
            "width": null
          }
        },
        "9f4030f5c6584d4e9b0c6455a4f43a2e": {
          "model_module": "@jupyter-widgets/controls",
          "model_name": "DescriptionStyleModel",
          "model_module_version": "1.5.0",
          "state": {
            "_model_module": "@jupyter-widgets/controls",
            "_model_module_version": "1.5.0",
            "_model_name": "DescriptionStyleModel",
            "_view_count": null,
            "_view_module": "@jupyter-widgets/base",
            "_view_module_version": "1.2.0",
            "_view_name": "StyleView",
            "description_width": ""
          }
        },
        "fd289d836480494491a0586acf3f6f51": {
          "model_module": "@jupyter-widgets/controls",
          "model_name": "HBoxModel",
          "model_module_version": "1.5.0",
          "state": {
            "_dom_classes": [],
            "_model_module": "@jupyter-widgets/controls",
            "_model_module_version": "1.5.0",
            "_model_name": "HBoxModel",
            "_view_count": null,
            "_view_module": "@jupyter-widgets/controls",
            "_view_module_version": "1.5.0",
            "_view_name": "HBoxView",
            "box_style": "",
            "children": [
              "IPY_MODEL_a67700040eb545768c8bc25637640a2a",
              "IPY_MODEL_332370aeed03442d94cd5fbc3e02b128",
              "IPY_MODEL_91777d62bf9143689029a35b2978d4de"
            ],
            "layout": "IPY_MODEL_88c2250f024249a0931a1b8e5dd9def4"
          }
        },
        "a67700040eb545768c8bc25637640a2a": {
          "model_module": "@jupyter-widgets/controls",
          "model_name": "HTMLModel",
          "model_module_version": "1.5.0",
          "state": {
            "_dom_classes": [],
            "_model_module": "@jupyter-widgets/controls",
            "_model_module_version": "1.5.0",
            "_model_name": "HTMLModel",
            "_view_count": null,
            "_view_module": "@jupyter-widgets/controls",
            "_view_module_version": "1.5.0",
            "_view_name": "HTMLView",
            "description": "",
            "description_tooltip": null,
            "layout": "IPY_MODEL_71a533888625402cbc0d4bb02ffd67ea",
            "placeholder": "​",
            "style": "IPY_MODEL_c9e3b3020155418d9418d9c9ba6819ec",
            "value": "Shuffling /root/tensorflow_datasets/movielens/100k-ratings/0.1.1.incompleteXAS5WF/movielens-train.tfrecord*...:  94%"
          }
        },
        "332370aeed03442d94cd5fbc3e02b128": {
          "model_module": "@jupyter-widgets/controls",
          "model_name": "FloatProgressModel",
          "model_module_version": "1.5.0",
          "state": {
            "_dom_classes": [],
            "_model_module": "@jupyter-widgets/controls",
            "_model_module_version": "1.5.0",
            "_model_name": "FloatProgressModel",
            "_view_count": null,
            "_view_module": "@jupyter-widgets/controls",
            "_view_module_version": "1.5.0",
            "_view_name": "ProgressView",
            "bar_style": "",
            "description": "",
            "description_tooltip": null,
            "layout": "IPY_MODEL_764944f5675d42ce998f820795d5ad90",
            "max": 100000,
            "min": 0,
            "orientation": "horizontal",
            "style": "IPY_MODEL_d859525bcdf549ce81ddad9886d70418",
            "value": 100000
          }
        },
        "91777d62bf9143689029a35b2978d4de": {
          "model_module": "@jupyter-widgets/controls",
          "model_name": "HTMLModel",
          "model_module_version": "1.5.0",
          "state": {
            "_dom_classes": [],
            "_model_module": "@jupyter-widgets/controls",
            "_model_module_version": "1.5.0",
            "_model_name": "HTMLModel",
            "_view_count": null,
            "_view_module": "@jupyter-widgets/controls",
            "_view_module_version": "1.5.0",
            "_view_name": "HTMLView",
            "description": "",
            "description_tooltip": null,
            "layout": "IPY_MODEL_e55aa399d7c0473fae46c26db32403f0",
            "placeholder": "​",
            "style": "IPY_MODEL_05d145b0c6464134b421b2d6723e2944",
            "value": " 94236/100000 [00:00&lt;00:00, 253002.36 examples/s]"
          }
        },
        "88c2250f024249a0931a1b8e5dd9def4": {
          "model_module": "@jupyter-widgets/base",
          "model_name": "LayoutModel",
          "model_module_version": "1.2.0",
          "state": {
            "_model_module": "@jupyter-widgets/base",
            "_model_module_version": "1.2.0",
            "_model_name": "LayoutModel",
            "_view_count": null,
            "_view_module": "@jupyter-widgets/base",
            "_view_module_version": "1.2.0",
            "_view_name": "LayoutView",
            "align_content": null,
            "align_items": null,
            "align_self": null,
            "border": null,
            "bottom": null,
            "display": null,
            "flex": null,
            "flex_flow": null,
            "grid_area": null,
            "grid_auto_columns": null,
            "grid_auto_flow": null,
            "grid_auto_rows": null,
            "grid_column": null,
            "grid_gap": null,
            "grid_row": null,
            "grid_template_areas": null,
            "grid_template_columns": null,
            "grid_template_rows": null,
            "height": null,
            "justify_content": null,
            "justify_items": null,
            "left": null,
            "margin": null,
            "max_height": null,
            "max_width": null,
            "min_height": null,
            "min_width": null,
            "object_fit": null,
            "object_position": null,
            "order": null,
            "overflow": null,
            "overflow_x": null,
            "overflow_y": null,
            "padding": null,
            "right": null,
            "top": null,
            "visibility": "hidden",
            "width": null
          }
        },
        "71a533888625402cbc0d4bb02ffd67ea": {
          "model_module": "@jupyter-widgets/base",
          "model_name": "LayoutModel",
          "model_module_version": "1.2.0",
          "state": {
            "_model_module": "@jupyter-widgets/base",
            "_model_module_version": "1.2.0",
            "_model_name": "LayoutModel",
            "_view_count": null,
            "_view_module": "@jupyter-widgets/base",
            "_view_module_version": "1.2.0",
            "_view_name": "LayoutView",
            "align_content": null,
            "align_items": null,
            "align_self": null,
            "border": null,
            "bottom": null,
            "display": null,
            "flex": null,
            "flex_flow": null,
            "grid_area": null,
            "grid_auto_columns": null,
            "grid_auto_flow": null,
            "grid_auto_rows": null,
            "grid_column": null,
            "grid_gap": null,
            "grid_row": null,
            "grid_template_areas": null,
            "grid_template_columns": null,
            "grid_template_rows": null,
            "height": null,
            "justify_content": null,
            "justify_items": null,
            "left": null,
            "margin": null,
            "max_height": null,
            "max_width": null,
            "min_height": null,
            "min_width": null,
            "object_fit": null,
            "object_position": null,
            "order": null,
            "overflow": null,
            "overflow_x": null,
            "overflow_y": null,
            "padding": null,
            "right": null,
            "top": null,
            "visibility": null,
            "width": null
          }
        },
        "c9e3b3020155418d9418d9c9ba6819ec": {
          "model_module": "@jupyter-widgets/controls",
          "model_name": "DescriptionStyleModel",
          "model_module_version": "1.5.0",
          "state": {
            "_model_module": "@jupyter-widgets/controls",
            "_model_module_version": "1.5.0",
            "_model_name": "DescriptionStyleModel",
            "_view_count": null,
            "_view_module": "@jupyter-widgets/base",
            "_view_module_version": "1.2.0",
            "_view_name": "StyleView",
            "description_width": ""
          }
        },
        "764944f5675d42ce998f820795d5ad90": {
          "model_module": "@jupyter-widgets/base",
          "model_name": "LayoutModel",
          "model_module_version": "1.2.0",
          "state": {
            "_model_module": "@jupyter-widgets/base",
            "_model_module_version": "1.2.0",
            "_model_name": "LayoutModel",
            "_view_count": null,
            "_view_module": "@jupyter-widgets/base",
            "_view_module_version": "1.2.0",
            "_view_name": "LayoutView",
            "align_content": null,
            "align_items": null,
            "align_self": null,
            "border": null,
            "bottom": null,
            "display": null,
            "flex": null,
            "flex_flow": null,
            "grid_area": null,
            "grid_auto_columns": null,
            "grid_auto_flow": null,
            "grid_auto_rows": null,
            "grid_column": null,
            "grid_gap": null,
            "grid_row": null,
            "grid_template_areas": null,
            "grid_template_columns": null,
            "grid_template_rows": null,
            "height": null,
            "justify_content": null,
            "justify_items": null,
            "left": null,
            "margin": null,
            "max_height": null,
            "max_width": null,
            "min_height": null,
            "min_width": null,
            "object_fit": null,
            "object_position": null,
            "order": null,
            "overflow": null,
            "overflow_x": null,
            "overflow_y": null,
            "padding": null,
            "right": null,
            "top": null,
            "visibility": null,
            "width": null
          }
        },
        "d859525bcdf549ce81ddad9886d70418": {
          "model_module": "@jupyter-widgets/controls",
          "model_name": "ProgressStyleModel",
          "model_module_version": "1.5.0",
          "state": {
            "_model_module": "@jupyter-widgets/controls",
            "_model_module_version": "1.5.0",
            "_model_name": "ProgressStyleModel",
            "_view_count": null,
            "_view_module": "@jupyter-widgets/base",
            "_view_module_version": "1.2.0",
            "_view_name": "StyleView",
            "bar_color": null,
            "description_width": ""
          }
        },
        "e55aa399d7c0473fae46c26db32403f0": {
          "model_module": "@jupyter-widgets/base",
          "model_name": "LayoutModel",
          "model_module_version": "1.2.0",
          "state": {
            "_model_module": "@jupyter-widgets/base",
            "_model_module_version": "1.2.0",
            "_model_name": "LayoutModel",
            "_view_count": null,
            "_view_module": "@jupyter-widgets/base",
            "_view_module_version": "1.2.0",
            "_view_name": "LayoutView",
            "align_content": null,
            "align_items": null,
            "align_self": null,
            "border": null,
            "bottom": null,
            "display": null,
            "flex": null,
            "flex_flow": null,
            "grid_area": null,
            "grid_auto_columns": null,
            "grid_auto_flow": null,
            "grid_auto_rows": null,
            "grid_column": null,
            "grid_gap": null,
            "grid_row": null,
            "grid_template_areas": null,
            "grid_template_columns": null,
            "grid_template_rows": null,
            "height": null,
            "justify_content": null,
            "justify_items": null,
            "left": null,
            "margin": null,
            "max_height": null,
            "max_width": null,
            "min_height": null,
            "min_width": null,
            "object_fit": null,
            "object_position": null,
            "order": null,
            "overflow": null,
            "overflow_x": null,
            "overflow_y": null,
            "padding": null,
            "right": null,
            "top": null,
            "visibility": null,
            "width": null
          }
        },
        "05d145b0c6464134b421b2d6723e2944": {
          "model_module": "@jupyter-widgets/controls",
          "model_name": "DescriptionStyleModel",
          "model_module_version": "1.5.0",
          "state": {
            "_model_module": "@jupyter-widgets/controls",
            "_model_module_version": "1.5.0",
            "_model_name": "DescriptionStyleModel",
            "_view_count": null,
            "_view_module": "@jupyter-widgets/base",
            "_view_module_version": "1.2.0",
            "_view_name": "StyleView",
            "description_width": ""
          }
        }
      }
    }
  },
  "cells": [
    {
      "cell_type": "markdown",
      "metadata": {
        "id": "view-in-github",
        "colab_type": "text"
      },
      "source": [
        "<a href=\"https://colab.research.google.com/github/nelrob/movie-ranking-prediction/blob/main/Movie_Ranking_Prediction.ipynb\" target=\"_parent\"><img src=\"https://colab.research.google.com/assets/colab-badge.svg\" alt=\"Open In Colab\"/></a>"
      ]
    },
    {
      "cell_type": "markdown",
      "source": [
        "# Import Libraries and Data"
      ],
      "metadata": {
        "id": "yvM9ljMRYC0W"
      }
    },
    {
      "cell_type": "code",
      "source": [
        "!pip install -q tensorflow-recommenders\n",
        "!pip install -q --upgrade tensorflow-datasets"
      ],
      "metadata": {
        "id": "eaXdT79jbZHK",
        "colab": {
          "base_uri": "https://localhost:8080/"
        },
        "outputId": "adf861d0-732c-4042-9635-b9238624eb93"
      },
      "execution_count": 1,
      "outputs": [
        {
          "output_type": "stream",
          "name": "stdout",
          "text": [
            "\u001b[?25l     \u001b[90m━━━━━━━━━━━━━━━━━━━━━━━━━━━━━━━━━━━━━━━━\u001b[0m \u001b[32m0.0/96.2 KB\u001b[0m \u001b[31m?\u001b[0m eta \u001b[36m-:--:--\u001b[0m\r\u001b[2K     \u001b[90m━━━━━━━━━━━━━━━━━━━━━━━━━━━━━━━━━━━━━━━━\u001b[0m \u001b[32m96.2/96.2 KB\u001b[0m \u001b[31m3.7 MB/s\u001b[0m eta \u001b[36m0:00:00\u001b[0m\n",
            "\u001b[?25h"
          ]
        }
      ]
    },
    {
      "cell_type": "code",
      "source": [
        "import tensorflow_datasets as tfds\n",
        "import tensorflow_recommenders as tfrs\n",
        "\n",
        "import numpy as np\n",
        "import tensorflow as tf\n",
        "from typing import Dict, Text\n",
        "\n",
        "import warnings\n",
        "warnings.simplefilter('ignore')"
      ],
      "metadata": {
        "id": "dowp4FPQSQ03"
      },
      "execution_count": 2,
      "outputs": []
    },
    {
      "cell_type": "code",
      "source": [
        "print('Tensorflow version:', tf.__version__)"
      ],
      "metadata": {
        "colab": {
          "base_uri": "https://localhost:8080/"
        },
        "id": "q2jD3e-KS0Y4",
        "outputId": "f0a02b4c-260d-4101-ceff-26f23b326be6"
      },
      "execution_count": 3,
      "outputs": [
        {
          "output_type": "stream",
          "name": "stdout",
          "text": [
            "Tensorflow version: 2.11.0\n"
          ]
        }
      ]
    },
    {
      "cell_type": "markdown",
      "source": [
        "# Data pre-processing"
      ],
      "metadata": {
        "id": "eWlpG1e1YPhZ"
      }
    },
    {
      "cell_type": "code",
      "source": [
        "# Load movielens 100k dataset from Tensorflow datasets\n",
        "ratings = tfds.load(\"movielens/100k-ratings\", split=\"train\")\n",
        "\n",
        "# Create a map of the columns needed\n",
        "ratings = ratings.map(lambda x: {\n",
        "    \"movie_title\": x[\"movie_title\"],\n",
        "    \"user_id\": x[\"user_id\"],\n",
        "    \"user_rating\": x[\"user_rating\"]\n",
        "})"
      ],
      "metadata": {
        "colab": {
          "base_uri": "https://localhost:8080/",
          "height": 255,
          "referenced_widgets": [
            "f220981bbe7d4c7eb59d5f9e6cab521c",
            "eaaff6d849024aadb93ca44b9f9b0923",
            "9f74cb5e499d4e5a8f1754159821bedb",
            "991382a155bc4d2f81c71067be6235ed",
            "166b0357695c4bdfbd6ca4647bc06241",
            "554a9a47b8a942b0b4588ac7559a161e",
            "cb0c9580b59a4ce8a3d3062e343c777a",
            "6a348b63711744e78c07107b98a05330",
            "a459733de64f4bdd9b583d091d86e188",
            "35476b6a9784492b9259c40ebd6749b7",
            "71903d66cd174b268a934a76fe834111",
            "5c5383d3136b4e95a6dd1b3948bc7ddc",
            "d36a75c2fc9b4a2bb21f56c450b0f9e3",
            "6575c848b75f4f50939705b6a69d1ad4",
            "716e8d52f3ae4b0da60ad9873627c3f6",
            "caa7b80aac964211a6ae19f86f8a370c",
            "f7f20b4e0f7445ca8a078476a232d1a1",
            "b263f8bc76784119b3fe086c4b074a84",
            "2b8e69cd890f45dea01d1ddfae127229",
            "123ca538c9d3453eaaa29bc146eeabd8",
            "c2262e5aa502473bb245bec0f725d141",
            "e196844b94024aabbd157d4fda601000",
            "cea9f912ad1e4ee28e5856e0cb64630d",
            "f1036a2878fd4162b43644785a89032f",
            "af157fe31b2d444197717de91f9dbfb1",
            "fb0d8d77bcb74288b52096342e3c8c00",
            "04c1e3ca1544449ab4c2953abfbbf6fc",
            "befa606259734623a95ecfa9a7b2d14a",
            "0278c9f414504cab90837a498d9c6ac2",
            "c328314addfb4a31932643305eb306b0",
            "6bac9a58d7a4440a90ada4270de3315c",
            "b531b01f5ce04492825cf1931545724b",
            "074b2ab1fb8f4171adbf76e736f624d8",
            "794126aff3ab4045b3ddfa13385b08e0",
            "98d1adfa38d84c51943f8a0cb6269a0d",
            "cc0626bdfacb42e09680d3cc3fdc2c97",
            "932cdcfe37ef46e78d5227a33561acb2",
            "ab38c4746a7440faa4e6908b29849fe5",
            "d0a50eaff72044cf983fbaf6c5513902",
            "8b830d1f163646d1ae7c5a6c4f9ebd1f",
            "ea1478672d2e4b68a03aa758f5ca2977",
            "9b37a5ed2cc54c24b8ba3b729e479251",
            "149a4978653347fdb34280af39ea7fff",
            "8b76d2c6d34b40d1ba796e2d05b1707c",
            "9f6511546a384b3aa631166761a3cb46",
            "3d5939091cff43a1a7861b1084cc38d9",
            "f0e726db84ef4b96b9ba5ec263f746e8",
            "c6eb0ce612274ce5983bad93260e54e8",
            "71f893372ecd43d1a08f97f7b6754120",
            "01053b1dd2024a9d80bd75de7302e2db",
            "a6a9cdd0fbaa490a80a1b7df61e3414f",
            "794675c409454787aca3fae5b43bdba7",
            "dc0623a31d354906beae6ac46e228852",
            "8d2f98118d84433489845c582cc2859b",
            "9f4030f5c6584d4e9b0c6455a4f43a2e",
            "fd289d836480494491a0586acf3f6f51",
            "a67700040eb545768c8bc25637640a2a",
            "332370aeed03442d94cd5fbc3e02b128",
            "91777d62bf9143689029a35b2978d4de",
            "88c2250f024249a0931a1b8e5dd9def4",
            "71a533888625402cbc0d4bb02ffd67ea",
            "c9e3b3020155418d9418d9c9ba6819ec",
            "764944f5675d42ce998f820795d5ad90",
            "d859525bcdf549ce81ddad9886d70418",
            "e55aa399d7c0473fae46c26db32403f0",
            "05d145b0c6464134b421b2d6723e2944"
          ]
        },
        "id": "C1YPCCDgSaTI",
        "outputId": "5f0c9ad7-41d2-4412-d95d-65e545f09103"
      },
      "execution_count": 4,
      "outputs": [
        {
          "output_type": "stream",
          "name": "stdout",
          "text": [
            "Downloading and preparing dataset 4.70 MiB (download: 4.70 MiB, generated: 32.41 MiB, total: 37.10 MiB) to /root/tensorflow_datasets/movielens/100k-ratings/0.1.1...\n"
          ]
        },
        {
          "output_type": "display_data",
          "data": {
            "text/plain": [
              "Dl Completed...: 0 url [00:00, ? url/s]"
            ],
            "application/vnd.jupyter.widget-view+json": {
              "version_major": 2,
              "version_minor": 0,
              "model_id": "f220981bbe7d4c7eb59d5f9e6cab521c"
            }
          },
          "metadata": {}
        },
        {
          "output_type": "display_data",
          "data": {
            "text/plain": [
              "Dl Size...: 0 MiB [00:00, ? MiB/s]"
            ],
            "application/vnd.jupyter.widget-view+json": {
              "version_major": 2,
              "version_minor": 0,
              "model_id": "5c5383d3136b4e95a6dd1b3948bc7ddc"
            }
          },
          "metadata": {}
        },
        {
          "output_type": "display_data",
          "data": {
            "text/plain": [
              "Extraction completed...: 0 file [00:00, ? file/s]"
            ],
            "application/vnd.jupyter.widget-view+json": {
              "version_major": 2,
              "version_minor": 0,
              "model_id": "cea9f912ad1e4ee28e5856e0cb64630d"
            }
          },
          "metadata": {}
        },
        {
          "output_type": "display_data",
          "data": {
            "text/plain": [
              "Generating splits...:   0%|          | 0/1 [00:00<?, ? splits/s]"
            ],
            "application/vnd.jupyter.widget-view+json": {
              "version_major": 2,
              "version_minor": 0,
              "model_id": "794126aff3ab4045b3ddfa13385b08e0"
            }
          },
          "metadata": {}
        },
        {
          "output_type": "stream",
          "name": "stderr",
          "text": [
            "WARNING:absl:`TensorInfo.dtype` is deprecated. Please change your code to use NumPy with the field `TensorInfo.np_dtype` or use TensorFlow with the field `TensorInfo.tf_dtype`.\n",
            "WARNING:absl:You use TensorFlow DType <dtype: 'int64'> in tfds.features This will soon be deprecated in favor of NumPy DTypes. In the meantime it was converted to int64.\n"
          ]
        },
        {
          "output_type": "display_data",
          "data": {
            "text/plain": [
              "Generating train examples...:   0%|          | 0/100000 [00:00<?, ? examples/s]"
            ],
            "application/vnd.jupyter.widget-view+json": {
              "version_major": 2,
              "version_minor": 0,
              "model_id": "9f6511546a384b3aa631166761a3cb46"
            }
          },
          "metadata": {}
        },
        {
          "output_type": "display_data",
          "data": {
            "text/plain": [
              "Shuffling /root/tensorflow_datasets/movielens/100k-ratings/0.1.1.incompleteXAS5WF/movielens-train.tfrecord*...…"
            ],
            "application/vnd.jupyter.widget-view+json": {
              "version_major": 2,
              "version_minor": 0,
              "model_id": "fd289d836480494491a0586acf3f6f51"
            }
          },
          "metadata": {}
        },
        {
          "output_type": "stream",
          "name": "stdout",
          "text": [
            "Dataset movielens downloaded and prepared to /root/tensorflow_datasets/movielens/100k-ratings/0.1.1. Subsequent calls will reuse this data.\n"
          ]
        },
        {
          "output_type": "stream",
          "name": "stderr",
          "text": [
            "WARNING:tensorflow:From /usr/local/lib/python3.8/dist-packages/tensorflow/python/autograph/pyct/static_analysis/liveness.py:83: Analyzer.lamba_check (from tensorflow.python.autograph.pyct.static_analysis.liveness) is deprecated and will be removed after 2023-09-23.\n",
            "Instructions for updating:\n",
            "Lambda fuctions will be no more assumed to be used in the statement where they are used, or at least in the same block. https://github.com/tensorflow/tensorflow/issues/56089\n"
          ]
        }
      ]
    },
    {
      "cell_type": "markdown",
      "source": [
        "### Visualise the dataset"
      ],
      "metadata": {
        "id": "4kQumghATKGa"
      }
    },
    {
      "cell_type": "markdown",
      "source": [
        "In order to visualise the dataset, `ratings` needs to be converted into a 2d array,"
      ],
      "metadata": {
        "id": "QJcYritT0VX6"
      }
    },
    {
      "cell_type": "code",
      "source": [
        "ratings_array = []\n",
        "\n",
        "for rating in ratings:\n",
        "    # extracts values from the Tensor objects\n",
        "    movie_title = rating['movie_title'].numpy()\n",
        "    movie_title = movie_title.decode('utf-8')\n",
        "    \n",
        "    user_id = int(rating['user_id'].numpy())\n",
        "    user_rating = rating['user_rating'].numpy()\n",
        "    \n",
        "    ratings_array.append([movie_title, user_id, user_rating])"
      ],
      "metadata": {
        "id": "CTKE88DfGPqo"
      },
      "execution_count": 32,
      "outputs": []
    },
    {
      "cell_type": "code",
      "source": [
        "# first 10 movies of ratings array\n",
        "ratings_array[:10]"
      ],
      "metadata": {
        "id": "g6fxh8g6GVVI",
        "cellView": "code"
      },
      "execution_count": null,
      "outputs": []
    },
    {
      "cell_type": "markdown",
      "source": [
        "...and then a Pandas DataFrame."
      ],
      "metadata": {
        "id": "2j0YpNKk0ovg"
      }
    },
    {
      "cell_type": "code",
      "source": [
        "import pandas as pd\n",
        "\n",
        "df = pd.DataFrame(ratings_array, columns = ['movie_title', 'user_id', 'user_rating'])"
      ],
      "metadata": {
        "id": "drI1wR6NKEyV"
      },
      "execution_count": 33,
      "outputs": []
    },
    {
      "cell_type": "code",
      "source": [
        "df.head(5)"
      ],
      "metadata": {
        "colab": {
          "base_uri": "https://localhost:8080/",
          "height": 206
        },
        "id": "TpcfgGPUsH61",
        "outputId": "46f14720-5187-4124-fc47-94f7cba01acd"
      },
      "execution_count": 34,
      "outputs": [
        {
          "output_type": "execute_result",
          "data": {
            "text/plain": [
              "                              movie_title  user_id  user_rating\n",
              "0  One Flew Over the Cuckoo's Nest (1975)      138          4.0\n",
              "1                Strictly Ballroom (1992)       92          2.0\n",
              "2             Very Brady Sequel, A (1996)      301          4.0\n",
              "3                     Pulp Fiction (1994)       60          4.0\n",
              "4                         Scream 2 (1997)      197          3.0"
            ],
            "text/html": [
              "\n",
              "  <div id=\"df-13afd994-36cf-41f6-b2ed-d2123f428a04\">\n",
              "    <div class=\"colab-df-container\">\n",
              "      <div>\n",
              "<style scoped>\n",
              "    .dataframe tbody tr th:only-of-type {\n",
              "        vertical-align: middle;\n",
              "    }\n",
              "\n",
              "    .dataframe tbody tr th {\n",
              "        vertical-align: top;\n",
              "    }\n",
              "\n",
              "    .dataframe thead th {\n",
              "        text-align: right;\n",
              "    }\n",
              "</style>\n",
              "<table border=\"1\" class=\"dataframe\">\n",
              "  <thead>\n",
              "    <tr style=\"text-align: right;\">\n",
              "      <th></th>\n",
              "      <th>movie_title</th>\n",
              "      <th>user_id</th>\n",
              "      <th>user_rating</th>\n",
              "    </tr>\n",
              "  </thead>\n",
              "  <tbody>\n",
              "    <tr>\n",
              "      <th>0</th>\n",
              "      <td>One Flew Over the Cuckoo's Nest (1975)</td>\n",
              "      <td>138</td>\n",
              "      <td>4.0</td>\n",
              "    </tr>\n",
              "    <tr>\n",
              "      <th>1</th>\n",
              "      <td>Strictly Ballroom (1992)</td>\n",
              "      <td>92</td>\n",
              "      <td>2.0</td>\n",
              "    </tr>\n",
              "    <tr>\n",
              "      <th>2</th>\n",
              "      <td>Very Brady Sequel, A (1996)</td>\n",
              "      <td>301</td>\n",
              "      <td>4.0</td>\n",
              "    </tr>\n",
              "    <tr>\n",
              "      <th>3</th>\n",
              "      <td>Pulp Fiction (1994)</td>\n",
              "      <td>60</td>\n",
              "      <td>4.0</td>\n",
              "    </tr>\n",
              "    <tr>\n",
              "      <th>4</th>\n",
              "      <td>Scream 2 (1997)</td>\n",
              "      <td>197</td>\n",
              "      <td>3.0</td>\n",
              "    </tr>\n",
              "  </tbody>\n",
              "</table>\n",
              "</div>\n",
              "      <button class=\"colab-df-convert\" onclick=\"convertToInteractive('df-13afd994-36cf-41f6-b2ed-d2123f428a04')\"\n",
              "              title=\"Convert this dataframe to an interactive table.\"\n",
              "              style=\"display:none;\">\n",
              "        \n",
              "  <svg xmlns=\"http://www.w3.org/2000/svg\" height=\"24px\"viewBox=\"0 0 24 24\"\n",
              "       width=\"24px\">\n",
              "    <path d=\"M0 0h24v24H0V0z\" fill=\"none\"/>\n",
              "    <path d=\"M18.56 5.44l.94 2.06.94-2.06 2.06-.94-2.06-.94-.94-2.06-.94 2.06-2.06.94zm-11 1L8.5 8.5l.94-2.06 2.06-.94-2.06-.94L8.5 2.5l-.94 2.06-2.06.94zm10 10l.94 2.06.94-2.06 2.06-.94-2.06-.94-.94-2.06-.94 2.06-2.06.94z\"/><path d=\"M17.41 7.96l-1.37-1.37c-.4-.4-.92-.59-1.43-.59-.52 0-1.04.2-1.43.59L10.3 9.45l-7.72 7.72c-.78.78-.78 2.05 0 2.83L4 21.41c.39.39.9.59 1.41.59.51 0 1.02-.2 1.41-.59l7.78-7.78 2.81-2.81c.8-.78.8-2.07 0-2.86zM5.41 20L4 18.59l7.72-7.72 1.47 1.35L5.41 20z\"/>\n",
              "  </svg>\n",
              "      </button>\n",
              "      \n",
              "  <style>\n",
              "    .colab-df-container {\n",
              "      display:flex;\n",
              "      flex-wrap:wrap;\n",
              "      gap: 12px;\n",
              "    }\n",
              "\n",
              "    .colab-df-convert {\n",
              "      background-color: #E8F0FE;\n",
              "      border: none;\n",
              "      border-radius: 50%;\n",
              "      cursor: pointer;\n",
              "      display: none;\n",
              "      fill: #1967D2;\n",
              "      height: 32px;\n",
              "      padding: 0 0 0 0;\n",
              "      width: 32px;\n",
              "    }\n",
              "\n",
              "    .colab-df-convert:hover {\n",
              "      background-color: #E2EBFA;\n",
              "      box-shadow: 0px 1px 2px rgba(60, 64, 67, 0.3), 0px 1px 3px 1px rgba(60, 64, 67, 0.15);\n",
              "      fill: #174EA6;\n",
              "    }\n",
              "\n",
              "    [theme=dark] .colab-df-convert {\n",
              "      background-color: #3B4455;\n",
              "      fill: #D2E3FC;\n",
              "    }\n",
              "\n",
              "    [theme=dark] .colab-df-convert:hover {\n",
              "      background-color: #434B5C;\n",
              "      box-shadow: 0px 1px 3px 1px rgba(0, 0, 0, 0.15);\n",
              "      filter: drop-shadow(0px 1px 2px rgba(0, 0, 0, 0.3));\n",
              "      fill: #FFFFFF;\n",
              "    }\n",
              "  </style>\n",
              "\n",
              "      <script>\n",
              "        const buttonEl =\n",
              "          document.querySelector('#df-13afd994-36cf-41f6-b2ed-d2123f428a04 button.colab-df-convert');\n",
              "        buttonEl.style.display =\n",
              "          google.colab.kernel.accessAllowed ? 'block' : 'none';\n",
              "\n",
              "        async function convertToInteractive(key) {\n",
              "          const element = document.querySelector('#df-13afd994-36cf-41f6-b2ed-d2123f428a04');\n",
              "          const dataTable =\n",
              "            await google.colab.kernel.invokeFunction('convertToInteractive',\n",
              "                                                     [key], {});\n",
              "          if (!dataTable) return;\n",
              "\n",
              "          const docLinkHtml = 'Like what you see? Visit the ' +\n",
              "            '<a target=\"_blank\" href=https://colab.research.google.com/notebooks/data_table.ipynb>data table notebook</a>'\n",
              "            + ' to learn more about interactive tables.';\n",
              "          element.innerHTML = '';\n",
              "          dataTable['output_type'] = 'display_data';\n",
              "          await google.colab.output.renderOutput(dataTable, element);\n",
              "          const docLink = document.createElement('div');\n",
              "          docLink.innerHTML = docLinkHtml;\n",
              "          element.appendChild(docLink);\n",
              "        }\n",
              "      </script>\n",
              "    </div>\n",
              "  </div>\n",
              "  "
            ]
          },
          "metadata": {},
          "execution_count": 34
        }
      ]
    },
    {
      "cell_type": "code",
      "source": [
        "import seaborn as sns\n",
        "import matplotlib.pyplot as plt\n",
        "\n",
        "sns.countplot(x='user_rating', data=df)\n",
        "plt.title('Most common movie ratings by users')\n",
        "plt.show()"
      ],
      "metadata": {
        "id": "bF_Exnu2_TJy",
        "colab": {
          "base_uri": "https://localhost:8080/",
          "height": 296
        },
        "outputId": "78946cfc-b4f1-4afb-a384-079d87ffa9ae"
      },
      "execution_count": 35,
      "outputs": [
        {
          "output_type": "display_data",
          "data": {
            "text/plain": [
              "<Figure size 432x288 with 1 Axes>"
            ],
            "image/png": "[encoded data removed]"
          },
          "metadata": {
            "needs_background": "light"
          }
        }
      ]
    },
    {
      "cell_type": "code",
      "source": [
        "from wordcloud import WordCloud, STOPWORDS\n",
        "\n",
        "titles = df['movie_title'].tolist() # convert to list of movie title strings\n",
        "\n",
        "stopwords = STOPWORDS # filter common filler words in movie titles\n",
        "wordcloud = WordCloud(width=800, height=800, stopwords=stopwords, background_color=\"white\", min_font_size=10).generate(' '.join(titles))\n",
        "\n",
        "plt.figure(figsize=(5, 5), facecolor=None)\n",
        "plt.imshow(wordcloud)\n",
        "plt.axis(\"off\")\n",
        "plt.tight_layout(pad=0)\n",
        "plt.title('Most rated movies')\n",
        "plt.show()"
      ],
      "metadata": {
        "colab": {
          "base_uri": "https://localhost:8080/",
          "height": 407
        },
        "id": "nMoN02CCRSnK",
        "outputId": "6bd9cdec-1748-4072-ca43-b74965c09eb0"
      },
      "execution_count": 37,
      "outputs": [
        {
          "output_type": "display_data",
          "data": {
            "text/plain": [
              "<Figure size 360x360 with 1 Axes>"
            ],
            "image/png": "[encoded data removed]"
          },
          "metadata": {
            "needs_background": "light"
          }
        }
      ]
    },
    {
      "cell_type": "markdown",
      "source": [
        "# Movie Ranking Predictor Model"
      ],
      "metadata": {
        "id": "v4ZZ71yE13W2"
      }
    },
    {
      "cell_type": "markdown",
      "source": [
        "### Split into training and testing"
      ],
      "metadata": {
        "id": "NcRAi0mA1dzY"
      }
    },
    {
      "cell_type": "code",
      "source": [
        "# Set random seed for repeatability\n",
        "tf.random.set_seed(42)\n",
        "shuffled = ratings.shuffle(100_000, seed=42, reshuffle_each_iteration=False)\n",
        "\n",
        "# 80-20 split in training and testing data \n",
        "train = shuffled.take(80_000)\n",
        "test = shuffled.skip(80_000).take(20_000)"
      ],
      "metadata": {
        "id": "cbIk1jd63GWy"
      },
      "execution_count": 11,
      "outputs": []
    },
    {
      "cell_type": "markdown",
      "source": [
        "Create a map of unique movie titles and user IDs"
      ],
      "metadata": {
        "id": "L2QzCeaAB9Sz"
      }
    },
    {
      "cell_type": "code",
      "source": [
        "movie_titles = ratings.batch(100_000).map(lambda x: x[\"movie_title\"])\n",
        "user_ids = ratings.batch(100_000).map(lambda x: x[\"user_id\"])\n",
        "\n",
        "unique_movie_titles = np.unique(np.concatenate(list(movie_titles)))\n",
        "unique_user_ids = np.unique(np.concatenate(list(user_ids)))"
      ],
      "metadata": {
        "id": "MPq-jbw_3PiV"
      },
      "execution_count": 13,
      "outputs": []
    },
    {
      "cell_type": "markdown",
      "source": [
        "### Tensorflow ranking model"
      ],
      "metadata": {
        "id": "_7zJw6vj4GdH"
      }
    },
    {
      "cell_type": "code",
      "source": [
        "class RankingModel(tf.keras.Model):\n",
        "\n",
        "  def __init__(self):\n",
        "    super().__init__()\n",
        "    embedding_dimension = 32\n",
        "\n",
        "    # Compute embeddings for users\n",
        "    self.user_embeddings = tf.keras.Sequential([\n",
        "      # convert user IDs to embeddings\n",
        "      tf.keras.layers.StringLookup(\n",
        "        vocabulary=unique_user_ids, mask_token=None),\n",
        "      # embed user IDs\n",
        "      tf.keras.layers.Embedding(len(unique_user_ids) + 1, embedding_dimension)\n",
        "    ])\n",
        "\n",
        "    # Compute embeddings for movies\n",
        "    self.movie_embeddings = tf.keras.Sequential([\n",
        "      # convert movie titles to embeddings\n",
        "      tf.keras.layers.StringLookup(\n",
        "        vocabulary=unique_movie_titles, mask_token=None),\n",
        "      # embed movie titles\n",
        "      tf.keras.layers.Embedding(len(unique_movie_titles) + 1, embedding_dimension)\n",
        "    ])\n",
        "\n",
        "    # Compute predictions\n",
        "    self.ratings = tf.keras.Sequential([\n",
        "      # learn multiple dense layers\n",
        "      tf.keras.layers.Dense(256, activation=\"relu\"),\n",
        "      tf.keras.layers.Dense(64, activation=\"relu\"),\n",
        "      # make rating predictions in the final layer\n",
        "      tf.keras.layers.Dense(1)\n",
        "  ])\n",
        "  \n",
        "  # Process inputs and return final output\n",
        "  def call(self, inputs):\n",
        "\n",
        "    user_id, movie_title = inputs\n",
        "\n",
        "    user_embedding = self.user_embeddings(user_id)\n",
        "    movie_embedding = self.movie_embeddings(movie_title)\n",
        "\n",
        "    return self.ratings(tf.concat([user_embedding, movie_embedding], axis=1))"
      ],
      "metadata": {
        "id": "JvJCVDc1Sd4-"
      },
      "execution_count": 14,
      "outputs": []
    },
    {
      "cell_type": "markdown",
      "source": [
        "### Loss and metrics"
      ],
      "metadata": {
        "id": "4Xvb_OvR5h92"
      }
    },
    {
      "cell_type": "markdown",
      "source": [
        "Loss - Mean Absolute Error (MAE): \n",
        "measures the average magnitude of the errors between the predicted and true ratings. \n",
        "\n",
        "Metrics - Mean Absolute Percentage Error (MAPE):\n",
        "measures the mean percentage error of the predictions. "
      ],
      "metadata": {
        "id": "EApgiQJw5mpK"
      }
    },
    {
      "cell_type": "code",
      "source": [
        "# Create ranking task with MAE loss and MAPE metrics\n",
        "task = tfrs.tasks.Ranking(loss=tf.keras.losses.MeanAbsoluteError(),\n",
        "                          metrics=[tf.keras.metrics.MeanAbsolutePercentageError()])"
      ],
      "metadata": {
        "id": "zpG9qJQtFhS-"
      },
      "execution_count": 15,
      "outputs": []
    },
    {
      "cell_type": "markdown",
      "source": [
        "### Movie Predictor Model"
      ],
      "metadata": {
        "id": "0qrcQeKq6WKU"
      }
    },
    {
      "cell_type": "code",
      "source": [
        "class MoviePredictorModel(tfrs.models.Model):\n",
        "\n",
        "  def __init__(self):\n",
        "    super().__init__()\n",
        "\n",
        "    # Create an instance of the TF ranking model\n",
        "    self.ranking_model: tf.keras.Model = RankingModel()\n",
        "    self.task: tf.keras.layers.Layer = tfrs.tasks.Ranking(\n",
        "      loss = tf.keras.losses.MeanAbsoluteError(),\n",
        "      metrics=[tf.keras.metrics.MeanAbsolutePercentageError()]\n",
        "    )\n",
        "\n",
        "  # Function to call the ranking_model on the input features \"user_id\" and \"movie_title\"\n",
        "  def call(self, features: Dict[str, tf.Tensor]) -> tf.Tensor:\n",
        "    return self.ranking_model(\n",
        "        (features[\"user_id\"], features[\"movie_title\"]))\n",
        "\n",
        "  # Function to compute loss and metrics\n",
        "  def compute_loss(self, features: Dict[Text, tf.Tensor], training=False) -> tf.Tensor:\n",
        "    # remove the label \"user_rating\" from features\n",
        "    labels = features.pop(\"user_rating\")\n",
        "    \n",
        "    # get the rating predictions from the call function\n",
        "    rating_predictions = self(features)\n",
        "\n",
        "    return self.task(labels=labels, predictions=rating_predictions)"
      ],
      "metadata": {
        "id": "5J2LwY9pSeA3"
      },
      "execution_count": 16,
      "outputs": []
    },
    {
      "cell_type": "markdown",
      "source": [
        "# Model fitting and evaluation"
      ],
      "metadata": {
        "id": "2SNDiHJL95Wj"
      }
    },
    {
      "cell_type": "code",
      "source": [
        "# Shuffle, batch, and cache training and testing data\n",
        "cached_train = train.shuffle(100_000).batch(8192).cache()\n",
        "cached_test = test.batch(4096).cache()"
      ],
      "metadata": {
        "id": "sZtWC0C9SeIt"
      },
      "execution_count": 17,
      "outputs": []
    },
    {
      "cell_type": "markdown",
      "source": [
        "Implement early stopping to stop training once the model performance stops improving."
      ],
      "metadata": {
        "id": "CVtHFidV-wmA"
      }
    },
    {
      "cell_type": "code",
      "source": [
        "from tensorflow.keras.callbacks import EarlyStopping\n",
        "\n",
        "model = MoviePredictorModel()\n",
        "# Define early stopping \n",
        "early_stopping = EarlyStopping(monitor='val_loss', patience=30)"
      ],
      "metadata": {
        "id": "waWtEvmw9_Wa"
      },
      "execution_count": 46,
      "outputs": []
    },
    {
      "cell_type": "code",
      "source": [
        "# Compile model with Adam optimizer\n",
        "model.compile(optimizer=tf.keras.optimizers.Adam(learning_rate=0.01))\n",
        "\n",
        "# Run the MoviePredictorModel\n",
        "history = model.fit(\n",
        "    cached_train,\n",
        "    validation_data=cached_test,\n",
        "    epochs=50,\n",
        "    callbacks=[early_stopping]\n",
        ")"
      ],
      "metadata": {
        "colab": {
          "base_uri": "https://localhost:8080/"
        },
        "id": "tjPBk_ar4c1X",
        "outputId": "9886f1f8-c8bf-4908-db99-ba57c99ae8d2",
        "cellView": "code"
      },
      "execution_count": 47,
      "outputs": [
        {
          "output_type": "stream",
          "name": "stdout",
          "text": [
            "Epoch 1/50\n",
            "10/10 [==============================] - 2s 60ms/step - mean_absolute_percentage_error: 63.2976 - loss: 1.9246 - regularization_loss: 0.0000e+00 - total_loss: 1.9246 - val_mean_absolute_percentage_error: 39.1928 - val_loss: 1.3923 - val_regularization_loss: 0.0000e+00 - val_total_loss: 1.3923\n",
            "Epoch 2/50\n",
            "10/10 [==============================] - 0s 47ms/step - mean_absolute_percentage_error: 36.9535 - loss: 0.9834 - regularization_loss: 0.0000e+00 - total_loss: 0.9834 - val_mean_absolute_percentage_error: 29.7601 - val_loss: 0.8716 - val_regularization_loss: 0.0000e+00 - val_total_loss: 0.8716\n",
            "Epoch 3/50\n",
            "10/10 [==============================] - 0s 48ms/step - mean_absolute_percentage_error: 31.0261 - loss: 0.8149 - regularization_loss: 0.0000e+00 - total_loss: 0.8149 - val_mean_absolute_percentage_error: 29.8511 - val_loss: 0.7469 - val_regularization_loss: 0.0000e+00 - val_total_loss: 0.7469\n",
            "Epoch 4/50\n",
            "10/10 [==============================] - 0s 49ms/step - mean_absolute_percentage_error: 30.0280 - loss: 0.7546 - regularization_loss: 0.0000e+00 - total_loss: 0.7546 - val_mean_absolute_percentage_error: 31.3942 - val_loss: 0.7558 - val_regularization_loss: 0.0000e+00 - val_total_loss: 0.7558\n",
            "Epoch 5/50\n",
            "10/10 [==============================] - 0s 45ms/step - mean_absolute_percentage_error: 28.9917 - loss: 0.7286 - regularization_loss: 0.0000e+00 - total_loss: 0.7286 - val_mean_absolute_percentage_error: 31.7529 - val_loss: 0.7610 - val_regularization_loss: 0.0000e+00 - val_total_loss: 0.7610\n",
            "Epoch 6/50\n",
            "10/10 [==============================] - 1s 83ms/step - mean_absolute_percentage_error: 29.1175 - loss: 0.7195 - regularization_loss: 0.0000e+00 - total_loss: 0.7195 - val_mean_absolute_percentage_error: 31.1758 - val_loss: 0.7548 - val_regularization_loss: 0.0000e+00 - val_total_loss: 0.7548\n",
            "Epoch 7/50\n",
            "10/10 [==============================] - 1s 86ms/step - mean_absolute_percentage_error: 28.8721 - loss: 0.7138 - regularization_loss: 0.0000e+00 - total_loss: 0.7138 - val_mean_absolute_percentage_error: 30.6846 - val_loss: 0.7450 - val_regularization_loss: 0.0000e+00 - val_total_loss: 0.7450\n",
            "Epoch 8/50\n",
            "10/10 [==============================] - 1s 61ms/step - mean_absolute_percentage_error: 28.6888 - loss: 0.7086 - regularization_loss: 0.0000e+00 - total_loss: 0.7086 - val_mean_absolute_percentage_error: 30.3011 - val_loss: 0.7383 - val_regularization_loss: 0.0000e+00 - val_total_loss: 0.7383\n",
            "Epoch 9/50\n",
            "10/10 [==============================] - 0s 48ms/step - mean_absolute_percentage_error: 28.4082 - loss: 0.7029 - regularization_loss: 0.0000e+00 - total_loss: 0.7029 - val_mean_absolute_percentage_error: 29.8174 - val_loss: 0.7327 - val_regularization_loss: 0.0000e+00 - val_total_loss: 0.7327\n",
            "Epoch 10/50\n",
            "10/10 [==============================] - 1s 56ms/step - mean_absolute_percentage_error: 28.0834 - loss: 0.6958 - regularization_loss: 0.0000e+00 - total_loss: 0.6958 - val_mean_absolute_percentage_error: 29.3637 - val_loss: 0.7297 - val_regularization_loss: 0.0000e+00 - val_total_loss: 0.7297\n",
            "Epoch 11/50\n",
            "10/10 [==============================] - 1s 87ms/step - mean_absolute_percentage_error: 27.7651 - loss: 0.6888 - regularization_loss: 0.0000e+00 - total_loss: 0.6888 - val_mean_absolute_percentage_error: 29.2615 - val_loss: 0.7295 - val_regularization_loss: 0.0000e+00 - val_total_loss: 0.7295\n",
            "Epoch 12/50\n",
            "10/10 [==============================] - 1s 86ms/step - mean_absolute_percentage_error: 27.4594 - loss: 0.6830 - regularization_loss: 0.0000e+00 - total_loss: 0.6830 - val_mean_absolute_percentage_error: 29.3583 - val_loss: 0.7322 - val_regularization_loss: 0.0000e+00 - val_total_loss: 0.7322\n",
            "Epoch 13/50\n",
            "10/10 [==============================] - 1s 53ms/step - mean_absolute_percentage_error: 27.3319 - loss: 0.6781 - regularization_loss: 0.0000e+00 - total_loss: 0.6781 - val_mean_absolute_percentage_error: 28.6797 - val_loss: 0.7328 - val_regularization_loss: 0.0000e+00 - val_total_loss: 0.7328\n",
            "Epoch 14/50\n",
            "10/10 [==============================] - 0s 50ms/step - mean_absolute_percentage_error: 27.2290 - loss: 0.6750 - regularization_loss: 0.0000e+00 - total_loss: 0.6750 - val_mean_absolute_percentage_error: 28.9740 - val_loss: 0.7322 - val_regularization_loss: 0.0000e+00 - val_total_loss: 0.7322\n",
            "Epoch 15/50\n",
            "10/10 [==============================] - 0s 46ms/step - mean_absolute_percentage_error: 26.7628 - loss: 0.6696 - regularization_loss: 0.0000e+00 - total_loss: 0.6696 - val_mean_absolute_percentage_error: 30.1502 - val_loss: 0.7428 - val_regularization_loss: 0.0000e+00 - val_total_loss: 0.7428\n",
            "Epoch 16/50\n",
            "10/10 [==============================] - 0s 45ms/step - mean_absolute_percentage_error: 26.7800 - loss: 0.6667 - regularization_loss: 0.0000e+00 - total_loss: 0.6667 - val_mean_absolute_percentage_error: 28.5218 - val_loss: 0.7351 - val_regularization_loss: 0.0000e+00 - val_total_loss: 0.7351\n",
            "Epoch 17/50\n",
            "10/10 [==============================] - 0s 47ms/step - mean_absolute_percentage_error: 26.6327 - loss: 0.6612 - regularization_loss: 0.0000e+00 - total_loss: 0.6612 - val_mean_absolute_percentage_error: 28.5288 - val_loss: 0.7334 - val_regularization_loss: 0.0000e+00 - val_total_loss: 0.7334\n",
            "Epoch 18/50\n",
            "10/10 [==============================] - 0s 47ms/step - mean_absolute_percentage_error: 26.1121 - loss: 0.6562 - regularization_loss: 0.0000e+00 - total_loss: 0.6562 - val_mean_absolute_percentage_error: 30.7260 - val_loss: 0.7581 - val_regularization_loss: 0.0000e+00 - val_total_loss: 0.7581\n",
            "Epoch 19/50\n",
            "10/10 [==============================] - 0s 47ms/step - mean_absolute_percentage_error: 26.1695 - loss: 0.6569 - regularization_loss: 0.0000e+00 - total_loss: 0.6569 - val_mean_absolute_percentage_error: 28.7732 - val_loss: 0.7424 - val_regularization_loss: 0.0000e+00 - val_total_loss: 0.7424\n",
            "Epoch 20/50\n",
            "10/10 [==============================] - 0s 47ms/step - mean_absolute_percentage_error: 26.0199 - loss: 0.6482 - regularization_loss: 0.0000e+00 - total_loss: 0.6482 - val_mean_absolute_percentage_error: 28.8486 - val_loss: 0.7501 - val_regularization_loss: 0.0000e+00 - val_total_loss: 0.7501\n",
            "Epoch 21/50\n",
            "10/10 [==============================] - 0s 47ms/step - mean_absolute_percentage_error: 25.3419 - loss: 0.6446 - regularization_loss: 0.0000e+00 - total_loss: 0.6446 - val_mean_absolute_percentage_error: 31.6775 - val_loss: 0.7722 - val_regularization_loss: 0.0000e+00 - val_total_loss: 0.7722\n",
            "Epoch 22/50\n",
            "10/10 [==============================] - 0s 48ms/step - mean_absolute_percentage_error: 25.2292 - loss: 0.6395 - regularization_loss: 0.0000e+00 - total_loss: 0.6395 - val_mean_absolute_percentage_error: 29.2010 - val_loss: 0.7608 - val_regularization_loss: 0.0000e+00 - val_total_loss: 0.7608\n",
            "Epoch 23/50\n",
            "10/10 [==============================] - 0s 48ms/step - mean_absolute_percentage_error: 25.1112 - loss: 0.6300 - regularization_loss: 0.0000e+00 - total_loss: 0.6300 - val_mean_absolute_percentage_error: 29.0159 - val_loss: 0.7596 - val_regularization_loss: 0.0000e+00 - val_total_loss: 0.7596\n",
            "Epoch 24/50\n",
            "10/10 [==============================] - 1s 76ms/step - mean_absolute_percentage_error: 24.3374 - loss: 0.6222 - regularization_loss: 0.0000e+00 - total_loss: 0.6222 - val_mean_absolute_percentage_error: 32.0188 - val_loss: 0.7773 - val_regularization_loss: 0.0000e+00 - val_total_loss: 0.7773\n",
            "Epoch 25/50\n",
            "10/10 [==============================] - 1s 85ms/step - mean_absolute_percentage_error: 24.2269 - loss: 0.6174 - regularization_loss: 0.0000e+00 - total_loss: 0.6174 - val_mean_absolute_percentage_error: 29.7153 - val_loss: 0.7644 - val_regularization_loss: 0.0000e+00 - val_total_loss: 0.7644\n",
            "Epoch 26/50\n",
            "10/10 [==============================] - 0s 48ms/step - mean_absolute_percentage_error: 24.1228 - loss: 0.6088 - regularization_loss: 0.0000e+00 - total_loss: 0.6088 - val_mean_absolute_percentage_error: 29.0022 - val_loss: 0.7807 - val_regularization_loss: 0.0000e+00 - val_total_loss: 0.7807\n",
            "Epoch 27/50\n",
            "10/10 [==============================] - 0s 46ms/step - mean_absolute_percentage_error: 23.5320 - loss: 0.6040 - regularization_loss: 0.0000e+00 - total_loss: 0.6040 - val_mean_absolute_percentage_error: 31.2028 - val_loss: 0.7808 - val_regularization_loss: 0.0000e+00 - val_total_loss: 0.7808\n",
            "Epoch 28/50\n",
            "10/10 [==============================] - 0s 46ms/step - mean_absolute_percentage_error: 23.0834 - loss: 0.5947 - regularization_loss: 0.0000e+00 - total_loss: 0.5947 - val_mean_absolute_percentage_error: 31.0090 - val_loss: 0.7943 - val_regularization_loss: 0.0000e+00 - val_total_loss: 0.7943\n",
            "Epoch 29/50\n",
            "10/10 [==============================] - 0s 49ms/step - mean_absolute_percentage_error: 23.3820 - loss: 0.5951 - regularization_loss: 0.0000e+00 - total_loss: 0.5951 - val_mean_absolute_percentage_error: 28.5523 - val_loss: 0.8029 - val_regularization_loss: 0.0000e+00 - val_total_loss: 0.8029\n",
            "Epoch 30/50\n",
            "10/10 [==============================] - 0s 47ms/step - mean_absolute_percentage_error: 23.2547 - loss: 0.6020 - regularization_loss: 0.0000e+00 - total_loss: 0.6020 - val_mean_absolute_percentage_error: 29.8343 - val_loss: 0.7799 - val_regularization_loss: 0.0000e+00 - val_total_loss: 0.7799\n",
            "Epoch 31/50\n",
            "10/10 [==============================] - 0s 46ms/step - mean_absolute_percentage_error: 22.4645 - loss: 0.5867 - regularization_loss: 0.0000e+00 - total_loss: 0.5867 - val_mean_absolute_percentage_error: 31.8573 - val_loss: 0.8057 - val_regularization_loss: 0.0000e+00 - val_total_loss: 0.8057\n",
            "Epoch 32/50\n",
            "10/10 [==============================] - 0s 47ms/step - mean_absolute_percentage_error: 22.5430 - loss: 0.5809 - regularization_loss: 0.0000e+00 - total_loss: 0.5809 - val_mean_absolute_percentage_error: 28.8970 - val_loss: 0.7996 - val_regularization_loss: 0.0000e+00 - val_total_loss: 0.7996\n",
            "Epoch 33/50\n",
            "10/10 [==============================] - 0s 47ms/step - mean_absolute_percentage_error: 21.9803 - loss: 0.5696 - regularization_loss: 0.0000e+00 - total_loss: 0.5696 - val_mean_absolute_percentage_error: 29.6470 - val_loss: 0.7830 - val_regularization_loss: 0.0000e+00 - val_total_loss: 0.7830\n",
            "Epoch 34/50\n",
            "10/10 [==============================] - 1s 54ms/step - mean_absolute_percentage_error: 21.1814 - loss: 0.5560 - regularization_loss: 0.0000e+00 - total_loss: 0.5560 - val_mean_absolute_percentage_error: 32.4041 - val_loss: 0.8149 - val_regularization_loss: 0.0000e+00 - val_total_loss: 0.8149\n",
            "Epoch 35/50\n",
            "10/10 [==============================] - 1s 97ms/step - mean_absolute_percentage_error: 21.4665 - loss: 0.5597 - regularization_loss: 0.0000e+00 - total_loss: 0.5597 - val_mean_absolute_percentage_error: 29.5512 - val_loss: 0.7971 - val_regularization_loss: 0.0000e+00 - val_total_loss: 0.7971\n",
            "Epoch 36/50\n",
            "10/10 [==============================] - 1s 96ms/step - mean_absolute_percentage_error: 21.2131 - loss: 0.5479 - regularization_loss: 0.0000e+00 - total_loss: 0.5479 - val_mean_absolute_percentage_error: 29.3303 - val_loss: 0.8039 - val_regularization_loss: 0.0000e+00 - val_total_loss: 0.8039\n",
            "Epoch 37/50\n",
            "10/10 [==============================] - 1s 84ms/step - mean_absolute_percentage_error: 20.6041 - loss: 0.5482 - regularization_loss: 0.0000e+00 - total_loss: 0.5482 - val_mean_absolute_percentage_error: 32.5843 - val_loss: 0.8135 - val_regularization_loss: 0.0000e+00 - val_total_loss: 0.8135\n",
            "Epoch 38/50\n",
            "10/10 [==============================] - 0s 47ms/step - mean_absolute_percentage_error: 20.5641 - loss: 0.5455 - regularization_loss: 0.0000e+00 - total_loss: 0.5455 - val_mean_absolute_percentage_error: 31.1295 - val_loss: 0.7988 - val_regularization_loss: 0.0000e+00 - val_total_loss: 0.7988\n",
            "Epoch 39/50\n",
            "10/10 [==============================] - 0s 47ms/step - mean_absolute_percentage_error: 20.7744 - loss: 0.5368 - regularization_loss: 0.0000e+00 - total_loss: 0.5368 - val_mean_absolute_percentage_error: 29.2584 - val_loss: 0.8173 - val_regularization_loss: 0.0000e+00 - val_total_loss: 0.8173\n",
            "Epoch 40/50\n",
            "10/10 [==============================] - 1s 65ms/step - mean_absolute_percentage_error: 20.2289 - loss: 0.5414 - regularization_loss: 0.0000e+00 - total_loss: 0.5414 - val_mean_absolute_percentage_error: 31.4190 - val_loss: 0.7999 - val_regularization_loss: 0.0000e+00 - val_total_loss: 0.7999\n",
            "Epoch 41/50\n",
            "10/10 [==============================] - 1s 86ms/step - mean_absolute_percentage_error: 19.6838 - loss: 0.5270 - regularization_loss: 0.0000e+00 - total_loss: 0.5270 - val_mean_absolute_percentage_error: 33.3726 - val_loss: 0.8367 - val_regularization_loss: 0.0000e+00 - val_total_loss: 0.8367\n"
          ]
        }
      ]
    },
    {
      "cell_type": "code",
      "source": [
        "# Plot the mean absolute percentage error and total loss\n",
        "plt.plot(history.history['mean_absolute_percentage_error'], label='Mean Absolute Percentage Error')\n",
        "plt.xlabel('Epoch')\n",
        "plt.ylabel('Error')\n",
        "plt.legend()\n",
        "plt.show()"
      ],
      "metadata": {
        "colab": {
          "base_uri": "https://localhost:8080/",
          "height": 279
        },
        "id": "zg1KENrSnblF",
        "outputId": "2bcee25d-850a-4f33-cd69-ee1d44f6cbe3"
      },
      "execution_count": 48,
      "outputs": [
        {
          "output_type": "display_data",
          "data": {
            "text/plain": [
              "<Figure size 432x288 with 1 Axes>"
            ],
            "image/png": "[encoded data removed]"
          },
          "metadata": {
            "needs_background": "light"
          }
        }
      ]
    },
    {
      "cell_type": "code",
      "source": [
        "# Plot the mean absolute percentage error and total loss\n",
        "plt.plot(history.history['loss'], label='Total Loss')\n",
        "plt.xlabel('Epoch')\n",
        "plt.ylabel('Total Loss')\n",
        "plt.legend()\n",
        "plt.show()"
      ],
      "metadata": {
        "colab": {
          "base_uri": "https://localhost:8080/",
          "height": 279
        },
        "id": "jqVCOoLdp2Ef",
        "outputId": "427568e7-13bd-4a16-fa22-f605e8c38ea3"
      },
      "execution_count": 49,
      "outputs": [
        {
          "output_type": "display_data",
          "data": {
            "text/plain": [
              "<Figure size 432x288 with 1 Axes>"
            ],
            "image/png": "[encoded data removed]"
          },
          "metadata": {
            "needs_background": "light"
          }
        }
      ]
    },
    {
      "cell_type": "code",
      "source": [
        "model.evaluate(cached_test, return_dict=True)"
      ],
      "metadata": {
        "colab": {
          "base_uri": "https://localhost:8080/"
        },
        "id": "UmWycLh_iNK8",
        "outputId": "29546e67-66bb-4e7a-d7e9-f6b282b87072"
      },
      "execution_count": 50,
      "outputs": [
        {
          "output_type": "stream",
          "name": "stdout",
          "text": [
            "5/5 [==============================] - 0s 9ms/step - mean_absolute_percentage_error: 33.3726 - loss: 0.8223 - regularization_loss: 0.0000e+00 - total_loss: 0.8223\n"
          ]
        },
        {
          "output_type": "execute_result",
          "data": {
            "text/plain": [
              "{'mean_absolute_percentage_error': 33.37262725830078,\n",
              " 'loss': 0.836696207523346,\n",
              " 'regularization_loss': 0,\n",
              " 'total_loss': 0.836696207523346}"
            ]
          },
          "metadata": {},
          "execution_count": 50
        }
      ]
    },
    {
      "cell_type": "markdown",
      "source": [
        "# Model testing"
      ],
      "metadata": {
        "id": "Np94Wy_8rmLy"
      }
    },
    {
      "cell_type": "code",
      "source": [
        "# Show a random list of movies rated by user 33\n",
        "user_id = df[df['user_id'] == 33]\n",
        "user_random_movies = user_id.sample(n=min(10, len(user_id)), random_state=5)\n",
        "print(user_random_movies)"
      ],
      "metadata": {
        "colab": {
          "base_uri": "https://localhost:8080/"
        },
        "id": "3fxgYwciDa9u",
        "outputId": "bc5bb6d3-2232-48f4-bd25-01dbe5b6a816"
      },
      "execution_count": 59,
      "outputs": [
        {
          "output_type": "stream",
          "name": "stdout",
          "text": [
            "                                  movie_title  user_id  user_rating\n",
            "85650                     Dante's Peak (1997)       33          4.0\n",
            "3511                         Liar Liar (1997)       33          3.0\n",
            "75515                 Devil's Own, The (1997)       33          3.0\n",
            "81744                         Mad City (1997)       33          3.0\n",
            "84498                        Game, The (1997)       33          4.0\n",
            "90376                Conspiracy Theory (1997)       33          4.0\n",
            "56824                        Soul Food (1997)       33          3.0\n",
            "41916                          Contact (1997)       33          4.0\n",
            "9730               Tomorrow Never Dies (1997)       33          4.0\n",
            "2992   I Know What You Did Last Summer (1997)       33          4.0\n"
          ]
        }
      ]
    },
    {
      "cell_type": "markdown",
      "source": [
        "### Save and interact with the model "
      ],
      "metadata": {
        "id": "NpHzW806waUH"
      }
    },
    {
      "cell_type": "code",
      "source": [
        "tf.saved_model.save(model, \"MovieRankingModel\")"
      ],
      "metadata": {
        "id": "rv_4avYNgfaz",
        "colab": {
          "base_uri": "https://localhost:8080/"
        },
        "outputId": "0df72eb4-e6e9-4588-d514-a7c0f7c467ef"
      },
      "execution_count": 60,
      "outputs": [
        {
          "output_type": "stream",
          "name": "stderr",
          "text": [
            "WARNING:absl:Found untraced functions such as ranking_2_layer_call_fn, ranking_2_layer_call_and_return_conditional_losses, _update_step_xla while saving (showing 3 of 3). These functions will not be directly callable after loading.\n"
          ]
        }
      ]
    },
    {
      "cell_type": "code",
      "source": [
        "MovieRankingsPredict = tf.saved_model.load(\"MovieRankingModel\")"
      ],
      "metadata": {
        "id": "e-eDXcqtvbnh"
      },
      "execution_count": 61,
      "outputs": []
    },
    {
      "cell_type": "code",
      "source": [
        "# extract movie titles from the dataset\n",
        "movies = ratings.map(lambda x: x[\"movie_title\"])\n",
        "movies = set([str(x.numpy().decode()) for x in movies])"
      ],
      "metadata": {
        "id": "pv70tup_BEr5"
      },
      "execution_count": 62,
      "outputs": []
    },
    {
      "cell_type": "code",
      "source": [
        "import random\n",
        "\n",
        "user_pred = input(\"Enter your user id: \")\n",
        "\n",
        "generate_movies = input(\"Generate a list of movies to try? (Y/N): \")\n",
        "if (generate_movies == \"y\"):\n",
        "  # generate list of random movie titles\n",
        "  random_movies = random.sample(movies, 5)\n",
        "  # output 5 random movies\n",
        "  print(f\"\\nPick one movie to rank:\")\n",
        "  for movie in random_movies:\n",
        "    print(\"- \" + movie)\n",
        "\n",
        "movie_title_pred = input(f\"\\nEnter the movie to predict ratings for: \")\n",
        "\n",
        "result = MovieRankingsPredict({\"user_id\": np.array([user_pred]), \"movie_title\": [movie_title_pred]})\n",
        "print(f\"User \" + user_pred + \"'s predicted rating for '\" + movie_title_pred + \"': \")\n",
        "result.numpy()[0][0]"
      ],
      "metadata": {
        "id": "mwkmr_k5gmK4",
        "colab": {
          "base_uri": "https://localhost:8080/"
        },
        "outputId": "1d2c567c-5f7d-49f4-fce6-0b193f2941b1"
      },
      "execution_count": 64,
      "outputs": [
        {
          "output_type": "stream",
          "name": "stdout",
          "text": [
            "Enter your user id: 645\n",
            "Generate a list of movies to try? (Y/N): y\n",
            "\n",
            "Pick one movie to rank:\n",
            "- Terminal Velocity (1994)\n",
            "- Power 98 (1995)\n",
            "- Of Love and Shadows (1994)\n",
            "- One Night Stand (1997)\n",
            "- Getting Even with Dad (1994)\n",
            "\n",
            "Enter the movie to predict ratings for: Terminal Velocity (1994)\n",
            "User 645's predicted rating for 'Terminal Velocity (1994)': \n"
          ]
        },
        {
          "output_type": "execute_result",
          "data": {
            "text/plain": [
              "3.2024999"
            ]
          },
          "metadata": {},
          "execution_count": 64
        }
      ]
    }
  ]
}