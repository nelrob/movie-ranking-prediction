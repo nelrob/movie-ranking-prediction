{
  "nbformat": 4,
  "nbformat_minor": 0,
  "metadata": {
    "colab": {
      "provenance": [],
      "collapsed_sections": [
        "yvM9ljMRYC0W"
      ],
      "include_colab_link": true
    },
    "kernelspec": {
      "name": "python3",
      "display_name": "Python 3"
    },
    "language_info": {
      "name": "python"
    },
    "widgets": {
      "application/vnd.jupyter.widget-state+json": {
        "9fe40d62a21e479fa45b1d8978d48062": {
          "model_module": "@jupyter-widgets/controls",
          "model_name": "HBoxModel",
          "model_module_version": "1.5.0",
          "state": {
            "_dom_classes": [],
            "_model_module": "@jupyter-widgets/controls",
            "_model_module_version": "1.5.0",
            "_model_name": "HBoxModel",
            "_view_count": null,
            "_view_module": "@jupyter-widgets/controls",
            "_view_module_version": "1.5.0",
            "_view_name": "HBoxView",
            "box_style": "",
            "children": [
              "IPY_MODEL_6cca4502132c42a99b185f1944602b39",
              "IPY_MODEL_e45dee14254c43a8b62752f2034a6ceb",
              "IPY_MODEL_dba68e05da6644bcb5bde2a563f88d2e"
            ],
            "layout": "IPY_MODEL_e30d6a772b384cce9b3c623584d5e02b"
          }
        },
        "6cca4502132c42a99b185f1944602b39": {
          "model_module": "@jupyter-widgets/controls",
          "model_name": "HTMLModel",
          "model_module_version": "1.5.0",
          "state": {
            "_dom_classes": [],
            "_model_module": "@jupyter-widgets/controls",
            "_model_module_version": "1.5.0",
            "_model_name": "HTMLModel",
            "_view_count": null,
            "_view_module": "@jupyter-widgets/controls",
            "_view_module_version": "1.5.0",
            "_view_name": "HTMLView",
            "description": "",
            "description_tooltip": null,
            "layout": "IPY_MODEL_a99a073ca6804634ba58d06f877aeef8",
            "placeholder": "​",
            "style": "IPY_MODEL_4bbbd8a1af5f4e01a48284538f7ecd44",
            "value": "Dl Completed...: 100%"
          }
        },
        "e45dee14254c43a8b62752f2034a6ceb": {
          "model_module": "@jupyter-widgets/controls",
          "model_name": "FloatProgressModel",
          "model_module_version": "1.5.0",
          "state": {
            "_dom_classes": [],
            "_model_module": "@jupyter-widgets/controls",
            "_model_module_version": "1.5.0",
            "_model_name": "FloatProgressModel",
            "_view_count": null,
            "_view_module": "@jupyter-widgets/controls",
            "_view_module_version": "1.5.0",
            "_view_name": "ProgressView",
            "bar_style": "success",
            "description": "",
            "description_tooltip": null,
            "layout": "IPY_MODEL_ed6d66f82d5a45d38c3836dca18c84fc",
            "max": 1,
            "min": 0,
            "orientation": "horizontal",
            "style": "IPY_MODEL_1e05f2d937c4488bb438e34982e32117",
            "value": 1
          }
        },
        "dba68e05da6644bcb5bde2a563f88d2e": {
          "model_module": "@jupyter-widgets/controls",
          "model_name": "HTMLModel",
          "model_module_version": "1.5.0",
          "state": {
            "_dom_classes": [],
            "_model_module": "@jupyter-widgets/controls",
            "_model_module_version": "1.5.0",
            "_model_name": "HTMLModel",
            "_view_count": null,
            "_view_module": "@jupyter-widgets/controls",
            "_view_module_version": "1.5.0",
            "_view_name": "HTMLView",
            "description": "",
            "description_tooltip": null,
            "layout": "IPY_MODEL_9c7085ad36d742689e292ec36300a833",
            "placeholder": "​",
            "style": "IPY_MODEL_a4f146f150604b639353ff41447b8134",
            "value": " 1/1 [00:00&lt;00:00,  2.08 url/s]"
          }
        },
        "e30d6a772b384cce9b3c623584d5e02b": {
          "model_module": "@jupyter-widgets/base",
          "model_name": "LayoutModel",
          "model_module_version": "1.2.0",
          "state": {
            "_model_module": "@jupyter-widgets/base",
            "_model_module_version": "1.2.0",
            "_model_name": "LayoutModel",
            "_view_count": null,
            "_view_module": "@jupyter-widgets/base",
            "_view_module_version": "1.2.0",
            "_view_name": "LayoutView",
            "align_content": null,
            "align_items": null,
            "align_self": null,
            "border": null,
            "bottom": null,
            "display": null,
            "flex": null,
            "flex_flow": null,
            "grid_area": null,
            "grid_auto_columns": null,
            "grid_auto_flow": null,
            "grid_auto_rows": null,
            "grid_column": null,
            "grid_gap": null,
            "grid_row": null,
            "grid_template_areas": null,
            "grid_template_columns": null,
            "grid_template_rows": null,
            "height": null,
            "justify_content": null,
            "justify_items": null,
            "left": null,
            "margin": null,
            "max_height": null,
            "max_width": null,
            "min_height": null,
            "min_width": null,
            "object_fit": null,
            "object_position": null,
            "order": null,
            "overflow": null,
            "overflow_x": null,
            "overflow_y": null,
            "padding": null,
            "right": null,
            "top": null,
            "visibility": null,
            "width": null
          }
        },
        "a99a073ca6804634ba58d06f877aeef8": {
          "model_module": "@jupyter-widgets/base",
          "model_name": "LayoutModel",
          "model_module_version": "1.2.0",
          "state": {
            "_model_module": "@jupyter-widgets/base",
            "_model_module_version": "1.2.0",
            "_model_name": "LayoutModel",
            "_view_count": null,
            "_view_module": "@jupyter-widgets/base",
            "_view_module_version": "1.2.0",
            "_view_name": "LayoutView",
            "align_content": null,
            "align_items": null,
            "align_self": null,
            "border": null,
            "bottom": null,
            "display": null,
            "flex": null,
            "flex_flow": null,
            "grid_area": null,
            "grid_auto_columns": null,
            "grid_auto_flow": null,
            "grid_auto_rows": null,
            "grid_column": null,
            "grid_gap": null,
            "grid_row": null,
            "grid_template_areas": null,
            "grid_template_columns": null,
            "grid_template_rows": null,
            "height": null,
            "justify_content": null,
            "justify_items": null,
            "left": null,
            "margin": null,
            "max_height": null,
            "max_width": null,
            "min_height": null,
            "min_width": null,
            "object_fit": null,
            "object_position": null,
            "order": null,
            "overflow": null,
            "overflow_x": null,
            "overflow_y": null,
            "padding": null,
            "right": null,
            "top": null,
            "visibility": null,
            "width": null
          }
        },
        "4bbbd8a1af5f4e01a48284538f7ecd44": {
          "model_module": "@jupyter-widgets/controls",
          "model_name": "DescriptionStyleModel",
          "model_module_version": "1.5.0",
          "state": {
            "_model_module": "@jupyter-widgets/controls",
            "_model_module_version": "1.5.0",
            "_model_name": "DescriptionStyleModel",
            "_view_count": null,
            "_view_module": "@jupyter-widgets/base",
            "_view_module_version": "1.2.0",
            "_view_name": "StyleView",
            "description_width": ""
          }
        },
        "ed6d66f82d5a45d38c3836dca18c84fc": {
          "model_module": "@jupyter-widgets/base",
          "model_name": "LayoutModel",
          "model_module_version": "1.2.0",
          "state": {
            "_model_module": "@jupyter-widgets/base",
            "_model_module_version": "1.2.0",
            "_model_name": "LayoutModel",
            "_view_count": null,
            "_view_module": "@jupyter-widgets/base",
            "_view_module_version": "1.2.0",
            "_view_name": "LayoutView",
            "align_content": null,
            "align_items": null,
            "align_self": null,
            "border": null,
            "bottom": null,
            "display": null,
            "flex": null,
            "flex_flow": null,
            "grid_area": null,
            "grid_auto_columns": null,
            "grid_auto_flow": null,
            "grid_auto_rows": null,
            "grid_column": null,
            "grid_gap": null,
            "grid_row": null,
            "grid_template_areas": null,
            "grid_template_columns": null,
            "grid_template_rows": null,
            "height": null,
            "justify_content": null,
            "justify_items": null,
            "left": null,
            "margin": null,
            "max_height": null,
            "max_width": null,
            "min_height": null,
            "min_width": null,
            "object_fit": null,
            "object_position": null,
            "order": null,
            "overflow": null,
            "overflow_x": null,
            "overflow_y": null,
            "padding": null,
            "right": null,
            "top": null,
            "visibility": null,
            "width": "20px"
          }
        },
        "1e05f2d937c4488bb438e34982e32117": {
          "model_module": "@jupyter-widgets/controls",
          "model_name": "ProgressStyleModel",
          "model_module_version": "1.5.0",
          "state": {
            "_model_module": "@jupyter-widgets/controls",
            "_model_module_version": "1.5.0",
            "_model_name": "ProgressStyleModel",
            "_view_count": null,
            "_view_module": "@jupyter-widgets/base",
            "_view_module_version": "1.2.0",
            "_view_name": "StyleView",
            "bar_color": null,
            "description_width": ""
          }
        },
        "9c7085ad36d742689e292ec36300a833": {
          "model_module": "@jupyter-widgets/base",
          "model_name": "LayoutModel",
          "model_module_version": "1.2.0",
          "state": {
            "_model_module": "@jupyter-widgets/base",
            "_model_module_version": "1.2.0",
            "_model_name": "LayoutModel",
            "_view_count": null,
            "_view_module": "@jupyter-widgets/base",
            "_view_module_version": "1.2.0",
            "_view_name": "LayoutView",
            "align_content": null,
            "align_items": null,
            "align_self": null,
            "border": null,
            "bottom": null,
            "display": null,
            "flex": null,
            "flex_flow": null,
            "grid_area": null,
            "grid_auto_columns": null,
            "grid_auto_flow": null,
            "grid_auto_rows": null,
            "grid_column": null,
            "grid_gap": null,
            "grid_row": null,
            "grid_template_areas": null,
            "grid_template_columns": null,
            "grid_template_rows": null,
            "height": null,
            "justify_content": null,
            "justify_items": null,
            "left": null,
            "margin": null,
            "max_height": null,
            "max_width": null,
            "min_height": null,
            "min_width": null,
            "object_fit": null,
            "object_position": null,
            "order": null,
            "overflow": null,
            "overflow_x": null,
            "overflow_y": null,
            "padding": null,
            "right": null,
            "top": null,
            "visibility": null,
            "width": null
          }
        },
        "a4f146f150604b639353ff41447b8134": {
          "model_module": "@jupyter-widgets/controls",
          "model_name": "DescriptionStyleModel",
          "model_module_version": "1.5.0",
          "state": {
            "_model_module": "@jupyter-widgets/controls",
            "_model_module_version": "1.5.0",
            "_model_name": "DescriptionStyleModel",
            "_view_count": null,
            "_view_module": "@jupyter-widgets/base",
            "_view_module_version": "1.2.0",
            "_view_name": "StyleView",
            "description_width": ""
          }
        },
        "1903bfcb41834727a134795e9fef5a05": {
          "model_module": "@jupyter-widgets/controls",
          "model_name": "HBoxModel",
          "model_module_version": "1.5.0",
          "state": {
            "_dom_classes": [],
            "_model_module": "@jupyter-widgets/controls",
            "_model_module_version": "1.5.0",
            "_model_name": "HBoxModel",
            "_view_count": null,
            "_view_module": "@jupyter-widgets/controls",
            "_view_module_version": "1.5.0",
            "_view_name": "HBoxView",
            "box_style": "",
            "children": [
              "IPY_MODEL_bb2fddf3b8444ac588e7a05bd378c6e3",
              "IPY_MODEL_eb20c0dc81b04660a526e8ed1674d649",
              "IPY_MODEL_ec4611beebb14c6d9660b31ba5b45d1f"
            ],
            "layout": "IPY_MODEL_81db828806854dbfbac35a81585eb4fb"
          }
        },
        "bb2fddf3b8444ac588e7a05bd378c6e3": {
          "model_module": "@jupyter-widgets/controls",
          "model_name": "HTMLModel",
          "model_module_version": "1.5.0",
          "state": {
            "_dom_classes": [],
            "_model_module": "@jupyter-widgets/controls",
            "_model_module_version": "1.5.0",
            "_model_name": "HTMLModel",
            "_view_count": null,
            "_view_module": "@jupyter-widgets/controls",
            "_view_module_version": "1.5.0",
            "_view_name": "HTMLView",
            "description": "",
            "description_tooltip": null,
            "layout": "IPY_MODEL_78bbfae416594879b35abf551a5db8ae",
            "placeholder": "​",
            "style": "IPY_MODEL_c16c23c8342947c99be933a6c4a73155",
            "value": "Dl Size...: 100%"
          }
        },
        "eb20c0dc81b04660a526e8ed1674d649": {
          "model_module": "@jupyter-widgets/controls",
          "model_name": "FloatProgressModel",
          "model_module_version": "1.5.0",
          "state": {
            "_dom_classes": [],
            "_model_module": "@jupyter-widgets/controls",
            "_model_module_version": "1.5.0",
            "_model_name": "FloatProgressModel",
            "_view_count": null,
            "_view_module": "@jupyter-widgets/controls",
            "_view_module_version": "1.5.0",
            "_view_name": "ProgressView",
            "bar_style": "success",
            "description": "",
            "description_tooltip": null,
            "layout": "IPY_MODEL_6aba5cbfa8ae4f66aa67c7ae207ed0da",
            "max": 1,
            "min": 0,
            "orientation": "horizontal",
            "style": "IPY_MODEL_e3942c2baf4b4d929d8f551348b523e5",
            "value": 1
          }
        },
        "ec4611beebb14c6d9660b31ba5b45d1f": {
          "model_module": "@jupyter-widgets/controls",
          "model_name": "HTMLModel",
          "model_module_version": "1.5.0",
          "state": {
            "_dom_classes": [],
            "_model_module": "@jupyter-widgets/controls",
            "_model_module_version": "1.5.0",
            "_model_name": "HTMLModel",
            "_view_count": null,
            "_view_module": "@jupyter-widgets/controls",
            "_view_module_version": "1.5.0",
            "_view_name": "HTMLView",
            "description": "",
            "description_tooltip": null,
            "layout": "IPY_MODEL_40cbb75218a74d7b812aadf81a6ca0a8",
            "placeholder": "​",
            "style": "IPY_MODEL_b3e8eb90848546b6b4f404868e0047c8",
            "value": " 4/4 [00:00&lt;00:00,  2.67 MiB/s]"
          }
        },
        "81db828806854dbfbac35a81585eb4fb": {
          "model_module": "@jupyter-widgets/base",
          "model_name": "LayoutModel",
          "model_module_version": "1.2.0",
          "state": {
            "_model_module": "@jupyter-widgets/base",
            "_model_module_version": "1.2.0",
            "_model_name": "LayoutModel",
            "_view_count": null,
            "_view_module": "@jupyter-widgets/base",
            "_view_module_version": "1.2.0",
            "_view_name": "LayoutView",
            "align_content": null,
            "align_items": null,
            "align_self": null,
            "border": null,
            "bottom": null,
            "display": null,
            "flex": null,
            "flex_flow": null,
            "grid_area": null,
            "grid_auto_columns": null,
            "grid_auto_flow": null,
            "grid_auto_rows": null,
            "grid_column": null,
            "grid_gap": null,
            "grid_row": null,
            "grid_template_areas": null,
            "grid_template_columns": null,
            "grid_template_rows": null,
            "height": null,
            "justify_content": null,
            "justify_items": null,
            "left": null,
            "margin": null,
            "max_height": null,
            "max_width": null,
            "min_height": null,
            "min_width": null,
            "object_fit": null,
            "object_position": null,
            "order": null,
            "overflow": null,
            "overflow_x": null,
            "overflow_y": null,
            "padding": null,
            "right": null,
            "top": null,
            "visibility": null,
            "width": null
          }
        },
        "78bbfae416594879b35abf551a5db8ae": {
          "model_module": "@jupyter-widgets/base",
          "model_name": "LayoutModel",
          "model_module_version": "1.2.0",
          "state": {
            "_model_module": "@jupyter-widgets/base",
            "_model_module_version": "1.2.0",
            "_model_name": "LayoutModel",
            "_view_count": null,
            "_view_module": "@jupyter-widgets/base",
            "_view_module_version": "1.2.0",
            "_view_name": "LayoutView",
            "align_content": null,
            "align_items": null,
            "align_self": null,
            "border": null,
            "bottom": null,
            "display": null,
            "flex": null,
            "flex_flow": null,
            "grid_area": null,
            "grid_auto_columns": null,
            "grid_auto_flow": null,
            "grid_auto_rows": null,
            "grid_column": null,
            "grid_gap": null,
            "grid_row": null,
            "grid_template_areas": null,
            "grid_template_columns": null,
            "grid_template_rows": null,
            "height": null,
            "justify_content": null,
            "justify_items": null,
            "left": null,
            "margin": null,
            "max_height": null,
            "max_width": null,
            "min_height": null,
            "min_width": null,
            "object_fit": null,
            "object_position": null,
            "order": null,
            "overflow": null,
            "overflow_x": null,
            "overflow_y": null,
            "padding": null,
            "right": null,
            "top": null,
            "visibility": null,
            "width": null
          }
        },
        "c16c23c8342947c99be933a6c4a73155": {
          "model_module": "@jupyter-widgets/controls",
          "model_name": "DescriptionStyleModel",
          "model_module_version": "1.5.0",
          "state": {
            "_model_module": "@jupyter-widgets/controls",
            "_model_module_version": "1.5.0",
            "_model_name": "DescriptionStyleModel",
            "_view_count": null,
            "_view_module": "@jupyter-widgets/base",
            "_view_module_version": "1.2.0",
            "_view_name": "StyleView",
            "description_width": ""
          }
        },
        "6aba5cbfa8ae4f66aa67c7ae207ed0da": {
          "model_module": "@jupyter-widgets/base",
          "model_name": "LayoutModel",
          "model_module_version": "1.2.0",
          "state": {
            "_model_module": "@jupyter-widgets/base",
            "_model_module_version": "1.2.0",
            "_model_name": "LayoutModel",
            "_view_count": null,
            "_view_module": "@jupyter-widgets/base",
            "_view_module_version": "1.2.0",
            "_view_name": "LayoutView",
            "align_content": null,
            "align_items": null,
            "align_self": null,
            "border": null,
            "bottom": null,
            "display": null,
            "flex": null,
            "flex_flow": null,
            "grid_area": null,
            "grid_auto_columns": null,
            "grid_auto_flow": null,
            "grid_auto_rows": null,
            "grid_column": null,
            "grid_gap": null,
            "grid_row": null,
            "grid_template_areas": null,
            "grid_template_columns": null,
            "grid_template_rows": null,
            "height": null,
            "justify_content": null,
            "justify_items": null,
            "left": null,
            "margin": null,
            "max_height": null,
            "max_width": null,
            "min_height": null,
            "min_width": null,
            "object_fit": null,
            "object_position": null,
            "order": null,
            "overflow": null,
            "overflow_x": null,
            "overflow_y": null,
            "padding": null,
            "right": null,
            "top": null,
            "visibility": null,
            "width": "20px"
          }
        },
        "e3942c2baf4b4d929d8f551348b523e5": {
          "model_module": "@jupyter-widgets/controls",
          "model_name": "ProgressStyleModel",
          "model_module_version": "1.5.0",
          "state": {
            "_model_module": "@jupyter-widgets/controls",
            "_model_module_version": "1.5.0",
            "_model_name": "ProgressStyleModel",
            "_view_count": null,
            "_view_module": "@jupyter-widgets/base",
            "_view_module_version": "1.2.0",
            "_view_name": "StyleView",
            "bar_color": null,
            "description_width": ""
          }
        },
        "40cbb75218a74d7b812aadf81a6ca0a8": {
          "model_module": "@jupyter-widgets/base",
          "model_name": "LayoutModel",
          "model_module_version": "1.2.0",
          "state": {
            "_model_module": "@jupyter-widgets/base",
            "_model_module_version": "1.2.0",
            "_model_name": "LayoutModel",
            "_view_count": null,
            "_view_module": "@jupyter-widgets/base",
            "_view_module_version": "1.2.0",
            "_view_name": "LayoutView",
            "align_content": null,
            "align_items": null,
            "align_self": null,
            "border": null,
            "bottom": null,
            "display": null,
            "flex": null,
            "flex_flow": null,
            "grid_area": null,
            "grid_auto_columns": null,
            "grid_auto_flow": null,
            "grid_auto_rows": null,
            "grid_column": null,
            "grid_gap": null,
            "grid_row": null,
            "grid_template_areas": null,
            "grid_template_columns": null,
            "grid_template_rows": null,
            "height": null,
            "justify_content": null,
            "justify_items": null,
            "left": null,
            "margin": null,
            "max_height": null,
            "max_width": null,
            "min_height": null,
            "min_width": null,
            "object_fit": null,
            "object_position": null,
            "order": null,
            "overflow": null,
            "overflow_x": null,
            "overflow_y": null,
            "padding": null,
            "right": null,
            "top": null,
            "visibility": null,
            "width": null
          }
        },
        "b3e8eb90848546b6b4f404868e0047c8": {
          "model_module": "@jupyter-widgets/controls",
          "model_name": "DescriptionStyleModel",
          "model_module_version": "1.5.0",
          "state": {
            "_model_module": "@jupyter-widgets/controls",
            "_model_module_version": "1.5.0",
            "_model_name": "DescriptionStyleModel",
            "_view_count": null,
            "_view_module": "@jupyter-widgets/base",
            "_view_module_version": "1.2.0",
            "_view_name": "StyleView",
            "description_width": ""
          }
        },
        "3e7b4bb9e38948abac111199ff989b79": {
          "model_module": "@jupyter-widgets/controls",
          "model_name": "HBoxModel",
          "model_module_version": "1.5.0",
          "state": {
            "_dom_classes": [],
            "_model_module": "@jupyter-widgets/controls",
            "_model_module_version": "1.5.0",
            "_model_name": "HBoxModel",
            "_view_count": null,
            "_view_module": "@jupyter-widgets/controls",
            "_view_module_version": "1.5.0",
            "_view_name": "HBoxView",
            "box_style": "",
            "children": [
              "IPY_MODEL_4153c451ac3d40d88b1f3267fb43c8d4",
              "IPY_MODEL_7f244f7994eb4354ac994bd30bae6761",
              "IPY_MODEL_8836452c32834459b298473f8b60851e"
            ],
            "layout": "IPY_MODEL_d55491c5dcdb46c3bd8a793226066365"
          }
        },
        "4153c451ac3d40d88b1f3267fb43c8d4": {
          "model_module": "@jupyter-widgets/controls",
          "model_name": "HTMLModel",
          "model_module_version": "1.5.0",
          "state": {
            "_dom_classes": [],
            "_model_module": "@jupyter-widgets/controls",
            "_model_module_version": "1.5.0",
            "_model_name": "HTMLModel",
            "_view_count": null,
            "_view_module": "@jupyter-widgets/controls",
            "_view_module_version": "1.5.0",
            "_view_name": "HTMLView",
            "description": "",
            "description_tooltip": null,
            "layout": "IPY_MODEL_f3272a834abb40a284bdef8f86bffe6c",
            "placeholder": "​",
            "style": "IPY_MODEL_57b2f13eec5a44aaacf8fd0f75410bba",
            "value": "Extraction completed...: 100%"
          }
        },
        "7f244f7994eb4354ac994bd30bae6761": {
          "model_module": "@jupyter-widgets/controls",
          "model_name": "FloatProgressModel",
          "model_module_version": "1.5.0",
          "state": {
            "_dom_classes": [],
            "_model_module": "@jupyter-widgets/controls",
            "_model_module_version": "1.5.0",
            "_model_name": "FloatProgressModel",
            "_view_count": null,
            "_view_module": "@jupyter-widgets/controls",
            "_view_module_version": "1.5.0",
            "_view_name": "ProgressView",
            "bar_style": "success",
            "description": "",
            "description_tooltip": null,
            "layout": "IPY_MODEL_bdc219f341504054959a771eaa25ab3d",
            "max": 1,
            "min": 0,
            "orientation": "horizontal",
            "style": "IPY_MODEL_046acf3a3bbb42e8af5ca246ad3fb21e",
            "value": 1
          }
        },
        "8836452c32834459b298473f8b60851e": {
          "model_module": "@jupyter-widgets/controls",
          "model_name": "HTMLModel",
          "model_module_version": "1.5.0",
          "state": {
            "_dom_classes": [],
            "_model_module": "@jupyter-widgets/controls",
            "_model_module_version": "1.5.0",
            "_model_name": "HTMLModel",
            "_view_count": null,
            "_view_module": "@jupyter-widgets/controls",
            "_view_module_version": "1.5.0",
            "_view_name": "HTMLView",
            "description": "",
            "description_tooltip": null,
            "layout": "IPY_MODEL_4a4e9b371d16478ebf8e7697cb9b9863",
            "placeholder": "​",
            "style": "IPY_MODEL_8f70cf8767164addba5c39a8b211bee6",
            "value": " 23/23 [00:00&lt;00:00,  1.55 file/s]"
          }
        },
        "d55491c5dcdb46c3bd8a793226066365": {
          "model_module": "@jupyter-widgets/base",
          "model_name": "LayoutModel",
          "model_module_version": "1.2.0",
          "state": {
            "_model_module": "@jupyter-widgets/base",
            "_model_module_version": "1.2.0",
            "_model_name": "LayoutModel",
            "_view_count": null,
            "_view_module": "@jupyter-widgets/base",
            "_view_module_version": "1.2.0",
            "_view_name": "LayoutView",
            "align_content": null,
            "align_items": null,
            "align_self": null,
            "border": null,
            "bottom": null,
            "display": null,
            "flex": null,
            "flex_flow": null,
            "grid_area": null,
            "grid_auto_columns": null,
            "grid_auto_flow": null,
            "grid_auto_rows": null,
            "grid_column": null,
            "grid_gap": null,
            "grid_row": null,
            "grid_template_areas": null,
            "grid_template_columns": null,
            "grid_template_rows": null,
            "height": null,
            "justify_content": null,
            "justify_items": null,
            "left": null,
            "margin": null,
            "max_height": null,
            "max_width": null,
            "min_height": null,
            "min_width": null,
            "object_fit": null,
            "object_position": null,
            "order": null,
            "overflow": null,
            "overflow_x": null,
            "overflow_y": null,
            "padding": null,
            "right": null,
            "top": null,
            "visibility": null,
            "width": null
          }
        },
        "f3272a834abb40a284bdef8f86bffe6c": {
          "model_module": "@jupyter-widgets/base",
          "model_name": "LayoutModel",
          "model_module_version": "1.2.0",
          "state": {
            "_model_module": "@jupyter-widgets/base",
            "_model_module_version": "1.2.0",
            "_model_name": "LayoutModel",
            "_view_count": null,
            "_view_module": "@jupyter-widgets/base",
            "_view_module_version": "1.2.0",
            "_view_name": "LayoutView",
            "align_content": null,
            "align_items": null,
            "align_self": null,
            "border": null,
            "bottom": null,
            "display": null,
            "flex": null,
            "flex_flow": null,
            "grid_area": null,
            "grid_auto_columns": null,
            "grid_auto_flow": null,
            "grid_auto_rows": null,
            "grid_column": null,
            "grid_gap": null,
            "grid_row": null,
            "grid_template_areas": null,
            "grid_template_columns": null,
            "grid_template_rows": null,
            "height": null,
            "justify_content": null,
            "justify_items": null,
            "left": null,
            "margin": null,
            "max_height": null,
            "max_width": null,
            "min_height": null,
            "min_width": null,
            "object_fit": null,
            "object_position": null,
            "order": null,
            "overflow": null,
            "overflow_x": null,
            "overflow_y": null,
            "padding": null,
            "right": null,
            "top": null,
            "visibility": null,
            "width": null
          }
        },
        "57b2f13eec5a44aaacf8fd0f75410bba": {
          "model_module": "@jupyter-widgets/controls",
          "model_name": "DescriptionStyleModel",
          "model_module_version": "1.5.0",
          "state": {
            "_model_module": "@jupyter-widgets/controls",
            "_model_module_version": "1.5.0",
            "_model_name": "DescriptionStyleModel",
            "_view_count": null,
            "_view_module": "@jupyter-widgets/base",
            "_view_module_version": "1.2.0",
            "_view_name": "StyleView",
            "description_width": ""
          }
        },
        "bdc219f341504054959a771eaa25ab3d": {
          "model_module": "@jupyter-widgets/base",
          "model_name": "LayoutModel",
          "model_module_version": "1.2.0",
          "state": {
            "_model_module": "@jupyter-widgets/base",
            "_model_module_version": "1.2.0",
            "_model_name": "LayoutModel",
            "_view_count": null,
            "_view_module": "@jupyter-widgets/base",
            "_view_module_version": "1.2.0",
            "_view_name": "LayoutView",
            "align_content": null,
            "align_items": null,
            "align_self": null,
            "border": null,
            "bottom": null,
            "display": null,
            "flex": null,
            "flex_flow": null,
            "grid_area": null,
            "grid_auto_columns": null,
            "grid_auto_flow": null,
            "grid_auto_rows": null,
            "grid_column": null,
            "grid_gap": null,
            "grid_row": null,
            "grid_template_areas": null,
            "grid_template_columns": null,
            "grid_template_rows": null,
            "height": null,
            "justify_content": null,
            "justify_items": null,
            "left": null,
            "margin": null,
            "max_height": null,
            "max_width": null,
            "min_height": null,
            "min_width": null,
            "object_fit": null,
            "object_position": null,
            "order": null,
            "overflow": null,
            "overflow_x": null,
            "overflow_y": null,
            "padding": null,
            "right": null,
            "top": null,
            "visibility": null,
            "width": "20px"
          }
        },
        "046acf3a3bbb42e8af5ca246ad3fb21e": {
          "model_module": "@jupyter-widgets/controls",
          "model_name": "ProgressStyleModel",
          "model_module_version": "1.5.0",
          "state": {
            "_model_module": "@jupyter-widgets/controls",
            "_model_module_version": "1.5.0",
            "_model_name": "ProgressStyleModel",
            "_view_count": null,
            "_view_module": "@jupyter-widgets/base",
            "_view_module_version": "1.2.0",
            "_view_name": "StyleView",
            "bar_color": null,
            "description_width": ""
          }
        },
        "4a4e9b371d16478ebf8e7697cb9b9863": {
          "model_module": "@jupyter-widgets/base",
          "model_name": "LayoutModel",
          "model_module_version": "1.2.0",
          "state": {
            "_model_module": "@jupyter-widgets/base",
            "_model_module_version": "1.2.0",
            "_model_name": "LayoutModel",
            "_view_count": null,
            "_view_module": "@jupyter-widgets/base",
            "_view_module_version": "1.2.0",
            "_view_name": "LayoutView",
            "align_content": null,
            "align_items": null,
            "align_self": null,
            "border": null,
            "bottom": null,
            "display": null,
            "flex": null,
            "flex_flow": null,
            "grid_area": null,
            "grid_auto_columns": null,
            "grid_auto_flow": null,
            "grid_auto_rows": null,
            "grid_column": null,
            "grid_gap": null,
            "grid_row": null,
            "grid_template_areas": null,
            "grid_template_columns": null,
            "grid_template_rows": null,
            "height": null,
            "justify_content": null,
            "justify_items": null,
            "left": null,
            "margin": null,
            "max_height": null,
            "max_width": null,
            "min_height": null,
            "min_width": null,
            "object_fit": null,
            "object_position": null,
            "order": null,
            "overflow": null,
            "overflow_x": null,
            "overflow_y": null,
            "padding": null,
            "right": null,
            "top": null,
            "visibility": null,
            "width": null
          }
        },
        "8f70cf8767164addba5c39a8b211bee6": {
          "model_module": "@jupyter-widgets/controls",
          "model_name": "DescriptionStyleModel",
          "model_module_version": "1.5.0",
          "state": {
            "_model_module": "@jupyter-widgets/controls",
            "_model_module_version": "1.5.0",
            "_model_name": "DescriptionStyleModel",
            "_view_count": null,
            "_view_module": "@jupyter-widgets/base",
            "_view_module_version": "1.2.0",
            "_view_name": "StyleView",
            "description_width": ""
          }
        },
        "7978c186302e4a9ebaafcfc24f2d8141": {
          "model_module": "@jupyter-widgets/controls",
          "model_name": "HBoxModel",
          "model_module_version": "1.5.0",
          "state": {
            "_dom_classes": [],
            "_model_module": "@jupyter-widgets/controls",
            "_model_module_version": "1.5.0",
            "_model_name": "HBoxModel",
            "_view_count": null,
            "_view_module": "@jupyter-widgets/controls",
            "_view_module_version": "1.5.0",
            "_view_name": "HBoxView",
            "box_style": "",
            "children": [
              "IPY_MODEL_4c73dbf3c67e4c65b52815d2beabbcb9",
              "IPY_MODEL_96652594b995457f899b75f11c67aa8a",
              "IPY_MODEL_94dd84356b67490faadba1f0e60b6e61"
            ],
            "layout": "IPY_MODEL_9c355285ac734a27ac736fefd15e086f"
          }
        },
        "4c73dbf3c67e4c65b52815d2beabbcb9": {
          "model_module": "@jupyter-widgets/controls",
          "model_name": "HTMLModel",
          "model_module_version": "1.5.0",
          "state": {
            "_dom_classes": [],
            "_model_module": "@jupyter-widgets/controls",
            "_model_module_version": "1.5.0",
            "_model_name": "HTMLModel",
            "_view_count": null,
            "_view_module": "@jupyter-widgets/controls",
            "_view_module_version": "1.5.0",
            "_view_name": "HTMLView",
            "description": "",
            "description_tooltip": null,
            "layout": "IPY_MODEL_cc4d61a9de7b43fa88bba3bb0444048d",
            "placeholder": "​",
            "style": "IPY_MODEL_f77e340667064f908b4f5eadb0294b02",
            "value": "Generating splits...: 100%"
          }
        },
        "96652594b995457f899b75f11c67aa8a": {
          "model_module": "@jupyter-widgets/controls",
          "model_name": "FloatProgressModel",
          "model_module_version": "1.5.0",
          "state": {
            "_dom_classes": [],
            "_model_module": "@jupyter-widgets/controls",
            "_model_module_version": "1.5.0",
            "_model_name": "FloatProgressModel",
            "_view_count": null,
            "_view_module": "@jupyter-widgets/controls",
            "_view_module_version": "1.5.0",
            "_view_name": "ProgressView",
            "bar_style": "",
            "description": "",
            "description_tooltip": null,
            "layout": "IPY_MODEL_9fd8fad771694927abcbc96ce42b88a1",
            "max": 1,
            "min": 0,
            "orientation": "horizontal",
            "style": "IPY_MODEL_c1baa4aa73184556addfcfcb9ca87121",
            "value": 1
          }
        },
        "94dd84356b67490faadba1f0e60b6e61": {
          "model_module": "@jupyter-widgets/controls",
          "model_name": "HTMLModel",
          "model_module_version": "1.5.0",
          "state": {
            "_dom_classes": [],
            "_model_module": "@jupyter-widgets/controls",
            "_model_module_version": "1.5.0",
            "_model_name": "HTMLModel",
            "_view_count": null,
            "_view_module": "@jupyter-widgets/controls",
            "_view_module_version": "1.5.0",
            "_view_name": "HTMLView",
            "description": "",
            "description_tooltip": null,
            "layout": "IPY_MODEL_6c2bdc50a7514a809ed02d08f30a83b4",
            "placeholder": "​",
            "style": "IPY_MODEL_ba841aac12414dd7bf5fa25b0f24494e",
            "value": " 1/1 [00:50&lt;00:00, 50.45s/ splits]"
          }
        },
        "9c355285ac734a27ac736fefd15e086f": {
          "model_module": "@jupyter-widgets/base",
          "model_name": "LayoutModel",
          "model_module_version": "1.2.0",
          "state": {
            "_model_module": "@jupyter-widgets/base",
            "_model_module_version": "1.2.0",
            "_model_name": "LayoutModel",
            "_view_count": null,
            "_view_module": "@jupyter-widgets/base",
            "_view_module_version": "1.2.0",
            "_view_name": "LayoutView",
            "align_content": null,
            "align_items": null,
            "align_self": null,
            "border": null,
            "bottom": null,
            "display": null,
            "flex": null,
            "flex_flow": null,
            "grid_area": null,
            "grid_auto_columns": null,
            "grid_auto_flow": null,
            "grid_auto_rows": null,
            "grid_column": null,
            "grid_gap": null,
            "grid_row": null,
            "grid_template_areas": null,
            "grid_template_columns": null,
            "grid_template_rows": null,
            "height": null,
            "justify_content": null,
            "justify_items": null,
            "left": null,
            "margin": null,
            "max_height": null,
            "max_width": null,
            "min_height": null,
            "min_width": null,
            "object_fit": null,
            "object_position": null,
            "order": null,
            "overflow": null,
            "overflow_x": null,
            "overflow_y": null,
            "padding": null,
            "right": null,
            "top": null,
            "visibility": "hidden",
            "width": null
          }
        },
        "cc4d61a9de7b43fa88bba3bb0444048d": {
          "model_module": "@jupyter-widgets/base",
          "model_name": "LayoutModel",
          "model_module_version": "1.2.0",
          "state": {
            "_model_module": "@jupyter-widgets/base",
            "_model_module_version": "1.2.0",
            "_model_name": "LayoutModel",
            "_view_count": null,
            "_view_module": "@jupyter-widgets/base",
            "_view_module_version": "1.2.0",
            "_view_name": "LayoutView",
            "align_content": null,
            "align_items": null,
            "align_self": null,
            "border": null,
            "bottom": null,
            "display": null,
            "flex": null,
            "flex_flow": null,
            "grid_area": null,
            "grid_auto_columns": null,
            "grid_auto_flow": null,
            "grid_auto_rows": null,
            "grid_column": null,
            "grid_gap": null,
            "grid_row": null,
            "grid_template_areas": null,
            "grid_template_columns": null,
            "grid_template_rows": null,
            "height": null,
            "justify_content": null,
            "justify_items": null,
            "left": null,
            "margin": null,
            "max_height": null,
            "max_width": null,
            "min_height": null,
            "min_width": null,
            "object_fit": null,
            "object_position": null,
            "order": null,
            "overflow": null,
            "overflow_x": null,
            "overflow_y": null,
            "padding": null,
            "right": null,
            "top": null,
            "visibility": null,
            "width": null
          }
        },
        "f77e340667064f908b4f5eadb0294b02": {
          "model_module": "@jupyter-widgets/controls",
          "model_name": "DescriptionStyleModel",
          "model_module_version": "1.5.0",
          "state": {
            "_model_module": "@jupyter-widgets/controls",
            "_model_module_version": "1.5.0",
            "_model_name": "DescriptionStyleModel",
            "_view_count": null,
            "_view_module": "@jupyter-widgets/base",
            "_view_module_version": "1.2.0",
            "_view_name": "StyleView",
            "description_width": ""
          }
        },
        "9fd8fad771694927abcbc96ce42b88a1": {
          "model_module": "@jupyter-widgets/base",
          "model_name": "LayoutModel",
          "model_module_version": "1.2.0",
          "state": {
            "_model_module": "@jupyter-widgets/base",
            "_model_module_version": "1.2.0",
            "_model_name": "LayoutModel",
            "_view_count": null,
            "_view_module": "@jupyter-widgets/base",
            "_view_module_version": "1.2.0",
            "_view_name": "LayoutView",
            "align_content": null,
            "align_items": null,
            "align_self": null,
            "border": null,
            "bottom": null,
            "display": null,
            "flex": null,
            "flex_flow": null,
            "grid_area": null,
            "grid_auto_columns": null,
            "grid_auto_flow": null,
            "grid_auto_rows": null,
            "grid_column": null,
            "grid_gap": null,
            "grid_row": null,
            "grid_template_areas": null,
            "grid_template_columns": null,
            "grid_template_rows": null,
            "height": null,
            "justify_content": null,
            "justify_items": null,
            "left": null,
            "margin": null,
            "max_height": null,
            "max_width": null,
            "min_height": null,
            "min_width": null,
            "object_fit": null,
            "object_position": null,
            "order": null,
            "overflow": null,
            "overflow_x": null,
            "overflow_y": null,
            "padding": null,
            "right": null,
            "top": null,
            "visibility": null,
            "width": null
          }
        },
        "c1baa4aa73184556addfcfcb9ca87121": {
          "model_module": "@jupyter-widgets/controls",
          "model_name": "ProgressStyleModel",
          "model_module_version": "1.5.0",
          "state": {
            "_model_module": "@jupyter-widgets/controls",
            "_model_module_version": "1.5.0",
            "_model_name": "ProgressStyleModel",
            "_view_count": null,
            "_view_module": "@jupyter-widgets/base",
            "_view_module_version": "1.2.0",
            "_view_name": "StyleView",
            "bar_color": null,
            "description_width": ""
          }
        },
        "6c2bdc50a7514a809ed02d08f30a83b4": {
          "model_module": "@jupyter-widgets/base",
          "model_name": "LayoutModel",
          "model_module_version": "1.2.0",
          "state": {
            "_model_module": "@jupyter-widgets/base",
            "_model_module_version": "1.2.0",
            "_model_name": "LayoutModel",
            "_view_count": null,
            "_view_module": "@jupyter-widgets/base",
            "_view_module_version": "1.2.0",
            "_view_name": "LayoutView",
            "align_content": null,
            "align_items": null,
            "align_self": null,
            "border": null,
            "bottom": null,
            "display": null,
            "flex": null,
            "flex_flow": null,
            "grid_area": null,
            "grid_auto_columns": null,
            "grid_auto_flow": null,
            "grid_auto_rows": null,
            "grid_column": null,
            "grid_gap": null,
            "grid_row": null,
            "grid_template_areas": null,
            "grid_template_columns": null,
            "grid_template_rows": null,
            "height": null,
            "justify_content": null,
            "justify_items": null,
            "left": null,
            "margin": null,
            "max_height": null,
            "max_width": null,
            "min_height": null,
            "min_width": null,
            "object_fit": null,
            "object_position": null,
            "order": null,
            "overflow": null,
            "overflow_x": null,
            "overflow_y": null,
            "padding": null,
            "right": null,
            "top": null,
            "visibility": null,
            "width": null
          }
        },
        "ba841aac12414dd7bf5fa25b0f24494e": {
          "model_module": "@jupyter-widgets/controls",
          "model_name": "DescriptionStyleModel",
          "model_module_version": "1.5.0",
          "state": {
            "_model_module": "@jupyter-widgets/controls",
            "_model_module_version": "1.5.0",
            "_model_name": "DescriptionStyleModel",
            "_view_count": null,
            "_view_module": "@jupyter-widgets/base",
            "_view_module_version": "1.2.0",
            "_view_name": "StyleView",
            "description_width": ""
          }
        },
        "8c4943ebabc74fb5a28e3e5a2041d073": {
          "model_module": "@jupyter-widgets/controls",
          "model_name": "HBoxModel",
          "model_module_version": "1.5.0",
          "state": {
            "_dom_classes": [],
            "_model_module": "@jupyter-widgets/controls",
            "_model_module_version": "1.5.0",
            "_model_name": "HBoxModel",
            "_view_count": null,
            "_view_module": "@jupyter-widgets/controls",
            "_view_module_version": "1.5.0",
            "_view_name": "HBoxView",
            "box_style": "",
            "children": [
              "IPY_MODEL_2f887ffa3a754ef4be0453550eced5d0",
              "IPY_MODEL_1202fae5279445cba89b41f183e4cf15",
              "IPY_MODEL_89ac2faab66a41acb0de01e2dbefce75"
            ],
            "layout": "IPY_MODEL_3fab6e41ff284e3b891a11559b8db111"
          }
        },
        "2f887ffa3a754ef4be0453550eced5d0": {
          "model_module": "@jupyter-widgets/controls",
          "model_name": "HTMLModel",
          "model_module_version": "1.5.0",
          "state": {
            "_dom_classes": [],
            "_model_module": "@jupyter-widgets/controls",
            "_model_module_version": "1.5.0",
            "_model_name": "HTMLModel",
            "_view_count": null,
            "_view_module": "@jupyter-widgets/controls",
            "_view_module_version": "1.5.0",
            "_view_name": "HTMLView",
            "description": "",
            "description_tooltip": null,
            "layout": "IPY_MODEL_fd4c98ebf5f141ff89153c2e70a2be6b",
            "placeholder": "​",
            "style": "IPY_MODEL_1c8739091a5c4de4bc3e23bf26b33a1a",
            "value": "Generating train examples...: 100%"
          }
        },
        "1202fae5279445cba89b41f183e4cf15": {
          "model_module": "@jupyter-widgets/controls",
          "model_name": "FloatProgressModel",
          "model_module_version": "1.5.0",
          "state": {
            "_dom_classes": [],
            "_model_module": "@jupyter-widgets/controls",
            "_model_module_version": "1.5.0",
            "_model_name": "FloatProgressModel",
            "_view_count": null,
            "_view_module": "@jupyter-widgets/controls",
            "_view_module_version": "1.5.0",
            "_view_name": "ProgressView",
            "bar_style": "",
            "description": "",
            "description_tooltip": null,
            "layout": "IPY_MODEL_445ef4c02c674ba384d459d20304477c",
            "max": 100000,
            "min": 0,
            "orientation": "horizontal",
            "style": "IPY_MODEL_7c6e172d6ff346e9848884404453d4f1",
            "value": 100000
          }
        },
        "89ac2faab66a41acb0de01e2dbefce75": {
          "model_module": "@jupyter-widgets/controls",
          "model_name": "HTMLModel",
          "model_module_version": "1.5.0",
          "state": {
            "_dom_classes": [],
            "_model_module": "@jupyter-widgets/controls",
            "_model_module_version": "1.5.0",
            "_model_name": "HTMLModel",
            "_view_count": null,
            "_view_module": "@jupyter-widgets/controls",
            "_view_module_version": "1.5.0",
            "_view_name": "HTMLView",
            "description": "",
            "description_tooltip": null,
            "layout": "IPY_MODEL_2b7c88db4e4048e0b358c1996de99b31",
            "placeholder": "​",
            "style": "IPY_MODEL_60287a4403bf4725a9912cfa2d56f888",
            "value": " 99789/100000 [00:49&lt;00:00, 2500.24 examples/s]"
          }
        },
        "3fab6e41ff284e3b891a11559b8db111": {
          "model_module": "@jupyter-widgets/base",
          "model_name": "LayoutModel",
          "model_module_version": "1.2.0",
          "state": {
            "_model_module": "@jupyter-widgets/base",
            "_model_module_version": "1.2.0",
            "_model_name": "LayoutModel",
            "_view_count": null,
            "_view_module": "@jupyter-widgets/base",
            "_view_module_version": "1.2.0",
            "_view_name": "LayoutView",
            "align_content": null,
            "align_items": null,
            "align_self": null,
            "border": null,
            "bottom": null,
            "display": null,
            "flex": null,
            "flex_flow": null,
            "grid_area": null,
            "grid_auto_columns": null,
            "grid_auto_flow": null,
            "grid_auto_rows": null,
            "grid_column": null,
            "grid_gap": null,
            "grid_row": null,
            "grid_template_areas": null,
            "grid_template_columns": null,
            "grid_template_rows": null,
            "height": null,
            "justify_content": null,
            "justify_items": null,
            "left": null,
            "margin": null,
            "max_height": null,
            "max_width": null,
            "min_height": null,
            "min_width": null,
            "object_fit": null,
            "object_position": null,
            "order": null,
            "overflow": null,
            "overflow_x": null,
            "overflow_y": null,
            "padding": null,
            "right": null,
            "top": null,
            "visibility": "hidden",
            "width": null
          }
        },
        "fd4c98ebf5f141ff89153c2e70a2be6b": {
          "model_module": "@jupyter-widgets/base",
          "model_name": "LayoutModel",
          "model_module_version": "1.2.0",
          "state": {
            "_model_module": "@jupyter-widgets/base",
            "_model_module_version": "1.2.0",
            "_model_name": "LayoutModel",
            "_view_count": null,
            "_view_module": "@jupyter-widgets/base",
            "_view_module_version": "1.2.0",
            "_view_name": "LayoutView",
            "align_content": null,
            "align_items": null,
            "align_self": null,
            "border": null,
            "bottom": null,
            "display": null,
            "flex": null,
            "flex_flow": null,
            "grid_area": null,
            "grid_auto_columns": null,
            "grid_auto_flow": null,
            "grid_auto_rows": null,
            "grid_column": null,
            "grid_gap": null,
            "grid_row": null,
            "grid_template_areas": null,
            "grid_template_columns": null,
            "grid_template_rows": null,
            "height": null,
            "justify_content": null,
            "justify_items": null,
            "left": null,
            "margin": null,
            "max_height": null,
            "max_width": null,
            "min_height": null,
            "min_width": null,
            "object_fit": null,
            "object_position": null,
            "order": null,
            "overflow": null,
            "overflow_x": null,
            "overflow_y": null,
            "padding": null,
            "right": null,
            "top": null,
            "visibility": null,
            "width": null
          }
        },
        "1c8739091a5c4de4bc3e23bf26b33a1a": {
          "model_module": "@jupyter-widgets/controls",
          "model_name": "DescriptionStyleModel",
          "model_module_version": "1.5.0",
          "state": {
            "_model_module": "@jupyter-widgets/controls",
            "_model_module_version": "1.5.0",
            "_model_name": "DescriptionStyleModel",
            "_view_count": null,
            "_view_module": "@jupyter-widgets/base",
            "_view_module_version": "1.2.0",
            "_view_name": "StyleView",
            "description_width": ""
          }
        },
        "445ef4c02c674ba384d459d20304477c": {
          "model_module": "@jupyter-widgets/base",
          "model_name": "LayoutModel",
          "model_module_version": "1.2.0",
          "state": {
            "_model_module": "@jupyter-widgets/base",
            "_model_module_version": "1.2.0",
            "_model_name": "LayoutModel",
            "_view_count": null,
            "_view_module": "@jupyter-widgets/base",
            "_view_module_version": "1.2.0",
            "_view_name": "LayoutView",
            "align_content": null,
            "align_items": null,
            "align_self": null,
            "border": null,
            "bottom": null,
            "display": null,
            "flex": null,
            "flex_flow": null,
            "grid_area": null,
            "grid_auto_columns": null,
            "grid_auto_flow": null,
            "grid_auto_rows": null,
            "grid_column": null,
            "grid_gap": null,
            "grid_row": null,
            "grid_template_areas": null,
            "grid_template_columns": null,
            "grid_template_rows": null,
            "height": null,
            "justify_content": null,
            "justify_items": null,
            "left": null,
            "margin": null,
            "max_height": null,
            "max_width": null,
            "min_height": null,
            "min_width": null,
            "object_fit": null,
            "object_position": null,
            "order": null,
            "overflow": null,
            "overflow_x": null,
            "overflow_y": null,
            "padding": null,
            "right": null,
            "top": null,
            "visibility": null,
            "width": null
          }
        },
        "7c6e172d6ff346e9848884404453d4f1": {
          "model_module": "@jupyter-widgets/controls",
          "model_name": "ProgressStyleModel",
          "model_module_version": "1.5.0",
          "state": {
            "_model_module": "@jupyter-widgets/controls",
            "_model_module_version": "1.5.0",
            "_model_name": "ProgressStyleModel",
            "_view_count": null,
            "_view_module": "@jupyter-widgets/base",
            "_view_module_version": "1.2.0",
            "_view_name": "StyleView",
            "bar_color": null,
            "description_width": ""
          }
        },
        "2b7c88db4e4048e0b358c1996de99b31": {
          "model_module": "@jupyter-widgets/base",
          "model_name": "LayoutModel",
          "model_module_version": "1.2.0",
          "state": {
            "_model_module": "@jupyter-widgets/base",
            "_model_module_version": "1.2.0",
            "_model_name": "LayoutModel",
            "_view_count": null,
            "_view_module": "@jupyter-widgets/base",
            "_view_module_version": "1.2.0",
            "_view_name": "LayoutView",
            "align_content": null,
            "align_items": null,
            "align_self": null,
            "border": null,
            "bottom": null,
            "display": null,
            "flex": null,
            "flex_flow": null,
            "grid_area": null,
            "grid_auto_columns": null,
            "grid_auto_flow": null,
            "grid_auto_rows": null,
            "grid_column": null,
            "grid_gap": null,
            "grid_row": null,
            "grid_template_areas": null,
            "grid_template_columns": null,
            "grid_template_rows": null,
            "height": null,
            "justify_content": null,
            "justify_items": null,
            "left": null,
            "margin": null,
            "max_height": null,
            "max_width": null,
            "min_height": null,
            "min_width": null,
            "object_fit": null,
            "object_position": null,
            "order": null,
            "overflow": null,
            "overflow_x": null,
            "overflow_y": null,
            "padding": null,
            "right": null,
            "top": null,
            "visibility": null,
            "width": null
          }
        },
        "60287a4403bf4725a9912cfa2d56f888": {
          "model_module": "@jupyter-widgets/controls",
          "model_name": "DescriptionStyleModel",
          "model_module_version": "1.5.0",
          "state": {
            "_model_module": "@jupyter-widgets/controls",
            "_model_module_version": "1.5.0",
            "_model_name": "DescriptionStyleModel",
            "_view_count": null,
            "_view_module": "@jupyter-widgets/base",
            "_view_module_version": "1.2.0",
            "_view_name": "StyleView",
            "description_width": ""
          }
        },
        "605b3c1fbb8b4b778f8be5b984cb95f4": {
          "model_module": "@jupyter-widgets/controls",
          "model_name": "HBoxModel",
          "model_module_version": "1.5.0",
          "state": {
            "_dom_classes": [],
            "_model_module": "@jupyter-widgets/controls",
            "_model_module_version": "1.5.0",
            "_model_name": "HBoxModel",
            "_view_count": null,
            "_view_module": "@jupyter-widgets/controls",
            "_view_module_version": "1.5.0",
            "_view_name": "HBoxView",
            "box_style": "",
            "children": [
              "IPY_MODEL_14c45d8cf1b84a32bf01338eda6a924d",
              "IPY_MODEL_383a7f9378b44be2a3fde1d0fab237a1",
              "IPY_MODEL_b5c45afb42744fe5aa14fb12194c3a0a"
            ],
            "layout": "IPY_MODEL_5e18f4b97e5d4b67a30f1e7dffe0be4d"
          }
        },
        "14c45d8cf1b84a32bf01338eda6a924d": {
          "model_module": "@jupyter-widgets/controls",
          "model_name": "HTMLModel",
          "model_module_version": "1.5.0",
          "state": {
            "_dom_classes": [],
            "_model_module": "@jupyter-widgets/controls",
            "_model_module_version": "1.5.0",
            "_model_name": "HTMLModel",
            "_view_count": null,
            "_view_module": "@jupyter-widgets/controls",
            "_view_module_version": "1.5.0",
            "_view_name": "HTMLView",
            "description": "",
            "description_tooltip": null,
            "layout": "IPY_MODEL_8439d3535faf4afebe96481e577d0992",
            "placeholder": "​",
            "style": "IPY_MODEL_177fd0d5c3f546a18ef683dcec338474",
            "value": "Shuffling /root/tensorflow_datasets/movielens/100k-ratings/0.1.1.incompleteTP0K0L/movielens-train.tfrecord*...:  98%"
          }
        },
        "383a7f9378b44be2a3fde1d0fab237a1": {
          "model_module": "@jupyter-widgets/controls",
          "model_name": "FloatProgressModel",
          "model_module_version": "1.5.0",
          "state": {
            "_dom_classes": [],
            "_model_module": "@jupyter-widgets/controls",
            "_model_module_version": "1.5.0",
            "_model_name": "FloatProgressModel",
            "_view_count": null,
            "_view_module": "@jupyter-widgets/controls",
            "_view_module_version": "1.5.0",
            "_view_name": "ProgressView",
            "bar_style": "",
            "description": "",
            "description_tooltip": null,
            "layout": "IPY_MODEL_a4a344ee7fdf45569aaede5a98022074",
            "max": 100000,
            "min": 0,
            "orientation": "horizontal",
            "style": "IPY_MODEL_9ce4986b64cf42c9b282eb39e847a369",
            "value": 100000
          }
        },
        "b5c45afb42744fe5aa14fb12194c3a0a": {
          "model_module": "@jupyter-widgets/controls",
          "model_name": "HTMLModel",
          "model_module_version": "1.5.0",
          "state": {
            "_dom_classes": [],
            "_model_module": "@jupyter-widgets/controls",
            "_model_module_version": "1.5.0",
            "_model_name": "HTMLModel",
            "_view_count": null,
            "_view_module": "@jupyter-widgets/controls",
            "_view_module_version": "1.5.0",
            "_view_name": "HTMLView",
            "description": "",
            "description_tooltip": null,
            "layout": "IPY_MODEL_e272594d6b544399ba17ea6ae75b9131",
            "placeholder": "​",
            "style": "IPY_MODEL_f369c840bb5344c390eec770b32bad48",
            "value": " 98387/100000 [00:00&lt;00:00, 364784.71 examples/s]"
          }
        },
        "5e18f4b97e5d4b67a30f1e7dffe0be4d": {
          "model_module": "@jupyter-widgets/base",
          "model_name": "LayoutModel",
          "model_module_version": "1.2.0",
          "state": {
            "_model_module": "@jupyter-widgets/base",
            "_model_module_version": "1.2.0",
            "_model_name": "LayoutModel",
            "_view_count": null,
            "_view_module": "@jupyter-widgets/base",
            "_view_module_version": "1.2.0",
            "_view_name": "LayoutView",
            "align_content": null,
            "align_items": null,
            "align_self": null,
            "border": null,
            "bottom": null,
            "display": null,
            "flex": null,
            "flex_flow": null,
            "grid_area": null,
            "grid_auto_columns": null,
            "grid_auto_flow": null,
            "grid_auto_rows": null,
            "grid_column": null,
            "grid_gap": null,
            "grid_row": null,
            "grid_template_areas": null,
            "grid_template_columns": null,
            "grid_template_rows": null,
            "height": null,
            "justify_content": null,
            "justify_items": null,
            "left": null,
            "margin": null,
            "max_height": null,
            "max_width": null,
            "min_height": null,
            "min_width": null,
            "object_fit": null,
            "object_position": null,
            "order": null,
            "overflow": null,
            "overflow_x": null,
            "overflow_y": null,
            "padding": null,
            "right": null,
            "top": null,
            "visibility": "hidden",
            "width": null
          }
        },
        "8439d3535faf4afebe96481e577d0992": {
          "model_module": "@jupyter-widgets/base",
          "model_name": "LayoutModel",
          "model_module_version": "1.2.0",
          "state": {
            "_model_module": "@jupyter-widgets/base",
            "_model_module_version": "1.2.0",
            "_model_name": "LayoutModel",
            "_view_count": null,
            "_view_module": "@jupyter-widgets/base",
            "_view_module_version": "1.2.0",
            "_view_name": "LayoutView",
            "align_content": null,
            "align_items": null,
            "align_self": null,
            "border": null,
            "bottom": null,
            "display": null,
            "flex": null,
            "flex_flow": null,
            "grid_area": null,
            "grid_auto_columns": null,
            "grid_auto_flow": null,
            "grid_auto_rows": null,
            "grid_column": null,
            "grid_gap": null,
            "grid_row": null,
            "grid_template_areas": null,
            "grid_template_columns": null,
            "grid_template_rows": null,
            "height": null,
            "justify_content": null,
            "justify_items": null,
            "left": null,
            "margin": null,
            "max_height": null,
            "max_width": null,
            "min_height": null,
            "min_width": null,
            "object_fit": null,
            "object_position": null,
            "order": null,
            "overflow": null,
            "overflow_x": null,
            "overflow_y": null,
            "padding": null,
            "right": null,
            "top": null,
            "visibility": null,
            "width": null
          }
        },
        "177fd0d5c3f546a18ef683dcec338474": {
          "model_module": "@jupyter-widgets/controls",
          "model_name": "DescriptionStyleModel",
          "model_module_version": "1.5.0",
          "state": {
            "_model_module": "@jupyter-widgets/controls",
            "_model_module_version": "1.5.0",
            "_model_name": "DescriptionStyleModel",
            "_view_count": null,
            "_view_module": "@jupyter-widgets/base",
            "_view_module_version": "1.2.0",
            "_view_name": "StyleView",
            "description_width": ""
          }
        },
        "a4a344ee7fdf45569aaede5a98022074": {
          "model_module": "@jupyter-widgets/base",
          "model_name": "LayoutModel",
          "model_module_version": "1.2.0",
          "state": {
            "_model_module": "@jupyter-widgets/base",
            "_model_module_version": "1.2.0",
            "_model_name": "LayoutModel",
            "_view_count": null,
            "_view_module": "@jupyter-widgets/base",
            "_view_module_version": "1.2.0",
            "_view_name": "LayoutView",
            "align_content": null,
            "align_items": null,
            "align_self": null,
            "border": null,
            "bottom": null,
            "display": null,
            "flex": null,
            "flex_flow": null,
            "grid_area": null,
            "grid_auto_columns": null,
            "grid_auto_flow": null,
            "grid_auto_rows": null,
            "grid_column": null,
            "grid_gap": null,
            "grid_row": null,
            "grid_template_areas": null,
            "grid_template_columns": null,
            "grid_template_rows": null,
            "height": null,
            "justify_content": null,
            "justify_items": null,
            "left": null,
            "margin": null,
            "max_height": null,
            "max_width": null,
            "min_height": null,
            "min_width": null,
            "object_fit": null,
            "object_position": null,
            "order": null,
            "overflow": null,
            "overflow_x": null,
            "overflow_y": null,
            "padding": null,
            "right": null,
            "top": null,
            "visibility": null,
            "width": null
          }
        },
        "9ce4986b64cf42c9b282eb39e847a369": {
          "model_module": "@jupyter-widgets/controls",
          "model_name": "ProgressStyleModel",
          "model_module_version": "1.5.0",
          "state": {
            "_model_module": "@jupyter-widgets/controls",
            "_model_module_version": "1.5.0",
            "_model_name": "ProgressStyleModel",
            "_view_count": null,
            "_view_module": "@jupyter-widgets/base",
            "_view_module_version": "1.2.0",
            "_view_name": "StyleView",
            "bar_color": null,
            "description_width": ""
          }
        },
        "e272594d6b544399ba17ea6ae75b9131": {
          "model_module": "@jupyter-widgets/base",
          "model_name": "LayoutModel",
          "model_module_version": "1.2.0",
          "state": {
            "_model_module": "@jupyter-widgets/base",
            "_model_module_version": "1.2.0",
            "_model_name": "LayoutModel",
            "_view_count": null,
            "_view_module": "@jupyter-widgets/base",
            "_view_module_version": "1.2.0",
            "_view_name": "LayoutView",
            "align_content": null,
            "align_items": null,
            "align_self": null,
            "border": null,
            "bottom": null,
            "display": null,
            "flex": null,
            "flex_flow": null,
            "grid_area": null,
            "grid_auto_columns": null,
            "grid_auto_flow": null,
            "grid_auto_rows": null,
            "grid_column": null,
            "grid_gap": null,
            "grid_row": null,
            "grid_template_areas": null,
            "grid_template_columns": null,
            "grid_template_rows": null,
            "height": null,
            "justify_content": null,
            "justify_items": null,
            "left": null,
            "margin": null,
            "max_height": null,
            "max_width": null,
            "min_height": null,
            "min_width": null,
            "object_fit": null,
            "object_position": null,
            "order": null,
            "overflow": null,
            "overflow_x": null,
            "overflow_y": null,
            "padding": null,
            "right": null,
            "top": null,
            "visibility": null,
            "width": null
          }
        },
        "f369c840bb5344c390eec770b32bad48": {
          "model_module": "@jupyter-widgets/controls",
          "model_name": "DescriptionStyleModel",
          "model_module_version": "1.5.0",
          "state": {
            "_model_module": "@jupyter-widgets/controls",
            "_model_module_version": "1.5.0",
            "_model_name": "DescriptionStyleModel",
            "_view_count": null,
            "_view_module": "@jupyter-widgets/base",
            "_view_module_version": "1.2.0",
            "_view_name": "StyleView",
            "description_width": ""
          }
        }
      }
    }
  },
  "cells": [
    {
      "cell_type": "markdown",
      "metadata": {
        "id": "view-in-github",
        "colab_type": "text"
      },
      "source": [
        "<a href=\"https://colab.research.google.com/github/nelrob/movie-ranking-prediction/blob/main/Movie_Ranking_Prediction.ipynb\" target=\"_parent\"><img src=\"https://colab.research.google.com/assets/colab-badge.svg\" alt=\"Open In Colab\"/></a>"
      ]
    },
    {
      "cell_type": "markdown",
      "source": [
        "# Import Libraries and Data"
      ],
      "metadata": {
        "id": "yvM9ljMRYC0W"
      }
    },
    {
      "cell_type": "code",
      "source": [
        "!pip install -q tensorflow-recommenders\n",
        "!pip install -q --upgrade tensorflow-datasets"
      ],
      "metadata": {
        "id": "eaXdT79jbZHK",
        "colab": {
          "base_uri": "https://localhost:8080/"
        },
        "outputId": "bec7f11b-b498-402d-fc50-e1616c38e5bd"
      },
      "execution_count": 1,
      "outputs": [
        {
          "output_type": "stream",
          "name": "stdout",
          "text": [
            "\u001b[?25l     \u001b[90m━━━━━━━━━━━━━━━━━━━━━━━━━━━━━━━━━━━━━━━━\u001b[0m \u001b[32m0.0/96.2 KB\u001b[0m \u001b[31m?\u001b[0m eta \u001b[36m-:--:--\u001b[0m\r\u001b[2K     \u001b[90m━━━━━━━━━━━━━━━━━━━━━━━━━━━━━━━━━━━━━━━━\u001b[0m \u001b[32m96.2/96.2 KB\u001b[0m \u001b[31m5.6 MB/s\u001b[0m eta \u001b[36m0:00:00\u001b[0m\n",
            "\u001b[?25h"
          ]
        }
      ]
    },
    {
      "cell_type": "code",
      "source": [
        "import tensorflow_datasets as tfds\n",
        "import tensorflow_recommenders as tfrs\n",
        "\n",
        "import numpy as np\n",
        "import tensorflow as tf\n",
        "from typing import Dict, Text\n",
        "\n",
        "import warnings\n",
        "warnings.simplefilter('ignore')"
      ],
      "metadata": {
        "id": "dowp4FPQSQ03"
      },
      "execution_count": 2,
      "outputs": []
    },
    {
      "cell_type": "code",
      "source": [
        "print('Tensorflow version:', tf.__version__)"
      ],
      "metadata": {
        "colab": {
          "base_uri": "https://localhost:8080/"
        },
        "id": "q2jD3e-KS0Y4",
        "outputId": "2f343504-d147-467f-9ed5-0fa76af27d8b"
      },
      "execution_count": 3,
      "outputs": [
        {
          "output_type": "stream",
          "name": "stdout",
          "text": [
            "Tensorflow version: 2.11.0\n"
          ]
        }
      ]
    },
    {
      "cell_type": "markdown",
      "source": [
        "# Data pre-processing"
      ],
      "metadata": {
        "id": "eWlpG1e1YPhZ"
      }
    },
    {
      "cell_type": "code",
      "source": [
        "# Load movielens 100k dataset from Tensorflow datasets\n",
        "ratings = tfds.load(\"movielens/100k-ratings\", split=\"train\")\n",
        "\n",
        "# Create a map of the columns needed\n",
        "ratings = ratings.map(lambda x: {\n",
        "    \"movie_title\": x[\"movie_title\"],\n",
        "    \"user_id\": x[\"user_id\"],\n",
        "    \"user_rating\": x[\"user_rating\"]\n",
        "})"
      ],
      "metadata": {
        "colab": {
          "base_uri": "https://localhost:8080/",
          "height": 262,
          "referenced_widgets": [
            "9fe40d62a21e479fa45b1d8978d48062",
            "6cca4502132c42a99b185f1944602b39",
            "e45dee14254c43a8b62752f2034a6ceb",
            "dba68e05da6644bcb5bde2a563f88d2e",
            "e30d6a772b384cce9b3c623584d5e02b",
            "a99a073ca6804634ba58d06f877aeef8",
            "4bbbd8a1af5f4e01a48284538f7ecd44",
            "ed6d66f82d5a45d38c3836dca18c84fc",
            "1e05f2d937c4488bb438e34982e32117",
            "9c7085ad36d742689e292ec36300a833",
            "a4f146f150604b639353ff41447b8134",
            "1903bfcb41834727a134795e9fef5a05",
            "bb2fddf3b8444ac588e7a05bd378c6e3",
            "eb20c0dc81b04660a526e8ed1674d649",
            "ec4611beebb14c6d9660b31ba5b45d1f",
            "81db828806854dbfbac35a81585eb4fb",
            "78bbfae416594879b35abf551a5db8ae",
            "c16c23c8342947c99be933a6c4a73155",
            "6aba5cbfa8ae4f66aa67c7ae207ed0da",
            "e3942c2baf4b4d929d8f551348b523e5",
            "40cbb75218a74d7b812aadf81a6ca0a8",
            "b3e8eb90848546b6b4f404868e0047c8",
            "3e7b4bb9e38948abac111199ff989b79",
            "4153c451ac3d40d88b1f3267fb43c8d4",
            "7f244f7994eb4354ac994bd30bae6761",
            "8836452c32834459b298473f8b60851e",
            "d55491c5dcdb46c3bd8a793226066365",
            "f3272a834abb40a284bdef8f86bffe6c",
            "57b2f13eec5a44aaacf8fd0f75410bba",
            "bdc219f341504054959a771eaa25ab3d",
            "046acf3a3bbb42e8af5ca246ad3fb21e",
            "4a4e9b371d16478ebf8e7697cb9b9863",
            "8f70cf8767164addba5c39a8b211bee6",
            "7978c186302e4a9ebaafcfc24f2d8141",
            "4c73dbf3c67e4c65b52815d2beabbcb9",
            "96652594b995457f899b75f11c67aa8a",
            "94dd84356b67490faadba1f0e60b6e61",
            "9c355285ac734a27ac736fefd15e086f",
            "cc4d61a9de7b43fa88bba3bb0444048d",
            "f77e340667064f908b4f5eadb0294b02",
            "9fd8fad771694927abcbc96ce42b88a1",
            "c1baa4aa73184556addfcfcb9ca87121",
            "6c2bdc50a7514a809ed02d08f30a83b4",
            "ba841aac12414dd7bf5fa25b0f24494e",
            "8c4943ebabc74fb5a28e3e5a2041d073",
            "2f887ffa3a754ef4be0453550eced5d0",
            "1202fae5279445cba89b41f183e4cf15",
            "89ac2faab66a41acb0de01e2dbefce75",
            "3fab6e41ff284e3b891a11559b8db111",
            "fd4c98ebf5f141ff89153c2e70a2be6b",
            "1c8739091a5c4de4bc3e23bf26b33a1a",
            "445ef4c02c674ba384d459d20304477c",
            "7c6e172d6ff346e9848884404453d4f1",
            "2b7c88db4e4048e0b358c1996de99b31",
            "60287a4403bf4725a9912cfa2d56f888",
            "605b3c1fbb8b4b778f8be5b984cb95f4",
            "14c45d8cf1b84a32bf01338eda6a924d",
            "383a7f9378b44be2a3fde1d0fab237a1",
            "b5c45afb42744fe5aa14fb12194c3a0a",
            "5e18f4b97e5d4b67a30f1e7dffe0be4d",
            "8439d3535faf4afebe96481e577d0992",
            "177fd0d5c3f546a18ef683dcec338474",
            "a4a344ee7fdf45569aaede5a98022074",
            "9ce4986b64cf42c9b282eb39e847a369",
            "e272594d6b544399ba17ea6ae75b9131",
            "f369c840bb5344c390eec770b32bad48"
          ]
        },
        "id": "C1YPCCDgSaTI",
        "outputId": "5cd6963d-a3ea-4e9f-f093-2b0f6e595edd"
      },
      "execution_count": 4,
      "outputs": [
        {
          "output_type": "stream",
          "name": "stdout",
          "text": [
            "Downloading and preparing dataset 4.70 MiB (download: 4.70 MiB, generated: 32.41 MiB, total: 37.10 MiB) to /root/tensorflow_datasets/movielens/100k-ratings/0.1.1...\n"
          ]
        },
        {
          "output_type": "display_data",
          "data": {
            "text/plain": [
              "Dl Completed...: 0 url [00:00, ? url/s]"
            ],
            "application/vnd.jupyter.widget-view+json": {
              "version_major": 2,
              "version_minor": 0,
              "model_id": "9fe40d62a21e479fa45b1d8978d48062"
            }
          },
          "metadata": {}
        },
        {
          "output_type": "display_data",
          "data": {
            "text/plain": [
              "Dl Size...: 0 MiB [00:00, ? MiB/s]"
            ],
            "application/vnd.jupyter.widget-view+json": {
              "version_major": 2,
              "version_minor": 0,
              "model_id": "1903bfcb41834727a134795e9fef5a05"
            }
          },
          "metadata": {}
        },
        {
          "output_type": "display_data",
          "data": {
            "text/plain": [
              "Extraction completed...: 0 file [00:00, ? file/s]"
            ],
            "application/vnd.jupyter.widget-view+json": {
              "version_major": 2,
              "version_minor": 0,
              "model_id": "3e7b4bb9e38948abac111199ff989b79"
            }
          },
          "metadata": {}
        },
        {
          "output_type": "display_data",
          "data": {
            "text/plain": [
              "Generating splits...:   0%|          | 0/1 [00:00<?, ? splits/s]"
            ],
            "application/vnd.jupyter.widget-view+json": {
              "version_major": 2,
              "version_minor": 0,
              "model_id": "7978c186302e4a9ebaafcfc24f2d8141"
            }
          },
          "metadata": {}
        },
        {
          "output_type": "stream",
          "name": "stderr",
          "text": [
            "WARNING:absl:`TensorInfo.dtype` is deprecated. Please change your code to use NumPy with the field `TensorInfo.np_dtype` or use TensorFlow with the field `TensorInfo.tf_dtype`.\n",
            "WARNING:absl:You use TensorFlow DType <dtype: 'int64'> in tfds.features This will soon be deprecated in favor of NumPy DTypes. In the meantime it was converted to int64.\n"
          ]
        },
        {
          "output_type": "display_data",
          "data": {
            "text/plain": [
              "Generating train examples...:   0%|          | 0/100000 [00:00<?, ? examples/s]"
            ],
            "application/vnd.jupyter.widget-view+json": {
              "version_major": 2,
              "version_minor": 0,
              "model_id": "8c4943ebabc74fb5a28e3e5a2041d073"
            }
          },
          "metadata": {}
        },
        {
          "output_type": "display_data",
          "data": {
            "text/plain": [
              "Shuffling /root/tensorflow_datasets/movielens/100k-ratings/0.1.1.incompleteTP0K0L/movielens-train.tfrecord*...…"
            ],
            "application/vnd.jupyter.widget-view+json": {
              "version_major": 2,
              "version_minor": 0,
              "model_id": "605b3c1fbb8b4b778f8be5b984cb95f4"
            }
          },
          "metadata": {}
        },
        {
          "output_type": "stream",
          "name": "stderr",
          "text": [
            "WARNING:tensorflow:From /usr/local/lib/python3.8/dist-packages/tensorflow/python/autograph/pyct/static_analysis/liveness.py:83: Analyzer.lamba_check (from tensorflow.python.autograph.pyct.static_analysis.liveness) is deprecated and will be removed after 2023-09-23.\n",
            "Instructions for updating:\n",
            "Lambda fuctions will be no more assumed to be used in the statement where they are used, or at least in the same block. https://github.com/tensorflow/tensorflow/issues/56089\n"
          ]
        },
        {
          "output_type": "stream",
          "name": "stdout",
          "text": [
            "Dataset movielens downloaded and prepared to /root/tensorflow_datasets/movielens/100k-ratings/0.1.1. Subsequent calls will reuse this data.\n"
          ]
        }
      ]
    },
    {
      "cell_type": "markdown",
      "source": [
        "### Visualise the dataset"
      ],
      "metadata": {
        "id": "4kQumghATKGa"
      }
    },
    {
      "cell_type": "markdown",
      "source": [
        "In order to visualise the dataset, `ratings` needs to be converted into a 2d array,"
      ],
      "metadata": {
        "id": "QJcYritT0VX6"
      }
    },
    {
      "cell_type": "code",
      "source": [
        "ratings_array = []\n",
        "\n",
        "for rating in ratings:\n",
        "    # extracts values from the Tensor objects\n",
        "    movie_title = rating['movie_title'].numpy()\n",
        "    movie_title = movie_title.decode('utf-8')\n",
        "    \n",
        "    user_id = int(rating['user_id'].numpy())\n",
        "    user_rating = rating['user_rating'].numpy()\n",
        "    \n",
        "    ratings_array.append([movie_title, user_id, user_rating])"
      ],
      "metadata": {
        "id": "CTKE88DfGPqo"
      },
      "execution_count": 5,
      "outputs": []
    },
    {
      "cell_type": "code",
      "source": [
        "# first 10 movies of ratings array\n",
        "ratings_array[:10]"
      ],
      "metadata": {
        "id": "g6fxh8g6GVVI",
        "cellView": "code",
        "colab": {
          "base_uri": "https://localhost:8080/"
        },
        "outputId": "d3cb709d-54ab-4ff5-e511-d30470c5ff68"
      },
      "execution_count": 6,
      "outputs": [
        {
          "output_type": "execute_result",
          "data": {
            "text/plain": [
              "[[\"One Flew Over the Cuckoo's Nest (1975)\", 138, 4.0],\n",
              " ['Strictly Ballroom (1992)', 92, 2.0],\n",
              " ['Very Brady Sequel, A (1996)', 301, 4.0],\n",
              " ['Pulp Fiction (1994)', 60, 4.0],\n",
              " ['Scream 2 (1997)', 197, 3.0],\n",
              " ['Crash (1996)', 601, 4.0],\n",
              " ['Aladdin (1992)', 710, 3.0],\n",
              " ['True Romance (1993)', 833, 2.0],\n",
              " ['Bob Roberts (1992)', 916, 5.0],\n",
              " ['Starship Troopers (1997)', 940, 2.0]]"
            ]
          },
          "metadata": {},
          "execution_count": 6
        }
      ]
    },
    {
      "cell_type": "markdown",
      "source": [
        "...and then a Pandas DataFrame."
      ],
      "metadata": {
        "id": "2j0YpNKk0ovg"
      }
    },
    {
      "cell_type": "code",
      "source": [
        "import pandas as pd\n",
        "\n",
        "df = pd.DataFrame(ratings_array, columns = ['movie_title', 'user_id', 'user_rating'])"
      ],
      "metadata": {
        "id": "drI1wR6NKEyV"
      },
      "execution_count": 7,
      "outputs": []
    },
    {
      "cell_type": "code",
      "source": [
        "df.head(5)"
      ],
      "metadata": {
        "colab": {
          "base_uri": "https://localhost:8080/",
          "height": 206
        },
        "id": "TpcfgGPUsH61",
        "outputId": "91a41d86-305d-4b77-dfd1-d555b81c78e6"
      },
      "execution_count": 8,
      "outputs": [
        {
          "output_type": "execute_result",
          "data": {
            "text/plain": [
              "                              movie_title  user_id  user_rating\n",
              "0  One Flew Over the Cuckoo's Nest (1975)      138          4.0\n",
              "1                Strictly Ballroom (1992)       92          2.0\n",
              "2             Very Brady Sequel, A (1996)      301          4.0\n",
              "3                     Pulp Fiction (1994)       60          4.0\n",
              "4                         Scream 2 (1997)      197          3.0"
            ],
            "text/html": [
              "\n",
              "  <div id=\"df-a5942711-4e21-4343-a7ba-35af3f4fb823\">\n",
              "    <div class=\"colab-df-container\">\n",
              "      <div>\n",
              "<style scoped>\n",
              "    .dataframe tbody tr th:only-of-type {\n",
              "        vertical-align: middle;\n",
              "    }\n",
              "\n",
              "    .dataframe tbody tr th {\n",
              "        vertical-align: top;\n",
              "    }\n",
              "\n",
              "    .dataframe thead th {\n",
              "        text-align: right;\n",
              "    }\n",
              "</style>\n",
              "<table border=\"1\" class=\"dataframe\">\n",
              "  <thead>\n",
              "    <tr style=\"text-align: right;\">\n",
              "      <th></th>\n",
              "      <th>movie_title</th>\n",
              "      <th>user_id</th>\n",
              "      <th>user_rating</th>\n",
              "    </tr>\n",
              "  </thead>\n",
              "  <tbody>\n",
              "    <tr>\n",
              "      <th>0</th>\n",
              "      <td>One Flew Over the Cuckoo's Nest (1975)</td>\n",
              "      <td>138</td>\n",
              "      <td>4.0</td>\n",
              "    </tr>\n",
              "    <tr>\n",
              "      <th>1</th>\n",
              "      <td>Strictly Ballroom (1992)</td>\n",
              "      <td>92</td>\n",
              "      <td>2.0</td>\n",
              "    </tr>\n",
              "    <tr>\n",
              "      <th>2</th>\n",
              "      <td>Very Brady Sequel, A (1996)</td>\n",
              "      <td>301</td>\n",
              "      <td>4.0</td>\n",
              "    </tr>\n",
              "    <tr>\n",
              "      <th>3</th>\n",
              "      <td>Pulp Fiction (1994)</td>\n",
              "      <td>60</td>\n",
              "      <td>4.0</td>\n",
              "    </tr>\n",
              "    <tr>\n",
              "      <th>4</th>\n",
              "      <td>Scream 2 (1997)</td>\n",
              "      <td>197</td>\n",
              "      <td>3.0</td>\n",
              "    </tr>\n",
              "  </tbody>\n",
              "</table>\n",
              "</div>\n",
              "      <button class=\"colab-df-convert\" onclick=\"convertToInteractive('df-a5942711-4e21-4343-a7ba-35af3f4fb823')\"\n",
              "              title=\"Convert this dataframe to an interactive table.\"\n",
              "              style=\"display:none;\">\n",
              "        \n",
              "  <svg xmlns=\"http://www.w3.org/2000/svg\" height=\"24px\"viewBox=\"0 0 24 24\"\n",
              "       width=\"24px\">\n",
              "    <path d=\"M0 0h24v24H0V0z\" fill=\"none\"/>\n",
              "    <path d=\"M18.56 5.44l.94 2.06.94-2.06 2.06-.94-2.06-.94-.94-2.06-.94 2.06-2.06.94zm-11 1L8.5 8.5l.94-2.06 2.06-.94-2.06-.94L8.5 2.5l-.94 2.06-2.06.94zm10 10l.94 2.06.94-2.06 2.06-.94-2.06-.94-.94-2.06-.94 2.06-2.06.94z\"/><path d=\"M17.41 7.96l-1.37-1.37c-.4-.4-.92-.59-1.43-.59-.52 0-1.04.2-1.43.59L10.3 9.45l-7.72 7.72c-.78.78-.78 2.05 0 2.83L4 21.41c.39.39.9.59 1.41.59.51 0 1.02-.2 1.41-.59l7.78-7.78 2.81-2.81c.8-.78.8-2.07 0-2.86zM5.41 20L4 18.59l7.72-7.72 1.47 1.35L5.41 20z\"/>\n",
              "  </svg>\n",
              "      </button>\n",
              "      \n",
              "  <style>\n",
              "    .colab-df-container {\n",
              "      display:flex;\n",
              "      flex-wrap:wrap;\n",
              "      gap: 12px;\n",
              "    }\n",
              "\n",
              "    .colab-df-convert {\n",
              "      background-color: #E8F0FE;\n",
              "      border: none;\n",
              "      border-radius: 50%;\n",
              "      cursor: pointer;\n",
              "      display: none;\n",
              "      fill: #1967D2;\n",
              "      height: 32px;\n",
              "      padding: 0 0 0 0;\n",
              "      width: 32px;\n",
              "    }\n",
              "\n",
              "    .colab-df-convert:hover {\n",
              "      background-color: #E2EBFA;\n",
              "      box-shadow: 0px 1px 2px rgba(60, 64, 67, 0.3), 0px 1px 3px 1px rgba(60, 64, 67, 0.15);\n",
              "      fill: #174EA6;\n",
              "    }\n",
              "\n",
              "    [theme=dark] .colab-df-convert {\n",
              "      background-color: #3B4455;\n",
              "      fill: #D2E3FC;\n",
              "    }\n",
              "\n",
              "    [theme=dark] .colab-df-convert:hover {\n",
              "      background-color: #434B5C;\n",
              "      box-shadow: 0px 1px 3px 1px rgba(0, 0, 0, 0.15);\n",
              "      filter: drop-shadow(0px 1px 2px rgba(0, 0, 0, 0.3));\n",
              "      fill: #FFFFFF;\n",
              "    }\n",
              "  </style>\n",
              "\n",
              "      <script>\n",
              "        const buttonEl =\n",
              "          document.querySelector('#df-a5942711-4e21-4343-a7ba-35af3f4fb823 button.colab-df-convert');\n",
              "        buttonEl.style.display =\n",
              "          google.colab.kernel.accessAllowed ? 'block' : 'none';\n",
              "\n",
              "        async function convertToInteractive(key) {\n",
              "          const element = document.querySelector('#df-a5942711-4e21-4343-a7ba-35af3f4fb823');\n",
              "          const dataTable =\n",
              "            await google.colab.kernel.invokeFunction('convertToInteractive',\n",
              "                                                     [key], {});\n",
              "          if (!dataTable) return;\n",
              "\n",
              "          const docLinkHtml = 'Like what you see? Visit the ' +\n",
              "            '<a target=\"_blank\" href=https://colab.research.google.com/notebooks/data_table.ipynb>data table notebook</a>'\n",
              "            + ' to learn more about interactive tables.';\n",
              "          element.innerHTML = '';\n",
              "          dataTable['output_type'] = 'display_data';\n",
              "          await google.colab.output.renderOutput(dataTable, element);\n",
              "          const docLink = document.createElement('div');\n",
              "          docLink.innerHTML = docLinkHtml;\n",
              "          element.appendChild(docLink);\n",
              "        }\n",
              "      </script>\n",
              "    </div>\n",
              "  </div>\n",
              "  "
            ]
          },
          "metadata": {},
          "execution_count": 8
        }
      ]
    },
    {
      "cell_type": "code",
      "source": [
        "import seaborn as sns\n",
        "import matplotlib.pyplot as plt\n",
        "\n",
        "sns.countplot(x='user_rating', data=df)\n",
        "plt.title('Most common movie ratings by users')\n",
        "plt.show()"
      ],
      "metadata": {
        "id": "bF_Exnu2_TJy",
        "colab": {
          "base_uri": "https://localhost:8080/",
          "height": 296
        },
        "outputId": "e76090a1-8053-430e-c6c0-ba033aff93a4"
      },
      "execution_count": 9,
      "outputs": [
        {
          "output_type": "display_data",
          "data": {
            "text/plain": [
              "<Figure size 432x288 with 1 Axes>"
            ],
            "image/png": "[encoded data removed]"
          },
          "metadata": {
            "needs_background": "light"
          }
        }
      ]
    },
    {
      "cell_type": "code",
      "source": [
        "from wordcloud import WordCloud, STOPWORDS\n",
        "\n",
        "titles = df['movie_title'].tolist() # convert to list of movie title strings\n",
        "\n",
        "stopwords = STOPWORDS # filter common filler words in movie titles\n",
        "wordcloud = WordCloud(width=800, height=800, stopwords=stopwords, background_color=\"white\", min_font_size=10).generate(' '.join(titles))\n",
        "\n",
        "plt.figure(figsize=(5, 5), facecolor=None)\n",
        "plt.imshow(wordcloud)\n",
        "plt.axis(\"off\")\n",
        "plt.tight_layout(pad=0)\n",
        "plt.title('Most rated movies')\n",
        "plt.show()"
      ],
      "metadata": {
        "colab": {
          "base_uri": "https://localhost:8080/",
          "height": 407
        },
        "id": "nMoN02CCRSnK",
        "outputId": "4b4bf223-9938-4c64-e46e-c3647356ca2a"
      },
      "execution_count": 10,
      "outputs": [
        {
          "output_type": "display_data",
          "data": {
            "text/plain": [
              "<Figure size 360x360 with 1 Axes>"
            ],
            "image/png": "[encoded data removed]"
          },
          "metadata": {
            "needs_background": "light"
          }
        }
      ]
    },
    {
      "cell_type": "markdown",
      "source": [
        "# Movie Ranking Predictor Model"
      ],
      "metadata": {
        "id": "v4ZZ71yE13W2"
      }
    },
    {
      "cell_type": "markdown",
      "source": [
        "### Split into training and testing"
      ],
      "metadata": {
        "id": "NcRAi0mA1dzY"
      }
    },
    {
      "cell_type": "code",
      "source": [
        "# Set random seed for repeatability\n",
        "tf.random.set_seed(42)\n",
        "shuffled = ratings.shuffle(100_000, seed=42, reshuffle_each_iteration=False)\n",
        "\n",
        "# 80-20 split in training and testing data \n",
        "train = shuffled.take(80_000)\n",
        "test = shuffled.skip(80_000).take(20_000)"
      ],
      "metadata": {
        "id": "cbIk1jd63GWy"
      },
      "execution_count": 11,
      "outputs": []
    },
    {
      "cell_type": "markdown",
      "source": [
        "Create a map of unique movie titles and user IDs"
      ],
      "metadata": {
        "id": "L2QzCeaAB9Sz"
      }
    },
    {
      "cell_type": "code",
      "source": [
        "movie_titles = ratings.batch(100_000).map(lambda x: x[\"movie_title\"])\n",
        "user_ids = ratings.batch(100_000).map(lambda x: x[\"user_id\"])\n",
        "\n",
        "unique_movie_titles = np.unique(np.concatenate(list(movie_titles)))\n",
        "unique_user_ids = np.unique(np.concatenate(list(user_ids)))"
      ],
      "metadata": {
        "id": "MPq-jbw_3PiV"
      },
      "execution_count": 12,
      "outputs": []
    },
    {
      "cell_type": "markdown",
      "source": [
        "### Tensorflow ranking model"
      ],
      "metadata": {
        "id": "_7zJw6vj4GdH"
      }
    },
    {
      "cell_type": "code",
      "source": [
        "class RankingModel(tf.keras.Model):\n",
        "\n",
        "  def __init__(self):\n",
        "    super().__init__()\n",
        "    embedding_dimension = 32\n",
        "\n",
        "    # Compute embeddings for users\n",
        "    self.user_embeddings = tf.keras.Sequential([\n",
        "      # convert user IDs to embeddings\n",
        "      tf.keras.layers.StringLookup(\n",
        "        vocabulary=unique_user_ids, mask_token=None),\n",
        "      # embed user IDs\n",
        "      tf.keras.layers.Embedding(len(unique_user_ids) + 1, embedding_dimension)\n",
        "    ])\n",
        "\n",
        "    # Compute embeddings for movies\n",
        "    self.movie_embeddings = tf.keras.Sequential([\n",
        "      # convert movie titles to embeddings\n",
        "      tf.keras.layers.StringLookup(\n",
        "        vocabulary=unique_movie_titles, mask_token=None),\n",
        "      # embed movie titles\n",
        "      tf.keras.layers.Embedding(len(unique_movie_titles) + 1, embedding_dimension)\n",
        "    ])\n",
        "\n",
        "    # Compute predictions\n",
        "    self.ratings = tf.keras.Sequential([\n",
        "      # learn multiple dense layers\n",
        "      tf.keras.layers.Dense(256, activation=\"relu\"),\n",
        "      tf.keras.layers.Dense(64, activation=\"relu\"),\n",
        "      # make rating predictions in the final layer\n",
        "      tf.keras.layers.Dense(1)\n",
        "  ])\n",
        "  \n",
        "  # Function to process inputs and return final output\n",
        "  def call(self, inputs):\n",
        "\n",
        "    user_id, movie_title = inputs\n",
        "\n",
        "    user_embedding = self.user_embeddings(user_id)\n",
        "    movie_embedding = self.movie_embeddings(movie_title)\n",
        "\n",
        "    return self.ratings(tf.concat([user_embedding, movie_embedding], axis=1))"
      ],
      "metadata": {
        "id": "JvJCVDc1Sd4-"
      },
      "execution_count": 13,
      "outputs": []
    },
    {
      "cell_type": "markdown",
      "source": [
        "### Loss and metrics"
      ],
      "metadata": {
        "id": "4Xvb_OvR5h92"
      }
    },
    {
      "cell_type": "markdown",
      "source": [
        "Loss - Mean Absolute Error (MAE): \n",
        "measures the average magnitude of the errors between the predicted and true ratings. \n",
        "\n",
        "Metrics - Mean Absolute Percentage Error (MAPE):\n",
        "measures the mean percentage error of the predictions. "
      ],
      "metadata": {
        "id": "EApgiQJw5mpK"
      }
    },
    {
      "cell_type": "code",
      "source": [
        "# Create ranking task with MAE loss and MAPE metrics\n",
        "task = tfrs.tasks.Ranking(loss=tf.keras.losses.MeanAbsoluteError(),\n",
        "                          metrics=[tf.keras.metrics.MeanAbsolutePercentageError()])"
      ],
      "metadata": {
        "id": "zpG9qJQtFhS-"
      },
      "execution_count": 14,
      "outputs": []
    },
    {
      "cell_type": "markdown",
      "source": [
        "### Movie Predictor Model"
      ],
      "metadata": {
        "id": "0qrcQeKq6WKU"
      }
    },
    {
      "cell_type": "code",
      "source": [
        "class MoviePredictorModel(tfrs.models.Model):\n",
        "\n",
        "  def __init__(self):\n",
        "    super().__init__()\n",
        "\n",
        "    # Create instance of TFRS Ranking\n",
        "    self.ranking_model: tf.keras.Model = RankingModel()\n",
        "    self.task: tf.keras.layers.Layer = tfrs.tasks.Ranking(\n",
        "      loss = tf.keras.losses.MeanAbsoluteError(),\n",
        "      metrics=[tf.keras.metrics.MeanAbsolutePercentageError()]\n",
        "    )\n",
        "\n",
        "  # Function to call the ranking_model on the input features \"user_id\" and \"movie_title\"\n",
        "  def call(self, features: Dict[str, tf.Tensor]) -> tf.Tensor:\n",
        "    return self.ranking_model(\n",
        "        (features[\"user_id\"], features[\"movie_title\"]))\n",
        "\n",
        "  # Function to compute model loss \n",
        "  def compute_loss(self, features: Dict[Text, tf.Tensor], training=False) -> tf.Tensor:\n",
        "    # remove the label \"user_rating\" from features\n",
        "    labels = features.pop(\"user_rating\")\n",
        "    \n",
        "    # get the rating predictions from the call function\n",
        "    rating_predictions = self(features)\n",
        "\n",
        "    return self.task(labels=labels, predictions=rating_predictions)"
      ],
      "metadata": {
        "id": "5J2LwY9pSeA3"
      },
      "execution_count": 15,
      "outputs": []
    },
    {
      "cell_type": "markdown",
      "source": [
        "# Model fitting and evaluation"
      ],
      "metadata": {
        "id": "2SNDiHJL95Wj"
      }
    },
    {
      "cell_type": "code",
      "source": [
        "# Shuffle, batch, and cache training and testing data\n",
        "cached_train = train.shuffle(100_000).batch(8192).cache()\n",
        "cached_test = test.batch(4096).cache()"
      ],
      "metadata": {
        "id": "sZtWC0C9SeIt"
      },
      "execution_count": 16,
      "outputs": []
    },
    {
      "cell_type": "markdown",
      "source": [
        "Implement early stopping to stop training once the model performance stops improving."
      ],
      "metadata": {
        "id": "CVtHFidV-wmA"
      }
    },
    {
      "cell_type": "code",
      "source": [
        "from tensorflow.keras.callbacks import EarlyStopping\n",
        "\n",
        "model = MoviePredictorModel()\n",
        "# Define early stopping \n",
        "early_stopping = EarlyStopping(monitor='val_loss', patience=30)"
      ],
      "metadata": {
        "id": "waWtEvmw9_Wa"
      },
      "execution_count": 17,
      "outputs": []
    },
    {
      "cell_type": "code",
      "source": [
        "# Compile model with Adam optimizer\n",
        "model.compile(optimizer=tf.keras.optimizers.Adam(learning_rate=0.001))\n",
        "\n",
        "# Run the MoviePredictorModel\n",
        "history = model.fit(\n",
        "    cached_train,\n",
        "    validation_data=cached_test,\n",
        "    epochs=50,\n",
        "    callbacks=[early_stopping]\n",
        ")"
      ],
      "metadata": {
        "colab": {
          "base_uri": "https://localhost:8080/"
        },
        "id": "tjPBk_ar4c1X",
        "outputId": "b3358503-bda0-4526-f033-a7fade47d6e2",
        "cellView": "code"
      },
      "execution_count": 18,
      "outputs": [
        {
          "output_type": "stream",
          "name": "stdout",
          "text": [
            "Epoch 1/50\n",
            "10/10 [==============================] - 13s 655ms/step - mean_absolute_percentage_error: 96.2065 - loss: 3.4048 - regularization_loss: 0.0000e+00 - total_loss: 3.4048 - val_mean_absolute_percentage_error: 90.0960 - val_loss: 3.2400 - val_regularization_loss: 0.0000e+00 - val_total_loss: 3.2400\n",
            "Epoch 2/50\n",
            "10/10 [==============================] - 1s 63ms/step - mean_absolute_percentage_error: 81.1006 - loss: 2.9355 - regularization_loss: 0.0000e+00 - total_loss: 2.9355 - val_mean_absolute_percentage_error: 66.2996 - val_loss: 2.5157 - val_regularization_loss: 0.0000e+00 - val_total_loss: 2.5157\n",
            "Epoch 3/50\n",
            "10/10 [==============================] - 1s 65ms/step - mean_absolute_percentage_error: 51.1535 - loss: 1.8075 - regularization_loss: 0.0000e+00 - total_loss: 1.8075 - val_mean_absolute_percentage_error: 35.4063 - val_loss: 1.0034 - val_regularization_loss: 0.0000e+00 - val_total_loss: 1.0034\n",
            "Epoch 4/50\n",
            "10/10 [==============================] - 1s 56ms/step - mean_absolute_percentage_error: 45.0592 - loss: 1.0262 - regularization_loss: 0.0000e+00 - total_loss: 1.0262 - val_mean_absolute_percentage_error: 41.8579 - val_loss: 0.9102 - val_regularization_loss: 0.0000e+00 - val_total_loss: 0.9102\n",
            "Epoch 5/50\n",
            "10/10 [==============================] - 1s 56ms/step - mean_absolute_percentage_error: 33.9954 - loss: 0.8349 - regularization_loss: 0.0000e+00 - total_loss: 0.8349 - val_mean_absolute_percentage_error: 30.4419 - val_loss: 0.8250 - val_regularization_loss: 0.0000e+00 - val_total_loss: 0.8250\n",
            "Epoch 6/50\n",
            "10/10 [==============================] - 1s 54ms/step - mean_absolute_percentage_error: 30.7037 - loss: 0.7622 - regularization_loss: 0.0000e+00 - total_loss: 0.7622 - val_mean_absolute_percentage_error: 32.8003 - val_loss: 0.7624 - val_regularization_loss: 0.0000e+00 - val_total_loss: 0.7624\n",
            "Epoch 7/50\n",
            "10/10 [==============================] - 1s 72ms/step - mean_absolute_percentage_error: 30.6880 - loss: 0.7335 - regularization_loss: 0.0000e+00 - total_loss: 0.7335 - val_mean_absolute_percentage_error: 29.1563 - val_loss: 0.7427 - val_regularization_loss: 0.0000e+00 - val_total_loss: 0.7427\n",
            "Epoch 8/50\n",
            "10/10 [==============================] - 1s 49ms/step - mean_absolute_percentage_error: 28.9037 - loss: 0.7192 - regularization_loss: 0.0000e+00 - total_loss: 0.7192 - val_mean_absolute_percentage_error: 30.3191 - val_loss: 0.7381 - val_regularization_loss: 0.0000e+00 - val_total_loss: 0.7381\n",
            "Epoch 9/50\n",
            "10/10 [==============================] - 1s 52ms/step - mean_absolute_percentage_error: 29.4031 - loss: 0.7138 - regularization_loss: 0.0000e+00 - total_loss: 0.7138 - val_mean_absolute_percentage_error: 29.3704 - val_loss: 0.7365 - val_regularization_loss: 0.0000e+00 - val_total_loss: 0.7365\n",
            "Epoch 10/50\n",
            "10/10 [==============================] - 1s 63ms/step - mean_absolute_percentage_error: 28.9142 - loss: 0.7108 - regularization_loss: 0.0000e+00 - total_loss: 0.7108 - val_mean_absolute_percentage_error: 29.9160 - val_loss: 0.7356 - val_regularization_loss: 0.0000e+00 - val_total_loss: 0.7356\n",
            "Epoch 11/50\n",
            "10/10 [==============================] - 1s 60ms/step - mean_absolute_percentage_error: 28.9706 - loss: 0.7094 - regularization_loss: 0.0000e+00 - total_loss: 0.7094 - val_mean_absolute_percentage_error: 29.5195 - val_loss: 0.7342 - val_regularization_loss: 0.0000e+00 - val_total_loss: 0.7342\n",
            "Epoch 12/50\n",
            "10/10 [==============================] - 1s 54ms/step - mean_absolute_percentage_error: 28.9176 - loss: 0.7084 - regularization_loss: 0.0000e+00 - total_loss: 0.7084 - val_mean_absolute_percentage_error: 29.5455 - val_loss: 0.7336 - val_regularization_loss: 0.0000e+00 - val_total_loss: 0.7336\n",
            "Epoch 13/50\n",
            "10/10 [==============================] - 1s 60ms/step - mean_absolute_percentage_error: 28.8412 - loss: 0.7078 - regularization_loss: 0.0000e+00 - total_loss: 0.7078 - val_mean_absolute_percentage_error: 29.6678 - val_loss: 0.7334 - val_regularization_loss: 0.0000e+00 - val_total_loss: 0.7334\n",
            "Epoch 14/50\n",
            "10/10 [==============================] - 1s 101ms/step - mean_absolute_percentage_error: 28.7885 - loss: 0.7073 - regularization_loss: 0.0000e+00 - total_loss: 0.7073 - val_mean_absolute_percentage_error: 29.6403 - val_loss: 0.7333 - val_regularization_loss: 0.0000e+00 - val_total_loss: 0.7333\n",
            "Epoch 15/50\n",
            "10/10 [==============================] - 1s 77ms/step - mean_absolute_percentage_error: 28.8034 - loss: 0.7072 - regularization_loss: 0.0000e+00 - total_loss: 0.7072 - val_mean_absolute_percentage_error: 29.4407 - val_loss: 0.7333 - val_regularization_loss: 0.0000e+00 - val_total_loss: 0.7333\n",
            "Epoch 16/50\n",
            "10/10 [==============================] - 1s 59ms/step - mean_absolute_percentage_error: 28.8178 - loss: 0.7070 - regularization_loss: 0.0000e+00 - total_loss: 0.7070 - val_mean_absolute_percentage_error: 29.3938 - val_loss: 0.7334 - val_regularization_loss: 0.0000e+00 - val_total_loss: 0.7334\n",
            "Epoch 17/50\n",
            "10/10 [==============================] - 1s 55ms/step - mean_absolute_percentage_error: 28.7741 - loss: 0.7068 - regularization_loss: 0.0000e+00 - total_loss: 0.7068 - val_mean_absolute_percentage_error: 29.6424 - val_loss: 0.7332 - val_regularization_loss: 0.0000e+00 - val_total_loss: 0.7332\n",
            "Epoch 18/50\n",
            "10/10 [==============================] - 1s 62ms/step - mean_absolute_percentage_error: 28.6797 - loss: 0.7064 - regularization_loss: 0.0000e+00 - total_loss: 0.7064 - val_mean_absolute_percentage_error: 29.8102 - val_loss: 0.7341 - val_regularization_loss: 0.0000e+00 - val_total_loss: 0.7341\n",
            "Epoch 19/50\n",
            "10/10 [==============================] - 1s 63ms/step - mean_absolute_percentage_error: 28.6994 - loss: 0.7068 - regularization_loss: 0.0000e+00 - total_loss: 0.7068 - val_mean_absolute_percentage_error: 29.5026 - val_loss: 0.7331 - val_regularization_loss: 0.0000e+00 - val_total_loss: 0.7331\n",
            "Epoch 20/50\n",
            "10/10 [==============================] - 1s 54ms/step - mean_absolute_percentage_error: 28.7740 - loss: 0.7070 - regularization_loss: 0.0000e+00 - total_loss: 0.7070 - val_mean_absolute_percentage_error: 29.1944 - val_loss: 0.7342 - val_regularization_loss: 0.0000e+00 - val_total_loss: 0.7342\n",
            "Epoch 21/50\n",
            "10/10 [==============================] - 1s 63ms/step - mean_absolute_percentage_error: 28.7709 - loss: 0.7068 - regularization_loss: 0.0000e+00 - total_loss: 0.7068 - val_mean_absolute_percentage_error: 29.3438 - val_loss: 0.7333 - val_regularization_loss: 0.0000e+00 - val_total_loss: 0.7333\n",
            "Epoch 22/50\n",
            "10/10 [==============================] - 0s 33ms/step - mean_absolute_percentage_error: 28.6583 - loss: 0.7064 - regularization_loss: 0.0000e+00 - total_loss: 0.7064 - val_mean_absolute_percentage_error: 29.7696 - val_loss: 0.7336 - val_regularization_loss: 0.0000e+00 - val_total_loss: 0.7336\n",
            "Epoch 23/50\n",
            "10/10 [==============================] - 0s 33ms/step - mean_absolute_percentage_error: 28.5891 - loss: 0.7060 - regularization_loss: 0.0000e+00 - total_loss: 0.7060 - val_mean_absolute_percentage_error: 29.8976 - val_loss: 0.7337 - val_regularization_loss: 0.0000e+00 - val_total_loss: 0.7337\n",
            "Epoch 24/50\n",
            "10/10 [==============================] - 0s 32ms/step - mean_absolute_percentage_error: 28.6638 - loss: 0.7067 - regularization_loss: 0.0000e+00 - total_loss: 0.7067 - val_mean_absolute_percentage_error: 29.4913 - val_loss: 0.7329 - val_regularization_loss: 0.0000e+00 - val_total_loss: 0.7329\n",
            "Epoch 25/50\n",
            "10/10 [==============================] - 0s 33ms/step - mean_absolute_percentage_error: 28.7046 - loss: 0.7069 - regularization_loss: 0.0000e+00 - total_loss: 0.7069 - val_mean_absolute_percentage_error: 29.1243 - val_loss: 0.7345 - val_regularization_loss: 0.0000e+00 - val_total_loss: 0.7345\n",
            "Epoch 26/50\n",
            "10/10 [==============================] - 0s 33ms/step - mean_absolute_percentage_error: 28.7113 - loss: 0.7064 - regularization_loss: 0.0000e+00 - total_loss: 0.7064 - val_mean_absolute_percentage_error: 29.1357 - val_loss: 0.7340 - val_regularization_loss: 0.0000e+00 - val_total_loss: 0.7340\n",
            "Epoch 27/50\n",
            "10/10 [==============================] - 0s 33ms/step - mean_absolute_percentage_error: 28.6384 - loss: 0.7061 - regularization_loss: 0.0000e+00 - total_loss: 0.7061 - val_mean_absolute_percentage_error: 29.4598 - val_loss: 0.7321 - val_regularization_loss: 0.0000e+00 - val_total_loss: 0.7321\n",
            "Epoch 28/50\n",
            "10/10 [==============================] - 0s 33ms/step - mean_absolute_percentage_error: 28.5381 - loss: 0.7055 - regularization_loss: 0.0000e+00 - total_loss: 0.7055 - val_mean_absolute_percentage_error: 29.8292 - val_loss: 0.7340 - val_regularization_loss: 0.0000e+00 - val_total_loss: 0.7340\n",
            "Epoch 29/50\n",
            "10/10 [==============================] - 0s 33ms/step - mean_absolute_percentage_error: 28.5079 - loss: 0.7052 - regularization_loss: 0.0000e+00 - total_loss: 0.7052 - val_mean_absolute_percentage_error: 29.8446 - val_loss: 0.7347 - val_regularization_loss: 0.0000e+00 - val_total_loss: 0.7347\n",
            "Epoch 30/50\n",
            "10/10 [==============================] - 0s 33ms/step - mean_absolute_percentage_error: 28.5545 - loss: 0.7058 - regularization_loss: 0.0000e+00 - total_loss: 0.7058 - val_mean_absolute_percentage_error: 29.4978 - val_loss: 0.7333 - val_regularization_loss: 0.0000e+00 - val_total_loss: 0.7333\n",
            "Epoch 31/50\n",
            "10/10 [==============================] - 0s 32ms/step - mean_absolute_percentage_error: 28.5940 - loss: 0.7064 - regularization_loss: 0.0000e+00 - total_loss: 0.7064 - val_mean_absolute_percentage_error: 29.1180 - val_loss: 0.7336 - val_regularization_loss: 0.0000e+00 - val_total_loss: 0.7336\n",
            "Epoch 32/50\n",
            "10/10 [==============================] - 0s 42ms/step - mean_absolute_percentage_error: 28.5985 - loss: 0.7058 - regularization_loss: 0.0000e+00 - total_loss: 0.7058 - val_mean_absolute_percentage_error: 28.9572 - val_loss: 0.7354 - val_regularization_loss: 0.0000e+00 - val_total_loss: 0.7354\n",
            "Epoch 33/50\n",
            "10/10 [==============================] - 1s 51ms/step - mean_absolute_percentage_error: 28.5898 - loss: 0.7054 - regularization_loss: 0.0000e+00 - total_loss: 0.7054 - val_mean_absolute_percentage_error: 29.0530 - val_loss: 0.7337 - val_regularization_loss: 0.0000e+00 - val_total_loss: 0.7337\n",
            "Epoch 34/50\n",
            "10/10 [==============================] - 0s 49ms/step - mean_absolute_percentage_error: 28.5297 - loss: 0.7052 - regularization_loss: 0.0000e+00 - total_loss: 0.7052 - val_mean_absolute_percentage_error: 29.3966 - val_loss: 0.7325 - val_regularization_loss: 0.0000e+00 - val_total_loss: 0.7325\n",
            "Epoch 35/50\n",
            "10/10 [==============================] - 0s 32ms/step - mean_absolute_percentage_error: 28.4516 - loss: 0.7046 - regularization_loss: 0.0000e+00 - total_loss: 0.7046 - val_mean_absolute_percentage_error: 29.7938 - val_loss: 0.7339 - val_regularization_loss: 0.0000e+00 - val_total_loss: 0.7339\n",
            "Epoch 36/50\n",
            "10/10 [==============================] - 0s 32ms/step - mean_absolute_percentage_error: 28.4134 - loss: 0.7042 - regularization_loss: 0.0000e+00 - total_loss: 0.7042 - val_mean_absolute_percentage_error: 29.9173 - val_loss: 0.7351 - val_regularization_loss: 0.0000e+00 - val_total_loss: 0.7351\n",
            "Epoch 37/50\n",
            "10/10 [==============================] - 0s 32ms/step - mean_absolute_percentage_error: 28.4565 - loss: 0.7045 - regularization_loss: 0.0000e+00 - total_loss: 0.7045 - val_mean_absolute_percentage_error: 29.6403 - val_loss: 0.7341 - val_regularization_loss: 0.0000e+00 - val_total_loss: 0.7341\n",
            "Epoch 38/50\n",
            "10/10 [==============================] - 0s 33ms/step - mean_absolute_percentage_error: 28.5014 - loss: 0.7052 - regularization_loss: 0.0000e+00 - total_loss: 0.7052 - val_mean_absolute_percentage_error: 29.2480 - val_loss: 0.7325 - val_regularization_loss: 0.0000e+00 - val_total_loss: 0.7325\n",
            "Epoch 39/50\n",
            "10/10 [==============================] - 0s 34ms/step - mean_absolute_percentage_error: 28.5149 - loss: 0.7050 - regularization_loss: 0.0000e+00 - total_loss: 0.7050 - val_mean_absolute_percentage_error: 28.9540 - val_loss: 0.7340 - val_regularization_loss: 0.0000e+00 - val_total_loss: 0.7340\n",
            "Epoch 40/50\n",
            "10/10 [==============================] - 0s 33ms/step - mean_absolute_percentage_error: 28.5104 - loss: 0.7043 - regularization_loss: 0.0000e+00 - total_loss: 0.7043 - val_mean_absolute_percentage_error: 28.8691 - val_loss: 0.7348 - val_regularization_loss: 0.0000e+00 - val_total_loss: 0.7348\n",
            "Epoch 41/50\n",
            "10/10 [==============================] - 0s 33ms/step - mean_absolute_percentage_error: 28.4821 - loss: 0.7037 - regularization_loss: 0.0000e+00 - total_loss: 0.7037 - val_mean_absolute_percentage_error: 29.0258 - val_loss: 0.7328 - val_regularization_loss: 0.0000e+00 - val_total_loss: 0.7328\n",
            "Epoch 42/50\n",
            "10/10 [==============================] - 0s 33ms/step - mean_absolute_percentage_error: 28.4211 - loss: 0.7031 - regularization_loss: 0.0000e+00 - total_loss: 0.7031 - val_mean_absolute_percentage_error: 29.3821 - val_loss: 0.7316 - val_regularization_loss: 0.0000e+00 - val_total_loss: 0.7316\n",
            "Epoch 43/50\n",
            "10/10 [==============================] - 0s 32ms/step - mean_absolute_percentage_error: 28.3353 - loss: 0.7021 - regularization_loss: 0.0000e+00 - total_loss: 0.7021 - val_mean_absolute_percentage_error: 29.7582 - val_loss: 0.7328 - val_regularization_loss: 0.0000e+00 - val_total_loss: 0.7328\n",
            "Epoch 44/50\n",
            "10/10 [==============================] - 0s 32ms/step - mean_absolute_percentage_error: 28.2940 - loss: 0.7012 - regularization_loss: 0.0000e+00 - total_loss: 0.7012 - val_mean_absolute_percentage_error: 29.8815 - val_loss: 0.7334 - val_regularization_loss: 0.0000e+00 - val_total_loss: 0.7334\n",
            "Epoch 45/50\n",
            "10/10 [==============================] - 0s 33ms/step - mean_absolute_percentage_error: 28.3018 - loss: 0.7009 - regularization_loss: 0.0000e+00 - total_loss: 0.7009 - val_mean_absolute_percentage_error: 29.6729 - val_loss: 0.7320 - val_regularization_loss: 0.0000e+00 - val_total_loss: 0.7320\n",
            "Epoch 46/50\n",
            "10/10 [==============================] - 0s 32ms/step - mean_absolute_percentage_error: 28.3004 - loss: 0.7007 - regularization_loss: 0.0000e+00 - total_loss: 0.7007 - val_mean_absolute_percentage_error: 29.3083 - val_loss: 0.7293 - val_regularization_loss: 0.0000e+00 - val_total_loss: 0.7293\n",
            "Epoch 47/50\n",
            "10/10 [==============================] - 0s 34ms/step - mean_absolute_percentage_error: 28.2830 - loss: 0.7001 - regularization_loss: 0.0000e+00 - total_loss: 0.7001 - val_mean_absolute_percentage_error: 28.9098 - val_loss: 0.7287 - val_regularization_loss: 0.0000e+00 - val_total_loss: 0.7287\n",
            "Epoch 48/50\n",
            "10/10 [==============================] - 0s 33ms/step - mean_absolute_percentage_error: 28.2467 - loss: 0.6984 - regularization_loss: 0.0000e+00 - total_loss: 0.6984 - val_mean_absolute_percentage_error: 28.6418 - val_loss: 0.7305 - val_regularization_loss: 0.0000e+00 - val_total_loss: 0.7305\n",
            "Epoch 49/50\n",
            "10/10 [==============================] - 0s 34ms/step - mean_absolute_percentage_error: 28.1867 - loss: 0.6966 - regularization_loss: 0.0000e+00 - total_loss: 0.6966 - val_mean_absolute_percentage_error: 28.6223 - val_loss: 0.7291 - val_regularization_loss: 0.0000e+00 - val_total_loss: 0.7291\n",
            "Epoch 50/50\n",
            "10/10 [==============================] - 0s 33ms/step - mean_absolute_percentage_error: 28.0821 - loss: 0.6952 - regularization_loss: 0.0000e+00 - total_loss: 0.6952 - val_mean_absolute_percentage_error: 28.8990 - val_loss: 0.7255 - val_regularization_loss: 0.0000e+00 - val_total_loss: 0.7255\n"
          ]
        }
      ]
    },
    {
      "cell_type": "code",
      "source": [
        "# Plot the mean absolute percentage error and total loss\n",
        "plt.plot(history.history['mean_absolute_percentage_error'], label='Mean Absolute Percentage Error')\n",
        "plt.xlabel('Epoch')\n",
        "plt.ylabel('Mean Absolute Percentage Error')\n",
        "plt.legend()\n",
        "plt.show()"
      ],
      "metadata": {
        "colab": {
          "base_uri": "https://localhost:8080/",
          "height": 279
        },
        "id": "zg1KENrSnblF",
        "outputId": "8bd471bc-3f19-4b2f-800f-9e97a7fe254a"
      },
      "execution_count": 19,
      "outputs": [
        {
          "output_type": "display_data",
          "data": {
            "text/plain": [
              "<Figure size 432x288 with 1 Axes>"
            ],
            "image/png": "[encoded data removed]"
          },
          "metadata": {
            "needs_background": "light"
          }
        }
      ]
    },
    {
      "cell_type": "code",
      "source": [
        "# Plot the mean absolute error and total loss\n",
        "plt.plot(history.history['loss'], label='Total Loss')\n",
        "plt.xlabel('Epoch')\n",
        "plt.ylabel('Total Loss')\n",
        "plt.legend()\n",
        "plt.show()"
      ],
      "metadata": {
        "colab": {
          "base_uri": "https://localhost:8080/",
          "height": 279
        },
        "id": "jqVCOoLdp2Ef",
        "outputId": "4f1541c5-4944-4344-a7c4-ad6f7cb383f1"
      },
      "execution_count": 20,
      "outputs": [
        {
          "output_type": "display_data",
          "data": {
            "text/plain": [
              "<Figure size 432x288 with 1 Axes>"
            ],
            "image/png": "[encoded data removed]"
          },
          "metadata": {
            "needs_background": "light"
          }
        }
      ]
    },
    {
      "cell_type": "code",
      "source": [
        "model.evaluate(cached_test, return_dict=True)"
      ],
      "metadata": {
        "colab": {
          "base_uri": "https://localhost:8080/"
        },
        "id": "UmWycLh_iNK8",
        "outputId": "c61bc5f0-3992-4508-ab51-31610a53bfc3"
      },
      "execution_count": 21,
      "outputs": [
        {
          "output_type": "stream",
          "name": "stdout",
          "text": [
            "5/5 [==============================] - 0s 5ms/step - mean_absolute_percentage_error: 28.8990 - loss: 0.7265 - regularization_loss: 0.0000e+00 - total_loss: 0.7265\n"
          ]
        },
        {
          "output_type": "execute_result",
          "data": {
            "text/plain": [
              "{'mean_absolute_percentage_error': 28.898956298828125,\n",
              " 'loss': 0.7254838943481445,\n",
              " 'regularization_loss': 0,\n",
              " 'total_loss': 0.7254838943481445}"
            ]
          },
          "metadata": {},
          "execution_count": 21
        }
      ]
    },
    {
      "cell_type": "markdown",
      "source": [
        "# Model testing"
      ],
      "metadata": {
        "id": "Np94Wy_8rmLy"
      }
    },
    {
      "cell_type": "code",
      "source": [
        "# Show a random list of movies rated by user 33\n",
        "user_id = df[df['user_id'] == 33]\n",
        "user_random_movies = user_id.sample(n=min(10, len(user_id)), random_state=5)\n",
        "print(user_random_movies)"
      ],
      "metadata": {
        "colab": {
          "base_uri": "https://localhost:8080/"
        },
        "id": "3fxgYwciDa9u",
        "outputId": "09c798c3-c696-46e3-ae58-a2bd09cf28cd"
      },
      "execution_count": 22,
      "outputs": [
        {
          "output_type": "stream",
          "name": "stdout",
          "text": [
            "                                  movie_title  user_id  user_rating\n",
            "85650                     Dante's Peak (1997)       33          4.0\n",
            "3511                         Liar Liar (1997)       33          3.0\n",
            "75515                 Devil's Own, The (1997)       33          3.0\n",
            "81744                         Mad City (1997)       33          3.0\n",
            "84498                        Game, The (1997)       33          4.0\n",
            "90376                Conspiracy Theory (1997)       33          4.0\n",
            "56824                        Soul Food (1997)       33          3.0\n",
            "41916                          Contact (1997)       33          4.0\n",
            "9730               Tomorrow Never Dies (1997)       33          4.0\n",
            "2992   I Know What You Did Last Summer (1997)       33          4.0\n"
          ]
        }
      ]
    },
    {
      "cell_type": "markdown",
      "source": [
        "### Save and interact with the model "
      ],
      "metadata": {
        "id": "NpHzW806waUH"
      }
    },
    {
      "cell_type": "code",
      "source": [
        "tf.saved_model.save(model, \"MovieRankingModel\")"
      ],
      "metadata": {
        "id": "rv_4avYNgfaz",
        "colab": {
          "base_uri": "https://localhost:8080/"
        },
        "outputId": "aea386e6-f0dd-4b7d-f9df-429196dfecca"
      },
      "execution_count": 23,
      "outputs": [
        {
          "output_type": "stream",
          "name": "stderr",
          "text": [
            "WARNING:absl:Found untraced functions such as ranking_1_layer_call_fn, ranking_1_layer_call_and_return_conditional_losses, _update_step_xla while saving (showing 3 of 3). These functions will not be directly callable after loading.\n"
          ]
        }
      ]
    },
    {
      "cell_type": "code",
      "source": [
        "MovieRankingsPredict = tf.saved_model.load(\"MovieRankingModel\")"
      ],
      "metadata": {
        "id": "e-eDXcqtvbnh"
      },
      "execution_count": 24,
      "outputs": []
    },
    {
      "cell_type": "code",
      "source": [
        "# extract movie titles from the dataset\n",
        "movies = ratings.map(lambda x: x[\"movie_title\"])\n",
        "movies = set([str(x.numpy().decode()) for x in movies])"
      ],
      "metadata": {
        "id": "pv70tup_BEr5"
      },
      "execution_count": 25,
      "outputs": []
    },
    {
      "cell_type": "code",
      "source": [
        "import random\n",
        "\n",
        "user_pred = input(\"Enter a user id: \")\n",
        "\n",
        "# generate a random subset of movie titles\n",
        "random_movies = random.sample(movies, 10)\n",
        "\n",
        "result = {}\n",
        "for movie_title in random_movies:\n",
        "    result[movie_title] = MovieRankingsPredict({\n",
        "        \"user_id\": np.array([user_pred]),\n",
        "        \"movie_title\": np.array([movie_title])\n",
        "    })\n",
        "\n",
        "print(f\"\\n- User \" + user_pred + \"'s predicted ratings for 10 random movies: \")\n",
        "for title, score in sorted(result.items(), key=lambda x: x[1], reverse=True):\n",
        "    print(f\"{title}: {score.numpy()[0][0]}\")"
      ],
      "metadata": {
        "colab": {
          "base_uri": "https://localhost:8080/"
        },
        "id": "MbClnJgEQBWH",
        "outputId": "bfeb1cbe-dc8b-4c00-aaa4-902685b87523"
      },
      "execution_count": 26,
      "outputs": [
        {
          "output_type": "stream",
          "name": "stdout",
          "text": [
            "Enter a user id: 33\n",
            "\n",
            "- User 33's predicted ratings for 10 random movies: \n",
            "Quiet Room, The (1996): 4.366078853607178\n",
            "Fast, Cheap & Out of Control (1997): 4.170469284057617\n",
            "Adventures of Robin Hood, The (1938): 4.114421367645264\n",
            "Little Princess, The (1939): 3.8604559898376465\n",
            "Bulletproof (1996): 3.385737657546997\n",
            "Mixed Nuts (1994): 2.890211820602417\n",
            "Etz Hadomim Tafus (Under the Domin Tree) (1994): 2.759622573852539\n",
            "Big Bully (1996): 2.396414041519165\n",
            "Phat Beach (1996): 2.0028111934661865\n",
            "Tough and Deadly (1995): 1.5510845184326172\n"
          ]
        }
      ]
    }
  ]
}